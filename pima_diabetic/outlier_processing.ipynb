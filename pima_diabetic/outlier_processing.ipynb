{
 "cells": [
  {
   "cell_type": "code",
   "execution_count": 1,
   "metadata": {},
   "outputs": [],
   "source": [
    "from IPython.core.interactiveshell import InteractiveShell\n",
    "\n",
    "InteractiveShell.ast_node_interactivity = \"all\""
   ]
  },
  {
   "cell_type": "code",
   "execution_count": 2,
   "metadata": {},
   "outputs": [],
   "source": [
    "import numpy as np\n",
    "import pandas as pd\n",
    "import seaborn as sns  # noqa\n",
    "from matplotlib import pyplot as plt  # noqa"
   ]
  },
  {
   "cell_type": "code",
   "execution_count": 3,
   "metadata": {},
   "outputs": [
    {
     "data": {
      "text/plain": [
       "Index(['Pregnancies', 'Glucose', 'BloodPressure', 'SkinThickness', 'Insulin',\n",
       "       'BMI', 'DiabetesPedigreeFunction', 'Age', 'Outcome'],\n",
       "      dtype='object')"
      ]
     },
     "execution_count": 3,
     "metadata": {},
     "output_type": "execute_result"
    },
    {
     "data": {
      "text/html": [
       "<div>\n",
       "<style scoped>\n",
       "    .dataframe tbody tr th:only-of-type {\n",
       "        vertical-align: middle;\n",
       "    }\n",
       "\n",
       "    .dataframe tbody tr th {\n",
       "        vertical-align: top;\n",
       "    }\n",
       "\n",
       "    .dataframe thead th {\n",
       "        text-align: right;\n",
       "    }\n",
       "</style>\n",
       "<table border=\"1\" class=\"dataframe\">\n",
       "  <thead>\n",
       "    <tr style=\"text-align: right;\">\n",
       "      <th></th>\n",
       "      <th>Pregnancies</th>\n",
       "      <th>Glucose</th>\n",
       "      <th>BloodPressure</th>\n",
       "      <th>SkinThickness</th>\n",
       "      <th>Insulin</th>\n",
       "      <th>BMI</th>\n",
       "      <th>DiabetesPedigreeFunction</th>\n",
       "      <th>Age</th>\n",
       "      <th>Outcome</th>\n",
       "    </tr>\n",
       "  </thead>\n",
       "  <tbody>\n",
       "    <tr>\n",
       "      <th>0</th>\n",
       "      <td>6</td>\n",
       "      <td>148</td>\n",
       "      <td>72</td>\n",
       "      <td>35</td>\n",
       "      <td>0</td>\n",
       "      <td>33.6</td>\n",
       "      <td>0.627</td>\n",
       "      <td>50</td>\n",
       "      <td>1</td>\n",
       "    </tr>\n",
       "    <tr>\n",
       "      <th>1</th>\n",
       "      <td>1</td>\n",
       "      <td>85</td>\n",
       "      <td>66</td>\n",
       "      <td>29</td>\n",
       "      <td>0</td>\n",
       "      <td>26.6</td>\n",
       "      <td>0.351</td>\n",
       "      <td>31</td>\n",
       "      <td>0</td>\n",
       "    </tr>\n",
       "    <tr>\n",
       "      <th>2</th>\n",
       "      <td>8</td>\n",
       "      <td>183</td>\n",
       "      <td>64</td>\n",
       "      <td>0</td>\n",
       "      <td>0</td>\n",
       "      <td>23.3</td>\n",
       "      <td>0.672</td>\n",
       "      <td>32</td>\n",
       "      <td>1</td>\n",
       "    </tr>\n",
       "    <tr>\n",
       "      <th>3</th>\n",
       "      <td>1</td>\n",
       "      <td>89</td>\n",
       "      <td>66</td>\n",
       "      <td>23</td>\n",
       "      <td>94</td>\n",
       "      <td>28.1</td>\n",
       "      <td>0.167</td>\n",
       "      <td>21</td>\n",
       "      <td>0</td>\n",
       "    </tr>\n",
       "    <tr>\n",
       "      <th>4</th>\n",
       "      <td>0</td>\n",
       "      <td>137</td>\n",
       "      <td>40</td>\n",
       "      <td>35</td>\n",
       "      <td>168</td>\n",
       "      <td>43.1</td>\n",
       "      <td>2.288</td>\n",
       "      <td>33</td>\n",
       "      <td>1</td>\n",
       "    </tr>\n",
       "  </tbody>\n",
       "</table>\n",
       "</div>"
      ],
      "text/plain": [
       "   Pregnancies  Glucose  BloodPressure  SkinThickness  Insulin   BMI  \\\n",
       "0            6      148             72             35        0  33.6   \n",
       "1            1       85             66             29        0  26.6   \n",
       "2            8      183             64              0        0  23.3   \n",
       "3            1       89             66             23       94  28.1   \n",
       "4            0      137             40             35      168  43.1   \n",
       "\n",
       "   DiabetesPedigreeFunction  Age  Outcome  \n",
       "0                     0.627   50        1  \n",
       "1                     0.351   31        0  \n",
       "2                     0.672   32        1  \n",
       "3                     0.167   21        0  \n",
       "4                     2.288   33        1  "
      ]
     },
     "execution_count": 3,
     "metadata": {},
     "output_type": "execute_result"
    }
   ],
   "source": [
    "df = pd.read_csv(\"dataset/diabetes.csv\")\n",
    "df.columns\n",
    "df.head(5)"
   ]
  },
  {
   "cell_type": "code",
   "execution_count": 4,
   "metadata": {},
   "outputs": [
    {
     "data": {
      "text/html": [
       "<div>\n",
       "<style scoped>\n",
       "    .dataframe tbody tr th:only-of-type {\n",
       "        vertical-align: middle;\n",
       "    }\n",
       "\n",
       "    .dataframe tbody tr th {\n",
       "        vertical-align: top;\n",
       "    }\n",
       "\n",
       "    .dataframe thead th {\n",
       "        text-align: right;\n",
       "    }\n",
       "</style>\n",
       "<table border=\"1\" class=\"dataframe\">\n",
       "  <thead>\n",
       "    <tr style=\"text-align: right;\">\n",
       "      <th></th>\n",
       "      <th>Pregnancies</th>\n",
       "      <th>Glucose</th>\n",
       "      <th>BloodPressure</th>\n",
       "      <th>SkinThickness</th>\n",
       "      <th>Insulin</th>\n",
       "      <th>BMI</th>\n",
       "      <th>DiabetesPedigreeFunction</th>\n",
       "      <th>Age</th>\n",
       "      <th>Outcome</th>\n",
       "    </tr>\n",
       "  </thead>\n",
       "  <tbody>\n",
       "    <tr>\n",
       "      <th>count</th>\n",
       "      <td>768.000000</td>\n",
       "      <td>768.000000</td>\n",
       "      <td>768.000000</td>\n",
       "      <td>768.000000</td>\n",
       "      <td>768.000000</td>\n",
       "      <td>768.000000</td>\n",
       "      <td>768.000000</td>\n",
       "      <td>768.000000</td>\n",
       "      <td>768.000000</td>\n",
       "    </tr>\n",
       "    <tr>\n",
       "      <th>mean</th>\n",
       "      <td>3.845052</td>\n",
       "      <td>120.894531</td>\n",
       "      <td>69.105469</td>\n",
       "      <td>20.536458</td>\n",
       "      <td>79.799479</td>\n",
       "      <td>31.992578</td>\n",
       "      <td>0.471876</td>\n",
       "      <td>33.240885</td>\n",
       "      <td>0.348958</td>\n",
       "    </tr>\n",
       "    <tr>\n",
       "      <th>std</th>\n",
       "      <td>3.369578</td>\n",
       "      <td>31.972618</td>\n",
       "      <td>19.355807</td>\n",
       "      <td>15.952218</td>\n",
       "      <td>115.244002</td>\n",
       "      <td>7.884160</td>\n",
       "      <td>0.331329</td>\n",
       "      <td>11.760232</td>\n",
       "      <td>0.476951</td>\n",
       "    </tr>\n",
       "    <tr>\n",
       "      <th>min</th>\n",
       "      <td>0.000000</td>\n",
       "      <td>0.000000</td>\n",
       "      <td>0.000000</td>\n",
       "      <td>0.000000</td>\n",
       "      <td>0.000000</td>\n",
       "      <td>0.000000</td>\n",
       "      <td>0.078000</td>\n",
       "      <td>21.000000</td>\n",
       "      <td>0.000000</td>\n",
       "    </tr>\n",
       "    <tr>\n",
       "      <th>25%</th>\n",
       "      <td>1.000000</td>\n",
       "      <td>99.000000</td>\n",
       "      <td>62.000000</td>\n",
       "      <td>0.000000</td>\n",
       "      <td>0.000000</td>\n",
       "      <td>27.300000</td>\n",
       "      <td>0.243750</td>\n",
       "      <td>24.000000</td>\n",
       "      <td>0.000000</td>\n",
       "    </tr>\n",
       "    <tr>\n",
       "      <th>50%</th>\n",
       "      <td>3.000000</td>\n",
       "      <td>117.000000</td>\n",
       "      <td>72.000000</td>\n",
       "      <td>23.000000</td>\n",
       "      <td>30.500000</td>\n",
       "      <td>32.000000</td>\n",
       "      <td>0.372500</td>\n",
       "      <td>29.000000</td>\n",
       "      <td>0.000000</td>\n",
       "    </tr>\n",
       "    <tr>\n",
       "      <th>75%</th>\n",
       "      <td>6.000000</td>\n",
       "      <td>140.250000</td>\n",
       "      <td>80.000000</td>\n",
       "      <td>32.000000</td>\n",
       "      <td>127.250000</td>\n",
       "      <td>36.600000</td>\n",
       "      <td>0.626250</td>\n",
       "      <td>41.000000</td>\n",
       "      <td>1.000000</td>\n",
       "    </tr>\n",
       "    <tr>\n",
       "      <th>max</th>\n",
       "      <td>17.000000</td>\n",
       "      <td>199.000000</td>\n",
       "      <td>122.000000</td>\n",
       "      <td>99.000000</td>\n",
       "      <td>846.000000</td>\n",
       "      <td>67.100000</td>\n",
       "      <td>2.420000</td>\n",
       "      <td>81.000000</td>\n",
       "      <td>1.000000</td>\n",
       "    </tr>\n",
       "  </tbody>\n",
       "</table>\n",
       "</div>"
      ],
      "text/plain": [
       "       Pregnancies     Glucose  BloodPressure  SkinThickness     Insulin  \\\n",
       "count   768.000000  768.000000     768.000000     768.000000  768.000000   \n",
       "mean      3.845052  120.894531      69.105469      20.536458   79.799479   \n",
       "std       3.369578   31.972618      19.355807      15.952218  115.244002   \n",
       "min       0.000000    0.000000       0.000000       0.000000    0.000000   \n",
       "25%       1.000000   99.000000      62.000000       0.000000    0.000000   \n",
       "50%       3.000000  117.000000      72.000000      23.000000   30.500000   \n",
       "75%       6.000000  140.250000      80.000000      32.000000  127.250000   \n",
       "max      17.000000  199.000000     122.000000      99.000000  846.000000   \n",
       "\n",
       "              BMI  DiabetesPedigreeFunction         Age     Outcome  \n",
       "count  768.000000                768.000000  768.000000  768.000000  \n",
       "mean    31.992578                  0.471876   33.240885    0.348958  \n",
       "std      7.884160                  0.331329   11.760232    0.476951  \n",
       "min      0.000000                  0.078000   21.000000    0.000000  \n",
       "25%     27.300000                  0.243750   24.000000    0.000000  \n",
       "50%     32.000000                  0.372500   29.000000    0.000000  \n",
       "75%     36.600000                  0.626250   41.000000    1.000000  \n",
       "max     67.100000                  2.420000   81.000000    1.000000  "
      ]
     },
     "execution_count": 4,
     "metadata": {},
     "output_type": "execute_result"
    }
   ],
   "source": [
    "df.describe()"
   ]
  },
  {
   "cell_type": "code",
   "execution_count": 5,
   "metadata": {},
   "outputs": [
    {
     "data": {
      "text/plain": [
       "((691, 8), (77, 8))"
      ]
     },
     "execution_count": 5,
     "metadata": {},
     "output_type": "execute_result"
    }
   ],
   "source": [
    "# split the dataset to training and testing set\n",
    "from sklearn.model_selection import train_test_split\n",
    "\n",
    "X = df.iloc[:, :-1]\n",
    "y = df.iloc[:, -1]\n",
    "\n",
    "X_train, X_test, y_train, y_test = train_test_split(\n",
    "    X, y, test_size=0.1, stratify=y, random_state=42\n",
    ")\n",
    "X_train.shape, X_test.shape"
   ]
  },
  {
   "cell_type": "code",
   "execution_count": 6,
   "metadata": {},
   "outputs": [],
   "source": [
    "def get_dataframe(X, y, columns):\n",
    "    return pd.DataFrame(np.c_[X, y], columns=columns)"
   ]
  },
  {
   "cell_type": "code",
   "execution_count": 7,
   "metadata": {},
   "outputs": [
    {
     "data": {
      "text/plain": [
       "(691, 9)"
      ]
     },
     "execution_count": 7,
     "metadata": {},
     "output_type": "execute_result"
    },
    {
     "name": "stdout",
     "output_type": "stream",
     "text": [
      "<class 'pandas.core.frame.DataFrame'>\n",
      "RangeIndex: 691 entries, 0 to 690\n",
      "Data columns (total 9 columns):\n",
      " #   Column                    Non-Null Count  Dtype  \n",
      "---  ------                    --------------  -----  \n",
      " 0   Pregnancies               691 non-null    float64\n",
      " 1   Glucose                   691 non-null    float64\n",
      " 2   BloodPressure             691 non-null    float64\n",
      " 3   SkinThickness             691 non-null    float64\n",
      " 4   Insulin                   691 non-null    float64\n",
      " 5   BMI                       691 non-null    float64\n",
      " 6   DiabetesPedigreeFunction  691 non-null    float64\n",
      " 7   Age                       691 non-null    float64\n",
      " 8   Outcome                   691 non-null    float64\n",
      "dtypes: float64(9)\n",
      "memory usage: 48.7 KB\n"
     ]
    }
   ],
   "source": [
    "df_train = get_dataframe(X_train, y_train, df.columns)\n",
    "df_train.shape\n",
    "df_train.info()"
   ]
  },
  {
   "cell_type": "code",
   "execution_count": 8,
   "metadata": {},
   "outputs": [
    {
     "data": {
      "text/plain": [
       "array([[<AxesSubplot:title={'center':'Pregnancies'}>,\n",
       "        <AxesSubplot:title={'center':'Glucose'}>,\n",
       "        <AxesSubplot:title={'center':'BloodPressure'}>],\n",
       "       [<AxesSubplot:title={'center':'SkinThickness'}>,\n",
       "        <AxesSubplot:title={'center':'Insulin'}>,\n",
       "        <AxesSubplot:title={'center':'BMI'}>],\n",
       "       [<AxesSubplot:title={'center':'DiabetesPedigreeFunction'}>,\n",
       "        <AxesSubplot:title={'center':'Age'}>,\n",
       "        <AxesSubplot:title={'center':'Outcome'}>]], dtype=object)"
      ]
     },
     "execution_count": 8,
     "metadata": {},
     "output_type": "execute_result"
    },
    {
     "data": {
      "image/png": "[encoded data removed]",
      "text/plain": [
       "<Figure size 1440x720 with 9 Axes>"
      ]
     },
     "metadata": {
      "needs_background": "light"
     },
     "output_type": "display_data"
    }
   ],
   "source": [
    "# plot the distribution of all the columns\n",
    "df_train.hist(figsize=(20, 10))"
   ]
  },
  {
   "cell_type": "markdown",
   "metadata": {},
   "source": [
    "## Custom Transformers"
   ]
  },
  {
   "cell_type": "code",
   "execution_count": 9,
   "metadata": {},
   "outputs": [],
   "source": [
    "from sklearn.base import BaseEstimator, TransformerMixin\n",
    "\n",
    "\n",
    "class LogTransformer(BaseEstimator, TransformerMixin):\n",
    "    def __init__(self):\n",
    "        pass\n",
    "\n",
    "    def fit(self, X, y):\n",
    "        return self\n",
    "\n",
    "    def transform(self, X):\n",
    "        return np.log(X)"
   ]
  },
  {
   "cell_type": "code",
   "execution_count": 10,
   "metadata": {},
   "outputs": [],
   "source": [
    "class NormalDistOutlierDetecter(BaseEstimator, TransformerMixin):\n",
    "    def __init__(self, lower_z, upper_z, alpha):\n",
    "        self.lower_z = lower_z\n",
    "        self.upper_z = upper_z\n",
    "        self.alpha = alpha\n",
    "\n",
    "    def fit(self, X, y):\n",
    "        self.normally_dist_columns_ = self._get_normally_distributed_columns(X)\n",
    "        return self\n",
    "\n",
    "    # find the columns with values whose distribution seem to be Gaussian\n",
    "    def _get_normally_distributed_columns(self, X):\n",
    "        normally_dist_cols = []\n",
    "        for col in X.columns:\n",
    "            feature = X.loc[:, col]\n",
    "            value_bins = min(feature.nunique(), 20)\n",
    "            distribution = pd.cut(feature, bins=value_bins).value_counts(sort=False).values\n",
    "            p_value = stats.normaltest(distribution)[1]\n",
    "            if p_value >= self.alpha:\n",
    "                normally_dist_cols.append(col)\n",
    "        return normally_dist_cols\n",
    "\n",
    "    def transform(self, X):\n",
    "        for col_name in self.normally_dist_columns_:\n",
    "            feature = X.loc[:, col_name]\n",
    "            feature.loc[\n",
    "                (stats.zscore(feature) < self.lower_z) | (stats.zscore(feature) > self.upper_z)\n",
    "            ] = np.nan\n",
    "            X.loc[:, col_name] = feature\n",
    "\n",
    "        return X"
   ]
  },
  {
   "cell_type": "code",
   "execution_count": 11,
   "metadata": {},
   "outputs": [],
   "source": [
    "class NonNormalDistOutlierDetecter(BaseEstimator, TransformerMixin):\n",
    "    def __init__(self, q1, q2, alpha):\n",
    "        self.q1 = q1\n",
    "        self.q2 = q2\n",
    "        self.alpha = alpha\n",
    "\n",
    "    # The lower and upper limit should be persisted if this is going to be used\n",
    "    # to transform the data in the testing set\n",
    "    def fit(self, X, y):\n",
    "        self.non_normal_dist_cols_ = self._get_non_normally_distributed_columns(X)\n",
    "        self.boundaries_ = {}\n",
    "        for col in self.non_normal_dist_cols_:\n",
    "            feature = X.loc[:, col]\n",
    "            lower_per_value = np.percentile(feature, self.q1)\n",
    "            upper_per_value = np.percentile(feature, self.q2)\n",
    "            iqr = upper_per_value - lower_per_value\n",
    "            lower_limit = lower_per_value - (iqr * 1.5)\n",
    "            upper_limit = upper_per_value + (iqr * 1.5)\n",
    "            self.boundaries_[col] = (lower_limit, upper_limit)\n",
    "        return self\n",
    "\n",
    "    # find the columns with values whose distribution seem to be Gaussian\n",
    "    def _get_non_normally_distributed_columns(self, X):\n",
    "        non_normally_dist_cols = []\n",
    "        for col in X.columns:\n",
    "            feature = X.loc[:, col]\n",
    "            value_bins = min(feature.nunique(), 20)\n",
    "            distribution = pd.cut(feature, bins=value_bins).value_counts(sort=False).values\n",
    "            p_value = stats.normaltest(distribution)[1]\n",
    "            if p_value < self.alpha:\n",
    "                non_normally_dist_cols.append(col)\n",
    "        return non_normally_dist_cols\n",
    "\n",
    "    def transform(self, X):\n",
    "        for col, boundary in self.boundaries_.items():\n",
    "            feature = X.loc[:, col]\n",
    "            feature.loc[feature < boundary[0]] = np.nan\n",
    "            feature.loc[feature > boundary[1]] = np.nan\n",
    "            X.loc[:, col] = feature\n",
    "        return X"
   ]
  },
  {
   "cell_type": "code",
   "execution_count": 12,
   "metadata": {},
   "outputs": [],
   "source": [
    "class FeatureOutlierDetector(BaseEstimator, TransformerMixin):\n",
    "    def __init__(self, q1, q2):\n",
    "        self.q1 = q1\n",
    "        self.q2 = q2\n",
    "\n",
    "    # The lower and upper limit should be persisted if this is going to be used\n",
    "    # to transform the data in the testing set\n",
    "    def fit(self, X, y):\n",
    "        self.boundaries_ = {}\n",
    "        for col in X.columns:\n",
    "            feature = X.loc[:, col]\n",
    "            lower_per_value = np.percentile(feature, self.q1)\n",
    "            upper_per_value = np.percentile(feature, self.q2)\n",
    "            iqr = upper_per_value - lower_per_value\n",
    "            lower_limit = lower_per_value - (iqr * 1.5)\n",
    "            upper_limit = upper_per_value + (iqr * 1.5)\n",
    "            self.boundaries_[col] = (lower_limit, upper_limit)\n",
    "        return self\n",
    "\n",
    "    def transform(self, X):\n",
    "        for col, boundary in self.boundaries_.items():\n",
    "            feature = X.loc[:, col]\n",
    "            feature.loc[feature < boundary[0]] = boundary[0]\n",
    "            feature.loc[feature > boundary[1]] = boundary[1]\n",
    "            X.loc[:, col] = feature\n",
    "        return X"
   ]
  },
  {
   "cell_type": "code",
   "execution_count": 13,
   "metadata": {},
   "outputs": [],
   "source": [
    "# Column Interactions transformer\n",
    "from typing import List, Mapping\n",
    "\n",
    "\n",
    "class FeatureInteractions(BaseEstimator, TransformerMixin):\n",
    "    def __init__(self, feature_interactions: Mapping[str, List[str]]):\n",
    "        self.feature_interactions = feature_interactions\n",
    "        self.added_columns_ = []\n",
    "\n",
    "    def fit(self, X, y):\n",
    "        return self\n",
    "\n",
    "    def transform(self, X):\n",
    "        for feat1 in self.feature_interactions:\n",
    "            for feat2 in self.feature_interactions[feat1]:\n",
    "                self.added_columns_.append(f\"{feat1}_{feat2}\")\n",
    "                X.loc[:, f\"{feat1}_{feat2}\"] = X[feat1] * X[feat2]\n",
    "        return X"
   ]
  },
  {
   "cell_type": "code",
   "execution_count": 14,
   "metadata": {},
   "outputs": [],
   "source": [
    "class ColumnStripper(BaseEstimator, TransformerMixin):\n",
    "    def __init__(self, columns_to_drop):\n",
    "        self.columns_to_drop = columns_to_drop\n",
    "\n",
    "    def fit(self, X, y):\n",
    "        return self\n",
    "\n",
    "    def transform(self, X):\n",
    "        return X.drop(columns=self.columns_to_drop)"
   ]
  },
  {
   "cell_type": "code",
   "execution_count": 15,
   "metadata": {},
   "outputs": [],
   "source": [
    "def perform_data_transformation(steps, X_train_t, y_train, feature_columns):\n",
    "    for name, transformer, cols in steps:\n",
    "        print(f\"current step: {name}\")\n",
    "        if cols == feature_columns:\n",
    "            X_train_t = pd.DataFrame(\n",
    "                transformer.fit_transform(X_train_t, y_train), columns=feature_columns\n",
    "            )\n",
    "        else:\n",
    "            X_train_t.loc[:, cols] = transformer.fit_transform(X_train_t.loc[:, cols], y_train)\n",
    "    return X_train_t"
   ]
  },
  {
   "cell_type": "code",
   "execution_count": 16,
   "metadata": {},
   "outputs": [
    {
     "name": "stdout",
     "output_type": "stream",
     "text": [
      "current step: missing_value_imputer\n",
      "current step: log_tranformer\n",
      "current step: feature_outlier_detector\n"
     ]
    },
    {
     "data": {
      "text/plain": [
       "(691, 8)"
      ]
     },
     "execution_count": 16,
     "metadata": {},
     "output_type": "execute_result"
    },
    {
     "data": {
      "text/html": [
       "<div>\n",
       "<style scoped>\n",
       "    .dataframe tbody tr th:only-of-type {\n",
       "        vertical-align: middle;\n",
       "    }\n",
       "\n",
       "    .dataframe tbody tr th {\n",
       "        vertical-align: top;\n",
       "    }\n",
       "\n",
       "    .dataframe thead th {\n",
       "        text-align: right;\n",
       "    }\n",
       "</style>\n",
       "<table border=\"1\" class=\"dataframe\">\n",
       "  <thead>\n",
       "    <tr style=\"text-align: right;\">\n",
       "      <th></th>\n",
       "      <th>Pregnancies</th>\n",
       "      <th>Glucose</th>\n",
       "      <th>BloodPressure</th>\n",
       "      <th>SkinThickness</th>\n",
       "      <th>Insulin</th>\n",
       "      <th>BMI</th>\n",
       "      <th>DiabetesPedigreeFunction</th>\n",
       "      <th>Age</th>\n",
       "    </tr>\n",
       "  </thead>\n",
       "  <tbody>\n",
       "    <tr>\n",
       "      <th>count</th>\n",
       "      <td>691.000000</td>\n",
       "      <td>691.000000</td>\n",
       "      <td>691.000000</td>\n",
       "      <td>691.000000</td>\n",
       "      <td>691.000000</td>\n",
       "      <td>691.000000</td>\n",
       "      <td>691.000000</td>\n",
       "      <td>691.000000</td>\n",
       "    </tr>\n",
       "    <tr>\n",
       "      <th>mean</th>\n",
       "      <td>3.875543</td>\n",
       "      <td>121.701881</td>\n",
       "      <td>72.143415</td>\n",
       "      <td>3.305151</td>\n",
       "      <td>4.834431</td>\n",
       "      <td>32.362026</td>\n",
       "      <td>-0.957500</td>\n",
       "      <td>33.410999</td>\n",
       "    </tr>\n",
       "    <tr>\n",
       "      <th>std</th>\n",
       "      <td>3.385240</td>\n",
       "      <td>30.291572</td>\n",
       "      <td>12.253094</td>\n",
       "      <td>0.346707</td>\n",
       "      <td>0.585252</td>\n",
       "      <td>6.736250</td>\n",
       "      <td>0.647248</td>\n",
       "      <td>11.759256</td>\n",
       "    </tr>\n",
       "    <tr>\n",
       "      <th>min</th>\n",
       "      <td>0.000000</td>\n",
       "      <td>44.000000</td>\n",
       "      <td>24.000000</td>\n",
       "      <td>1.945910</td>\n",
       "      <td>2.708050</td>\n",
       "      <td>18.200000</td>\n",
       "      <td>-2.551046</td>\n",
       "      <td>21.000000</td>\n",
       "    </tr>\n",
       "    <tr>\n",
       "      <th>25%</th>\n",
       "      <td>1.000000</td>\n",
       "      <td>99.000000</td>\n",
       "      <td>64.000000</td>\n",
       "      <td>3.124563</td>\n",
       "      <td>4.473351</td>\n",
       "      <td>27.600000</td>\n",
       "      <td>-1.408542</td>\n",
       "      <td>24.000000</td>\n",
       "    </tr>\n",
       "    <tr>\n",
       "      <th>50%</th>\n",
       "      <td>3.000000</td>\n",
       "      <td>117.000000</td>\n",
       "      <td>72.000000</td>\n",
       "      <td>3.342862</td>\n",
       "      <td>4.853592</td>\n",
       "      <td>32.100000</td>\n",
       "      <td>-0.972861</td>\n",
       "      <td>29.000000</td>\n",
       "    </tr>\n",
       "    <tr>\n",
       "      <th>75%</th>\n",
       "      <td>6.000000</td>\n",
       "      <td>139.500000</td>\n",
       "      <td>80.000000</td>\n",
       "      <td>3.555348</td>\n",
       "      <td>5.220356</td>\n",
       "      <td>36.500000</td>\n",
       "      <td>-0.465216</td>\n",
       "      <td>41.000000</td>\n",
       "    </tr>\n",
       "    <tr>\n",
       "      <th>max</th>\n",
       "      <td>17.000000</td>\n",
       "      <td>199.000000</td>\n",
       "      <td>122.000000</td>\n",
       "      <td>4.595120</td>\n",
       "      <td>6.740519</td>\n",
       "      <td>66.100000</td>\n",
       "      <td>0.845439</td>\n",
       "      <td>81.000000</td>\n",
       "    </tr>\n",
       "  </tbody>\n",
       "</table>\n",
       "</div>"
      ],
      "text/plain": [
       "       Pregnancies     Glucose  BloodPressure  SkinThickness     Insulin  \\\n",
       "count   691.000000  691.000000     691.000000     691.000000  691.000000   \n",
       "mean      3.875543  121.701881      72.143415       3.305151    4.834431   \n",
       "std       3.385240   30.291572      12.253094       0.346707    0.585252   \n",
       "min       0.000000   44.000000      24.000000       1.945910    2.708050   \n",
       "25%       1.000000   99.000000      64.000000       3.124563    4.473351   \n",
       "50%       3.000000  117.000000      72.000000       3.342862    4.853592   \n",
       "75%       6.000000  139.500000      80.000000       3.555348    5.220356   \n",
       "max      17.000000  199.000000     122.000000       4.595120    6.740519   \n",
       "\n",
       "              BMI  DiabetesPedigreeFunction         Age  \n",
       "count  691.000000                691.000000  691.000000  \n",
       "mean    32.362026                 -0.957500   33.410999  \n",
       "std      6.736250                  0.647248   11.759256  \n",
       "min     18.200000                 -2.551046   21.000000  \n",
       "25%     27.600000                 -1.408542   24.000000  \n",
       "50%     32.100000                 -0.972861   29.000000  \n",
       "75%     36.500000                 -0.465216   41.000000  \n",
       "max     66.100000                  0.845439   81.000000  "
      ]
     },
     "execution_count": 16,
     "metadata": {},
     "output_type": "execute_result"
    }
   ],
   "source": [
    "from scipy import stats\n",
    "from sklearn.impute import KNNImputer\n",
    "\n",
    "X_train_t = df_train.drop(columns=[\"Outcome\"])\n",
    "y_train = df_train[\"Outcome\"]\n",
    "feature_columns = list(X_train_t.columns)\n",
    "\n",
    "data_preprocessing_steps = [\n",
    "    (\n",
    "        \"missing_value_imputer\",\n",
    "        KNNImputer(n_neighbors=10, missing_values=0),\n",
    "        [\"Glucose\", \"BloodPressure\", \"SkinThickness\", \"Insulin\", \"BMI\"],\n",
    "    ),\n",
    "    (\"log_tranformer\", LogTransformer(), [\"Insulin\", \"SkinThickness\", \"DiabetesPedigreeFunction\"]),\n",
    "    #      (\"normal_dist_outlier_detector\", NormalDistOutlierDetecter(\n",
    "    #         stats.norm.ppf(0.01),\n",
    "    #         stats.norm.ppf(0.99),\n",
    "    #         alpha=0.05), feature_columns),\n",
    "    #      (\"non_normal_dist_outlier_detector\",  NonNormalDistOutlierDetecter(\n",
    "    #         10,\n",
    "    #         90,\n",
    "    #         alpha=0.05\n",
    "    # ), feature_columns),\n",
    "    # (\"outlier_imputer\", KNNImputer(n_neighbors=10, weights=\"uniform\"), feature_columns),\n",
    "    (\"feature_outlier_detector\", FeatureOutlierDetector(10, 90), feature_columns),\n",
    "]\n",
    "\n",
    "X_train_t = perform_data_transformation(\n",
    "    data_preprocessing_steps, X_train_t, y_train, feature_columns\n",
    ")\n",
    "X_train_t.shape\n",
    "X_train_t.describe()"
   ]
  },
  {
   "cell_type": "code",
   "execution_count": 17,
   "metadata": {},
   "outputs": [
    {
     "data": {
      "text/plain": [
       "((673, 8), (673,))"
      ]
     },
     "execution_count": 17,
     "metadata": {},
     "output_type": "execute_result"
    },
    {
     "data": {
      "text/html": [
       "<div>\n",
       "<style scoped>\n",
       "    .dataframe tbody tr th:only-of-type {\n",
       "        vertical-align: middle;\n",
       "    }\n",
       "\n",
       "    .dataframe tbody tr th {\n",
       "        vertical-align: top;\n",
       "    }\n",
       "\n",
       "    .dataframe thead th {\n",
       "        text-align: right;\n",
       "    }\n",
       "</style>\n",
       "<table border=\"1\" class=\"dataframe\">\n",
       "  <thead>\n",
       "    <tr style=\"text-align: right;\">\n",
       "      <th></th>\n",
       "      <th>Pregnancies</th>\n",
       "      <th>Glucose</th>\n",
       "      <th>BloodPressure</th>\n",
       "      <th>SkinThickness</th>\n",
       "      <th>Insulin</th>\n",
       "      <th>BMI</th>\n",
       "      <th>DiabetesPedigreeFunction</th>\n",
       "      <th>Age</th>\n",
       "    </tr>\n",
       "  </thead>\n",
       "  <tbody>\n",
       "    <tr>\n",
       "      <th>count</th>\n",
       "      <td>673.000000</td>\n",
       "      <td>673.000000</td>\n",
       "      <td>673.000000</td>\n",
       "      <td>673.000000</td>\n",
       "      <td>673.000000</td>\n",
       "      <td>673.000000</td>\n",
       "      <td>673.000000</td>\n",
       "      <td>673.000000</td>\n",
       "    </tr>\n",
       "    <tr>\n",
       "      <th>mean</th>\n",
       "      <td>3.888559</td>\n",
       "      <td>122.083210</td>\n",
       "      <td>72.132392</td>\n",
       "      <td>3.302801</td>\n",
       "      <td>4.839149</td>\n",
       "      <td>32.245260</td>\n",
       "      <td>-0.957324</td>\n",
       "      <td>33.316493</td>\n",
       "    </tr>\n",
       "    <tr>\n",
       "      <th>std</th>\n",
       "      <td>3.368411</td>\n",
       "      <td>30.126383</td>\n",
       "      <td>11.076698</td>\n",
       "      <td>0.347818</td>\n",
       "      <td>0.582739</td>\n",
       "      <td>6.421751</td>\n",
       "      <td>0.648026</td>\n",
       "      <td>11.650771</td>\n",
       "    </tr>\n",
       "    <tr>\n",
       "      <th>min</th>\n",
       "      <td>0.000000</td>\n",
       "      <td>57.000000</td>\n",
       "      <td>44.000000</td>\n",
       "      <td>1.945910</td>\n",
       "      <td>2.708050</td>\n",
       "      <td>18.200000</td>\n",
       "      <td>-2.551046</td>\n",
       "      <td>21.000000</td>\n",
       "    </tr>\n",
       "    <tr>\n",
       "      <th>25%</th>\n",
       "      <td>1.000000</td>\n",
       "      <td>100.000000</td>\n",
       "      <td>64.000000</td>\n",
       "      <td>3.117950</td>\n",
       "      <td>4.477337</td>\n",
       "      <td>27.600000</td>\n",
       "      <td>-1.410587</td>\n",
       "      <td>24.000000</td>\n",
       "    </tr>\n",
       "    <tr>\n",
       "      <th>50%</th>\n",
       "      <td>3.000000</td>\n",
       "      <td>117.000000</td>\n",
       "      <td>72.000000</td>\n",
       "      <td>3.342862</td>\n",
       "      <td>4.859812</td>\n",
       "      <td>32.000000</td>\n",
       "      <td>-0.967584</td>\n",
       "      <td>29.000000</td>\n",
       "    </tr>\n",
       "    <tr>\n",
       "      <th>75%</th>\n",
       "      <td>6.000000</td>\n",
       "      <td>140.000000</td>\n",
       "      <td>80.000000</td>\n",
       "      <td>3.546740</td>\n",
       "      <td>5.220896</td>\n",
       "      <td>36.300000</td>\n",
       "      <td>-0.460449</td>\n",
       "      <td>41.000000</td>\n",
       "    </tr>\n",
       "    <tr>\n",
       "      <th>max</th>\n",
       "      <td>17.000000</td>\n",
       "      <td>199.000000</td>\n",
       "      <td>110.000000</td>\n",
       "      <td>4.595120</td>\n",
       "      <td>6.740519</td>\n",
       "      <td>53.200000</td>\n",
       "      <td>0.845439</td>\n",
       "      <td>81.000000</td>\n",
       "    </tr>\n",
       "  </tbody>\n",
       "</table>\n",
       "</div>"
      ],
      "text/plain": [
       "       Pregnancies     Glucose  BloodPressure  SkinThickness     Insulin  \\\n",
       "count   673.000000  673.000000     673.000000     673.000000  673.000000   \n",
       "mean      3.888559  122.083210      72.132392       3.302801    4.839149   \n",
       "std       3.368411   30.126383      11.076698       0.347818    0.582739   \n",
       "min       0.000000   57.000000      44.000000       1.945910    2.708050   \n",
       "25%       1.000000  100.000000      64.000000       3.117950    4.477337   \n",
       "50%       3.000000  117.000000      72.000000       3.342862    4.859812   \n",
       "75%       6.000000  140.000000      80.000000       3.546740    5.220896   \n",
       "max      17.000000  199.000000     110.000000       4.595120    6.740519   \n",
       "\n",
       "              BMI  DiabetesPedigreeFunction         Age  \n",
       "count  673.000000                673.000000  673.000000  \n",
       "mean    32.245260                 -0.957324   33.316493  \n",
       "std      6.421751                  0.648026   11.650771  \n",
       "min     18.200000                 -2.551046   21.000000  \n",
       "25%     27.600000                 -1.410587   24.000000  \n",
       "50%     32.000000                 -0.967584   29.000000  \n",
       "75%     36.300000                 -0.460449   41.000000  \n",
       "max     53.200000                  0.845439   81.000000  "
      ]
     },
     "execution_count": 17,
     "metadata": {},
     "output_type": "execute_result"
    }
   ],
   "source": [
    "# Identify outliers using LocalOutlierFactor\n",
    "# Remove the outliers only from the training set\n",
    "from sklearn.neighbors import LocalOutlierFactor\n",
    "\n",
    "lof = LocalOutlierFactor(n_neighbors=20)\n",
    "outliers = lof.fit_predict(X_train_t)\n",
    "\n",
    "X_train_t = X_train_t.loc[outliers == 1]\n",
    "y_train = y_train.loc[outliers == 1]\n",
    "\n",
    "X_train_t.shape, y_train.shape\n",
    "X_train_t.describe()"
   ]
  },
  {
   "cell_type": "code",
   "execution_count": 18,
   "metadata": {},
   "outputs": [
    {
     "data": {
      "text/plain": [
       "array([[-0.30172774, -0.08299594,  0.21111806,  0.53537296, -1.05792607,\n",
       "        -0.85823832, -0.81159303, -0.29979726, -0.13012   , -0.57637847,\n",
       "         0.54380572, -0.9559519 ,  0.08620728,  0.52338488],\n",
       "       [ 0.79447239,  0.8861697 , -0.39664466,  0.59397117, -0.3707655 ,\n",
       "         0.03141816, -0.74006881,  0.8665784 ,  0.25001884, -0.24686546,\n",
       "         0.37045073, -0.1161365 ,  0.04024627,  0.47896724],\n",
       "       [ 1.09343606, -0.4719177 , -0.8797381 ,  0.1857882 , -0.54255564,\n",
       "         0.00799357, -0.38461509,  0.50583477,  0.09976745,  0.90293945,\n",
       "        -0.1767754 , -0.60846176, -0.85930943,  0.24229155],\n",
       "       [ 0.22976323,  1.62757964, -1.97059426,  0.64248707,  2.2919817 ,\n",
       "         1.7074717 ,  0.62105886,  0.69515647, -1.02401712,  0.9518079 ,\n",
       "         0.53404428,  2.83073178, -1.05024115,  0.45841058],\n",
       "       [-0.76678234,  0.40532883,  0.67862785,  0.25551995, -1.05792607,\n",
       "        -0.99878588, -0.62736397, -0.48855931, -0.25232259, -1.02736449,\n",
       "         0.43238169, -0.8642595 ,  0.67846747,  0.17997495]])"
      ]
     },
     "execution_count": 18,
     "metadata": {},
     "output_type": "execute_result"
    }
   ],
   "source": [
    "# scale the dataset\n",
    "from sklearn.pipeline import Pipeline\n",
    "from sklearn.preprocessing import StandardScaler\n",
    "\n",
    "# feature importances of all feature interactions using random forest classifier\n",
    "#  ('Glucose_Age', 0.13329970172080755),\n",
    "#  ('Glucose_Insulin', 0.11556997814180311),\n",
    "#  ('Glucose_BMI', 0.11030499452531185),\n",
    "#  ('Glucose', 0.07731734213231307),\n",
    "#  ('Insulin', 0.07023585301064626),\n",
    "#  ('Insulin_BMI', 0.05761055325632318),\n",
    "#  ('Glucose_BloodPressure', 0.05740420217570867),\n",
    "#  ('BMI_Age', 0.051163724016551386),\n",
    "#  ('Insulin_Age', 0.049891297862555126),\n",
    "#  ('DiabetesPedigreeFunction', 0.03141052407331324),\n",
    "#  ('BMI', 0.028354453975674043),\n",
    "#  ('BloodPressure_BMI', 0.02530147768935514),\n",
    "#  ('Pregnancies_Glucose', 0.024760105443433975),\n",
    "#  ('BloodPressure_Insulin', 0.02452373013873782),\n",
    "#  ('SkinThickness', 0.023543065093338766),\n",
    "#  ('Pregnancies_Insulin', 0.021393086299604406),\n",
    "#  ('Age', 0.01763894632292728),\n",
    "#  ('BloodPressure_Age', 0.016962076507155716),\n",
    "#  ('Pregnancies_BMI', 0.01573519479223922),\n",
    "#  ('Pregnancies_Age', 0.01403330669290136),\n",
    "#  ('Pregnancies_BloodPressure', 0.013098411352802018),\n",
    "#  ('BloodPressure', 0.012701603160264757),\n",
    "#  ('Pregnancies', 0.007746371616231828)]\n",
    "feature_interactions = {\n",
    "    \"Glucose\": [\n",
    "        \"Age\",\n",
    "        \"Pregnancies\",\n",
    "        \"Insulin\",\n",
    "        \"BMI\",\n",
    "        \"BloodPressure\",\n",
    "        \"DiabetesPedigreeFunction\",\n",
    "    ],\n",
    "    \"Insulin\": [\"Age\", \"BMI\", \"DiabetesPedigreeFunction\"],\n",
    "}\n",
    "\n",
    "features_to_drop = [\"SkinThickness\", \"Pregnancies\", \"BloodPressure\"]\n",
    "data_preprocessing_pipeline = Pipeline(\n",
    "    [\n",
    "        (\"feature_interactions\", FeatureInteractions(feature_interactions)),\n",
    "        (\"feature_stripper\", ColumnStripper(features_to_drop)),\n",
    "        (\"scaler\", StandardScaler()),\n",
    "    ]\n",
    ")\n",
    "X_train_t = data_preprocessing_pipeline.fit_transform(X_train_t, y_train)\n",
    "X_train_t[0:5]"
   ]
  },
  {
   "cell_type": "markdown",
   "metadata": {},
   "source": [
    "## Model evaluation"
   ]
  },
  {
   "cell_type": "code",
   "execution_count": 19,
   "metadata": {},
   "outputs": [],
   "source": [
    "from lightgbm import LGBMClassifier\n",
    "from sklearn.ensemble import (\n",
    "    AdaBoostClassifier,\n",
    "    ExtraTreesClassifier,\n",
    "    GradientBoostingClassifier,\n",
    "    RandomForestClassifier,\n",
    ")\n",
    "from sklearn.linear_model import LogisticRegression\n",
    "from sklearn.naive_bayes import GaussianNB  # noqa\n",
    "from sklearn.neighbors import KNeighborsClassifier\n",
    "from sklearn.svm import SVC\n",
    "from sklearn.tree import DecisionTreeClassifier\n",
    "\n",
    "\n",
    "def get_models():\n",
    "    return [\n",
    "        (\"Logistic\", LogisticRegression(random_state=42)),\n",
    "        (\"SVC\", SVC(random_state=42)),\n",
    "        (\"KNN\", KNeighborsClassifier(n_neighbors=10)),\n",
    "        (\"RandomForest\", RandomForestClassifier(random_state=42)),\n",
    "        (\"ExtraTrees\", ExtraTreesClassifier(random_state=42)),\n",
    "        (\n",
    "            \"AdaBoost\",\n",
    "            AdaBoostClassifier(\n",
    "                base_estimator=DecisionTreeClassifier(max_depth=2),\n",
    "                random_state=42,\n",
    "            ),\n",
    "        ),\n",
    "        (\"GradientBoost\", GradientBoostingClassifier(random_state=42)),\n",
    "        (\"LightGradientBoost\", LGBMClassifier(random_state=42)),\n",
    "    ]"
   ]
  },
  {
   "cell_type": "code",
   "execution_count": 20,
   "metadata": {},
   "outputs": [
    {
     "name": "stdout",
     "output_type": "stream",
     "text": [
      "Model and score: Logistic, 0.7736537898741587\n",
      "Model and score: SVC, 0.7607916300848697\n",
      "Model and score: KNN, 0.7602648522095404\n",
      "Model and score: RandomForest, 0.747929470295581\n",
      "Model and score: ExtraTrees, 0.749436640327773\n",
      "Model and score: AdaBoost, 0.7033508925958444\n",
      "Model and score: GradientBoost, 0.7543239683933275\n",
      "Model and score: LightGradientBoost, 0.7305311676909569\n"
     ]
    }
   ],
   "source": [
    "from sklearn.model_selection import RepeatedStratifiedKFold, cross_val_score\n",
    "\n",
    "cv = RepeatedStratifiedKFold(n_splits=10, n_repeats=3, random_state=42)\n",
    "\n",
    "for model_name, model in get_models():\n",
    "    scores = cross_val_score(model, X_train_t, y_train, scoring=\"accuracy\", cv=cv, n_jobs=-1)\n",
    "    print(f\"Model and score: {model_name}, {scores.mean()}\")"
   ]
  },
  {
   "cell_type": "markdown",
   "metadata": {},
   "source": [
    "## Hyperparameter tuning"
   ]
  },
  {
   "cell_type": "code",
   "execution_count": 21,
   "metadata": {},
   "outputs": [],
   "source": [
    "from sklearn.model_selection import GridSearchCV\n",
    "\n",
    "\n",
    "def get_best_params(clf, params, X, y):\n",
    "    gs_cv = GridSearchCV(clf, params, cv=10, n_jobs=-1, verbose=2)\n",
    "\n",
    "    gs_cv.fit(X, y)\n",
    "    return gs_cv.best_params_\n",
    "\n",
    "\n",
    "gb_params = {\n",
    "    \"learning_rate\": [0.01, 0.1, 0.5, 1],\n",
    "    \"n_estimators\": [100, 300, 500],\n",
    "    \"subsample\": [0.8, 0.9, 1.0],\n",
    "    \"min_samples_leaf\": [1, 5, 10],\n",
    "    \"max_depth\": [2, 3, 4],\n",
    "}\n",
    "gb_clf = GradientBoostingClassifier(random_state=42)\n",
    "\n",
    "# get_best_params(gb_clf, gb_params, X_train_t, y_train)"
   ]
  },
  {
   "cell_type": "code",
   "execution_count": 22,
   "metadata": {},
   "outputs": [
    {
     "data": {
      "text/plain": [
       "(0.7712467076382792, 0.036648887848450946)"
      ]
     },
     "execution_count": 22,
     "metadata": {},
     "output_type": "execute_result"
    }
   ],
   "source": [
    "from sklearn.model_selection import cross_val_score\n",
    "\n",
    "# best params after grid search\n",
    "gb_tuned = GradientBoostingClassifier(\n",
    "    learning_rate=0.01,\n",
    "    max_depth=2,\n",
    "    min_samples_leaf=1,\n",
    "    n_estimators=500,\n",
    "    subsample=0.9,\n",
    "    random_state=42,\n",
    ")\n",
    "scores = cross_val_score(gb_tuned, X_train_t, y_train, scoring=\"accuracy\", n_jobs=-1, cv=10)\n",
    "scores.mean(), scores.std()"
   ]
  },
  {
   "cell_type": "code",
   "execution_count": 23,
   "metadata": {},
   "outputs": [
    {
     "data": {
      "text/plain": [
       "GradientBoostingClassifier(learning_rate=0.01, max_depth=2, n_estimators=500,\n",
       "                           random_state=42, subsample=0.9)"
      ]
     },
     "execution_count": 23,
     "metadata": {},
     "output_type": "execute_result"
    }
   ],
   "source": [
    "# train and list the feature importances\n",
    "gb_tuned.fit(X_train_t, y_train)"
   ]
  },
  {
   "cell_type": "code",
   "execution_count": 24,
   "metadata": {},
   "outputs": [
    {
     "data": {
      "text/plain": [
       "['BMI',\n",
       " 'Glucose',\n",
       " 'Insulin',\n",
       " 'DiabetesPedigreeFunction',\n",
       " 'Age',\n",
       " 'Glucose_Age',\n",
       " 'Glucose_Pregnancies',\n",
       " 'Glucose_Insulin',\n",
       " 'Glucose_BMI',\n",
       " 'Glucose_BloodPressure',\n",
       " 'Glucose_DiabetesPedigreeFunction',\n",
       " 'Insulin_Age',\n",
       " 'Insulin_BMI',\n",
       " 'Insulin_DiabetesPedigreeFunction']"
      ]
     },
     "execution_count": 24,
     "metadata": {},
     "output_type": "execute_result"
    }
   ],
   "source": [
    "final_features = (\n",
    "    list(set(feature_columns) - set(features_to_drop))\n",
    "    + data_preprocessing_pipeline.named_steps[\"feature_interactions\"].added_columns_\n",
    ")\n",
    "final_features"
   ]
  },
  {
   "cell_type": "code",
   "execution_count": 25,
   "metadata": {},
   "outputs": [
    {
     "data": {
      "text/plain": [
       "[('Glucose_Age', 0.3242248890088572),\n",
       " ('Glucose_BMI', 0.25968504277974164),\n",
       " ('BMI', 0.07876509239849316),\n",
       " ('Glucose', 0.06281190140690356),\n",
       " ('DiabetesPedigreeFunction', 0.04896932726422678),\n",
       " ('Insulin_BMI', 0.047366962263723056),\n",
       " ('Glucose_Pregnancies', 0.04465004874557669),\n",
       " ('Insulin_DiabetesPedigreeFunction', 0.028378041474752046),\n",
       " ('Glucose_BloodPressure', 0.02659170334591967),\n",
       " ('Age', 0.02439827799364325),\n",
       " ('Glucose_Insulin', 0.020607408645898644),\n",
       " ('Insulin', 0.017440428834235716),\n",
       " ('Glucose_DiabetesPedigreeFunction', 0.008908051279870946),\n",
       " ('Insulin_Age', 0.007202824558157442)]"
      ]
     },
     "execution_count": 25,
     "metadata": {},
     "output_type": "execute_result"
    }
   ],
   "source": [
    "list(\n",
    "    sorted(\n",
    "        zip(final_features, gb_tuned.feature_importances_), key=lambda value: value[1], reverse=True\n",
    "    )\n",
    ")"
   ]
  },
  {
   "cell_type": "code",
   "execution_count": 26,
   "metadata": {},
   "outputs": [
    {
     "name": "stdout",
     "output_type": "stream",
     "text": [
      "current step: missing_value_imputer\n",
      "current step: log_tranformer\n",
      "current step: feature_outlier_detector\n"
     ]
    }
   ],
   "source": [
    "# evaluating the tuned model on the test dataset\n",
    "df_test = get_dataframe(X_test, y_test, df.columns)\n",
    "\n",
    "X_test_t = df_test.drop(columns=[\"Outcome\"])\n",
    "y_test = df_test[\"Outcome\"]\n",
    "\n",
    "for name, transformer, cols in data_preprocessing_steps:\n",
    "    print(f\"current step: {name}\")\n",
    "    if cols == feature_columns:\n",
    "        X_test_t = pd.DataFrame(transformer.transform(X_test_t), columns=feature_columns)\n",
    "    else:\n",
    "        X_test_t.loc[:, cols] = transformer.transform(X_test_t.loc[:, cols])\n",
    "\n",
    "\n",
    "X_test_t = data_preprocessing_pipeline.transform(X_test_t)"
   ]
  },
  {
   "cell_type": "code",
   "execution_count": 27,
   "metadata": {},
   "outputs": [],
   "source": [
    "from sklearn.metrics import accuracy_score, confusion_matrix, roc_auc_score\n",
    "\n",
    "\n",
    "def print_evaluation_stats(y_test, y_test_pred):\n",
    "    print(f\"Accuracy: {accuracy_score(y_test, y_test_pred)}\")\n",
    "    print(f\"ROC AUC score: {roc_auc_score(y_test, y_test_pred)}\")\n",
    "    print(f\"Confusion Matrix: {confusion_matrix(y_test, y_test_pred)}\")"
   ]
  },
  {
   "cell_type": "code",
   "execution_count": 28,
   "metadata": {},
   "outputs": [
    {
     "name": "stdout",
     "output_type": "stream",
     "text": [
      "Accuracy: 0.7532467532467533\n",
      "ROC AUC score: 0.7248148148148149\n",
      "Confusion Matrix: [[41  9]\n",
      " [10 17]]\n"
     ]
    }
   ],
   "source": [
    "y_test_pred = gb_tuned.predict(X_test_t)\n",
    "print_evaluation_stats(y_test, y_test_pred)"
   ]
  },
  {
   "cell_type": "markdown",
   "metadata": {},
   "source": [
    "## Logistic Regression"
   ]
  },
  {
   "cell_type": "code",
   "execution_count": 29,
   "metadata": {},
   "outputs": [
    {
     "name": "stdout",
     "output_type": "stream",
     "text": [
      "Fitting 10 folds for each of 72 candidates, totalling 720 fits\n"
     ]
    },
    {
     "name": "stderr",
     "output_type": "stream",
     "text": [
      "[Parallel(n_jobs=-1)]: Using backend LokyBackend with 4 concurrent workers.\n",
      "[Parallel(n_jobs=-1)]: Done 136 tasks      | elapsed:    0.6s\n",
      "[Parallel(n_jobs=-1)]: Done 720 out of 720 | elapsed:    5.2s finished\n"
     ]
    },
    {
     "data": {
      "text/plain": [
       "{'C': 1, 'max_iter': 100, 'penalty': 'l2', 'solver': 'lbfgs'}"
      ]
     },
     "execution_count": 29,
     "metadata": {},
     "output_type": "execute_result"
    }
   ],
   "source": [
    "# hyperparameter tuning for logistic regression\n",
    "lgr_params = {\n",
    "    \"penalty\": [\"l2\", \"l1\"],\n",
    "    \"C\": [0.1, 1, 10],\n",
    "    \"max_iter\": [100, 300, 500],\n",
    "    \"solver\": [\"lbfgs\", \"newton-cg\", \"saga\", \"liblinear\"],\n",
    "}\n",
    "# lgr_params = { \"penalty\": [\"elasticnet\"],\n",
    "#                \"C\": [0.1, 1, 10],\n",
    "#               \"max_iter\": [100, 300, 500],\n",
    "#               \"l1_ratio\": [0, 0.25, 0.5, 0.75, 1.0],\n",
    "#               \"solver\": [\"saga\"]\n",
    "#             }\n",
    "\n",
    "lgr_clf = LogisticRegression(random_state=42)\n",
    "get_best_params(lgr_clf, lgr_params, X_train_t, y_train)"
   ]
  },
  {
   "cell_type": "code",
   "execution_count": 30,
   "metadata": {},
   "outputs": [
    {
     "data": {
      "text/plain": [
       "LogisticRegression(C=1, random_state=42)"
      ]
     },
     "execution_count": 30,
     "metadata": {},
     "output_type": "execute_result"
    },
    {
     "name": "stdout",
     "output_type": "stream",
     "text": [
      "Accuracy: 0.7272727272727273\n",
      "ROC AUC score: 0.6962962962962963\n",
      "Confusion Matrix: [[40 10]\n",
      " [11 16]]\n"
     ]
    }
   ],
   "source": [
    "lgr_tuned = LogisticRegression(C=1, random_state=42)\n",
    "lgr_tuned.fit(X_train_t, y_train)\n",
    "y_test_pred = lgr_tuned.predict(X_test_t)\n",
    "print_evaluation_stats(y_test, y_test_pred)"
   ]
  },
  {
   "cell_type": "markdown",
   "metadata": {},
   "source": [
    "Though logistic regression seemed to be the best performing model on the training set, "
   ]
  }
 ],
 "metadata": {
  "kernelspec": {
   "display_name": "Python 3",
   "language": "python",
   "name": "python3"
  },
  "language_info": {
   "codemirror_mode": {
    "name": "ipython",
    "version": 3
   },
   "file_extension": ".py",
   "mimetype": "text/x-python",
   "name": "python",
   "nbconvert_exporter": "python",
   "pygments_lexer": "ipython3",
   "version": "3.8.0"
  }
 },
 "nbformat": 4,
 "nbformat_minor": 4
}
