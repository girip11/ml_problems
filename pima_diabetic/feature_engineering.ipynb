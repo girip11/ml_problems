{
 "cells": [
  {
   "cell_type": "code",
   "execution_count": 1,
   "metadata": {},
   "outputs": [],
   "source": [
    "from IPython.core.interactiveshell import InteractiveShell\n",
    "\n",
    "InteractiveShell.ast_node_interactivity = \"all\""
   ]
  },
  {
   "cell_type": "code",
   "execution_count": 2,
   "metadata": {},
   "outputs": [],
   "source": [
    "import numpy as np\n",
    "import pandas as pd\n",
    "import seaborn as sns\n",
    "from matplotlib import pyplot as plt  # noqa"
   ]
  },
  {
   "cell_type": "code",
   "execution_count": 3,
   "metadata": {},
   "outputs": [
    {
     "data": {
      "text/plain": [
       "Index(['Pregnancies', 'Glucose', 'BloodPressure', 'SkinThickness', 'Insulin',\n",
       "       'BMI', 'DiabetesPedigreeFunction', 'Age', 'Outcome'],\n",
       "      dtype='object')"
      ]
     },
     "execution_count": 3,
     "metadata": {},
     "output_type": "execute_result"
    },
    {
     "data": {
      "text/html": [
       "<div>\n",
       "<style scoped>\n",
       "    .dataframe tbody tr th:only-of-type {\n",
       "        vertical-align: middle;\n",
       "    }\n",
       "\n",
       "    .dataframe tbody tr th {\n",
       "        vertical-align: top;\n",
       "    }\n",
       "\n",
       "    .dataframe thead th {\n",
       "        text-align: right;\n",
       "    }\n",
       "</style>\n",
       "<table border=\"1\" class=\"dataframe\">\n",
       "  <thead>\n",
       "    <tr style=\"text-align: right;\">\n",
       "      <th></th>\n",
       "      <th>Pregnancies</th>\n",
       "      <th>Glucose</th>\n",
       "      <th>BloodPressure</th>\n",
       "      <th>SkinThickness</th>\n",
       "      <th>Insulin</th>\n",
       "      <th>BMI</th>\n",
       "      <th>DiabetesPedigreeFunction</th>\n",
       "      <th>Age</th>\n",
       "      <th>Outcome</th>\n",
       "    </tr>\n",
       "  </thead>\n",
       "  <tbody>\n",
       "    <tr>\n",
       "      <th>0</th>\n",
       "      <td>6</td>\n",
       "      <td>148</td>\n",
       "      <td>72</td>\n",
       "      <td>35</td>\n",
       "      <td>0</td>\n",
       "      <td>33.6</td>\n",
       "      <td>0.627</td>\n",
       "      <td>50</td>\n",
       "      <td>1</td>\n",
       "    </tr>\n",
       "    <tr>\n",
       "      <th>1</th>\n",
       "      <td>1</td>\n",
       "      <td>85</td>\n",
       "      <td>66</td>\n",
       "      <td>29</td>\n",
       "      <td>0</td>\n",
       "      <td>26.6</td>\n",
       "      <td>0.351</td>\n",
       "      <td>31</td>\n",
       "      <td>0</td>\n",
       "    </tr>\n",
       "    <tr>\n",
       "      <th>2</th>\n",
       "      <td>8</td>\n",
       "      <td>183</td>\n",
       "      <td>64</td>\n",
       "      <td>0</td>\n",
       "      <td>0</td>\n",
       "      <td>23.3</td>\n",
       "      <td>0.672</td>\n",
       "      <td>32</td>\n",
       "      <td>1</td>\n",
       "    </tr>\n",
       "    <tr>\n",
       "      <th>3</th>\n",
       "      <td>1</td>\n",
       "      <td>89</td>\n",
       "      <td>66</td>\n",
       "      <td>23</td>\n",
       "      <td>94</td>\n",
       "      <td>28.1</td>\n",
       "      <td>0.167</td>\n",
       "      <td>21</td>\n",
       "      <td>0</td>\n",
       "    </tr>\n",
       "    <tr>\n",
       "      <th>4</th>\n",
       "      <td>0</td>\n",
       "      <td>137</td>\n",
       "      <td>40</td>\n",
       "      <td>35</td>\n",
       "      <td>168</td>\n",
       "      <td>43.1</td>\n",
       "      <td>2.288</td>\n",
       "      <td>33</td>\n",
       "      <td>1</td>\n",
       "    </tr>\n",
       "  </tbody>\n",
       "</table>\n",
       "</div>"
      ],
      "text/plain": [
       "   Pregnancies  Glucose  BloodPressure  SkinThickness  Insulin   BMI  \\\n",
       "0            6      148             72             35        0  33.6   \n",
       "1            1       85             66             29        0  26.6   \n",
       "2            8      183             64              0        0  23.3   \n",
       "3            1       89             66             23       94  28.1   \n",
       "4            0      137             40             35      168  43.1   \n",
       "\n",
       "   DiabetesPedigreeFunction  Age  Outcome  \n",
       "0                     0.627   50        1  \n",
       "1                     0.351   31        0  \n",
       "2                     0.672   32        1  \n",
       "3                     0.167   21        0  \n",
       "4                     2.288   33        1  "
      ]
     },
     "execution_count": 3,
     "metadata": {},
     "output_type": "execute_result"
    }
   ],
   "source": [
    "df = pd.read_csv(\"dataset/diabetes.csv\")\n",
    "df.columns\n",
    "df.head(5)"
   ]
  },
  {
   "cell_type": "code",
   "execution_count": 4,
   "metadata": {},
   "outputs": [
    {
     "name": "stdout",
     "output_type": "stream",
     "text": [
      "<class 'pandas.core.frame.DataFrame'>\n",
      "RangeIndex: 768 entries, 0 to 767\n",
      "Data columns (total 9 columns):\n",
      " #   Column                    Non-Null Count  Dtype  \n",
      "---  ------                    --------------  -----  \n",
      " 0   Pregnancies               768 non-null    int64  \n",
      " 1   Glucose                   768 non-null    int64  \n",
      " 2   BloodPressure             768 non-null    int64  \n",
      " 3   SkinThickness             768 non-null    int64  \n",
      " 4   Insulin                   768 non-null    int64  \n",
      " 5   BMI                       768 non-null    float64\n",
      " 6   DiabetesPedigreeFunction  768 non-null    float64\n",
      " 7   Age                       768 non-null    int64  \n",
      " 8   Outcome                   768 non-null    int64  \n",
      "dtypes: float64(2), int64(7)\n",
      "memory usage: 54.1 KB\n"
     ]
    }
   ],
   "source": [
    "df.info()"
   ]
  },
  {
   "cell_type": "code",
   "execution_count": 5,
   "metadata": {},
   "outputs": [
    {
     "data": {
      "text/html": [
       "<div>\n",
       "<style scoped>\n",
       "    .dataframe tbody tr th:only-of-type {\n",
       "        vertical-align: middle;\n",
       "    }\n",
       "\n",
       "    .dataframe tbody tr th {\n",
       "        vertical-align: top;\n",
       "    }\n",
       "\n",
       "    .dataframe thead th {\n",
       "        text-align: right;\n",
       "    }\n",
       "</style>\n",
       "<table border=\"1\" class=\"dataframe\">\n",
       "  <thead>\n",
       "    <tr style=\"text-align: right;\">\n",
       "      <th></th>\n",
       "      <th>Pregnancies</th>\n",
       "      <th>Glucose</th>\n",
       "      <th>BloodPressure</th>\n",
       "      <th>SkinThickness</th>\n",
       "      <th>Insulin</th>\n",
       "      <th>BMI</th>\n",
       "      <th>DiabetesPedigreeFunction</th>\n",
       "      <th>Age</th>\n",
       "      <th>Outcome</th>\n",
       "    </tr>\n",
       "  </thead>\n",
       "  <tbody>\n",
       "    <tr>\n",
       "      <th>count</th>\n",
       "      <td>768.000000</td>\n",
       "      <td>768.000000</td>\n",
       "      <td>768.000000</td>\n",
       "      <td>768.000000</td>\n",
       "      <td>768.000000</td>\n",
       "      <td>768.000000</td>\n",
       "      <td>768.000000</td>\n",
       "      <td>768.000000</td>\n",
       "      <td>768.000000</td>\n",
       "    </tr>\n",
       "    <tr>\n",
       "      <th>mean</th>\n",
       "      <td>3.845052</td>\n",
       "      <td>120.894531</td>\n",
       "      <td>69.105469</td>\n",
       "      <td>20.536458</td>\n",
       "      <td>79.799479</td>\n",
       "      <td>31.992578</td>\n",
       "      <td>0.471876</td>\n",
       "      <td>33.240885</td>\n",
       "      <td>0.348958</td>\n",
       "    </tr>\n",
       "    <tr>\n",
       "      <th>std</th>\n",
       "      <td>3.369578</td>\n",
       "      <td>31.972618</td>\n",
       "      <td>19.355807</td>\n",
       "      <td>15.952218</td>\n",
       "      <td>115.244002</td>\n",
       "      <td>7.884160</td>\n",
       "      <td>0.331329</td>\n",
       "      <td>11.760232</td>\n",
       "      <td>0.476951</td>\n",
       "    </tr>\n",
       "    <tr>\n",
       "      <th>min</th>\n",
       "      <td>0.000000</td>\n",
       "      <td>0.000000</td>\n",
       "      <td>0.000000</td>\n",
       "      <td>0.000000</td>\n",
       "      <td>0.000000</td>\n",
       "      <td>0.000000</td>\n",
       "      <td>0.078000</td>\n",
       "      <td>21.000000</td>\n",
       "      <td>0.000000</td>\n",
       "    </tr>\n",
       "    <tr>\n",
       "      <th>25%</th>\n",
       "      <td>1.000000</td>\n",
       "      <td>99.000000</td>\n",
       "      <td>62.000000</td>\n",
       "      <td>0.000000</td>\n",
       "      <td>0.000000</td>\n",
       "      <td>27.300000</td>\n",
       "      <td>0.243750</td>\n",
       "      <td>24.000000</td>\n",
       "      <td>0.000000</td>\n",
       "    </tr>\n",
       "    <tr>\n",
       "      <th>50%</th>\n",
       "      <td>3.000000</td>\n",
       "      <td>117.000000</td>\n",
       "      <td>72.000000</td>\n",
       "      <td>23.000000</td>\n",
       "      <td>30.500000</td>\n",
       "      <td>32.000000</td>\n",
       "      <td>0.372500</td>\n",
       "      <td>29.000000</td>\n",
       "      <td>0.000000</td>\n",
       "    </tr>\n",
       "    <tr>\n",
       "      <th>75%</th>\n",
       "      <td>6.000000</td>\n",
       "      <td>140.250000</td>\n",
       "      <td>80.000000</td>\n",
       "      <td>32.000000</td>\n",
       "      <td>127.250000</td>\n",
       "      <td>36.600000</td>\n",
       "      <td>0.626250</td>\n",
       "      <td>41.000000</td>\n",
       "      <td>1.000000</td>\n",
       "    </tr>\n",
       "    <tr>\n",
       "      <th>max</th>\n",
       "      <td>17.000000</td>\n",
       "      <td>199.000000</td>\n",
       "      <td>122.000000</td>\n",
       "      <td>99.000000</td>\n",
       "      <td>846.000000</td>\n",
       "      <td>67.100000</td>\n",
       "      <td>2.420000</td>\n",
       "      <td>81.000000</td>\n",
       "      <td>1.000000</td>\n",
       "    </tr>\n",
       "  </tbody>\n",
       "</table>\n",
       "</div>"
      ],
      "text/plain": [
       "       Pregnancies     Glucose  BloodPressure  SkinThickness     Insulin  \\\n",
       "count   768.000000  768.000000     768.000000     768.000000  768.000000   \n",
       "mean      3.845052  120.894531      69.105469      20.536458   79.799479   \n",
       "std       3.369578   31.972618      19.355807      15.952218  115.244002   \n",
       "min       0.000000    0.000000       0.000000       0.000000    0.000000   \n",
       "25%       1.000000   99.000000      62.000000       0.000000    0.000000   \n",
       "50%       3.000000  117.000000      72.000000      23.000000   30.500000   \n",
       "75%       6.000000  140.250000      80.000000      32.000000  127.250000   \n",
       "max      17.000000  199.000000     122.000000      99.000000  846.000000   \n",
       "\n",
       "              BMI  DiabetesPedigreeFunction         Age     Outcome  \n",
       "count  768.000000                768.000000  768.000000  768.000000  \n",
       "mean    31.992578                  0.471876   33.240885    0.348958  \n",
       "std      7.884160                  0.331329   11.760232    0.476951  \n",
       "min      0.000000                  0.078000   21.000000    0.000000  \n",
       "25%     27.300000                  0.243750   24.000000    0.000000  \n",
       "50%     32.000000                  0.372500   29.000000    0.000000  \n",
       "75%     36.600000                  0.626250   41.000000    1.000000  \n",
       "max     67.100000                  2.420000   81.000000    1.000000  "
      ]
     },
     "execution_count": 5,
     "metadata": {},
     "output_type": "execute_result"
    }
   ],
   "source": [
    "df.describe()"
   ]
  },
  {
   "cell_type": "code",
   "execution_count": 6,
   "metadata": {},
   "outputs": [
    {
     "name": "stdout",
     "output_type": "stream",
     "text": [
      "<class 'pandas.core.frame.DataFrame'>\n",
      "RangeIndex: 768 entries, 0 to 767\n",
      "Data columns (total 9 columns):\n",
      " #   Column                    Non-Null Count  Dtype  \n",
      "---  ------                    --------------  -----  \n",
      " 0   Pregnancies               768 non-null    int64  \n",
      " 1   Glucose                   763 non-null    float64\n",
      " 2   BloodPressure             733 non-null    float64\n",
      " 3   SkinThickness             541 non-null    float64\n",
      " 4   Insulin                   394 non-null    float64\n",
      " 5   BMI                       757 non-null    float64\n",
      " 6   DiabetesPedigreeFunction  768 non-null    float64\n",
      " 7   Age                       768 non-null    int64  \n",
      " 8   Outcome                   768 non-null    int64  \n",
      "dtypes: float64(6), int64(3)\n",
      "memory usage: 54.1 KB\n"
     ]
    }
   ],
   "source": [
    "# Replace missing values with nan\n",
    "cols_with_missing_values = [\"Glucose\", \"BloodPressure\", \"SkinThickness\", \"Insulin\", \"BMI\"]\n",
    "df.loc[:, cols_with_missing_values] = df.loc[:, cols_with_missing_values].replace(0, np.nan)\n",
    "df.info()"
   ]
  },
  {
   "cell_type": "markdown",
   "metadata": {},
   "source": [
    "## Split training and test set"
   ]
  },
  {
   "cell_type": "code",
   "execution_count": 7,
   "metadata": {},
   "outputs": [],
   "source": [
    "from sklearn.model_selection import train_test_split\n",
    "\n",
    "X = df.iloc[:, :-1].values\n",
    "y = df.iloc[:, -1].values\n",
    "X_train, X_test, y_train, y_test = train_test_split(\n",
    "    X, y, test_size=0.1, stratify=y, random_state=42\n",
    ")"
   ]
  },
  {
   "cell_type": "markdown",
   "metadata": {},
   "source": [
    "## Impute missing values\n",
    "\n",
    "Impute after splitting training and test set to avoid data leakage."
   ]
  },
  {
   "cell_type": "code",
   "execution_count": 8,
   "metadata": {},
   "outputs": [],
   "source": [
    "from sklearn.impute import KNNImputer\n",
    "\n",
    "imputer = KNNImputer(n_neighbors=9)\n",
    "X_train = imputer.fit_transform(X_train, y_train)"
   ]
  },
  {
   "cell_type": "markdown",
   "metadata": {},
   "source": [
    "## Model training"
   ]
  },
  {
   "cell_type": "code",
   "execution_count": 9,
   "metadata": {},
   "outputs": [],
   "source": [
    "def get_dataframe(X, y, columns):\n",
    "    return pd.DataFrame(np.c_[X, y], columns=columns)"
   ]
  },
  {
   "cell_type": "code",
   "execution_count": 10,
   "metadata": {},
   "outputs": [],
   "source": [
    "from sklearn.linear_model import LogisticRegression\n",
    "\n",
    "# from sklearn.ensemble import GradientBoostingClassifier, RandomForestClassifier\n",
    "from sklearn.metrics import accuracy_score, confusion_matrix, roc_auc_score\n",
    "\n",
    "# Perform cross validation\n",
    "from sklearn.model_selection import cross_val_predict\n",
    "from sklearn.preprocessing import StandardScaler\n",
    "\n",
    "\n",
    "def perform_cross_validation(X, y):\n",
    "    std_scaler = StandardScaler()\n",
    "    X_train_scaled = std_scaler.fit_transform(X, y)\n",
    "    clf = LogisticRegression(random_state=42)\n",
    "    return cross_val_predict(clf, X_train_scaled, y, cv=5, n_jobs=-1)\n",
    "\n",
    "\n",
    "def print_metrics(y_test, y_hat):\n",
    "    print(f\"Accuracy: {accuracy_score(y_test, y_hat)}\")\n",
    "    print(f\"ROC AUC score: {roc_auc_score(y_test, y_hat)}\")\n",
    "    print(f\"Confusion Matrix: {confusion_matrix(y_test, y_hat)}\")"
   ]
  },
  {
   "cell_type": "markdown",
   "metadata": {},
   "source": [
    "## No data preprocessing"
   ]
  },
  {
   "cell_type": "code",
   "execution_count": 11,
   "metadata": {},
   "outputs": [
    {
     "name": "stdout",
     "output_type": "stream",
     "text": [
      "<class 'pandas.core.frame.DataFrame'>\n",
      "RangeIndex: 691 entries, 0 to 690\n",
      "Data columns (total 9 columns):\n",
      " #   Column                    Non-Null Count  Dtype  \n",
      "---  ------                    --------------  -----  \n",
      " 0   Pregnancies               691 non-null    float64\n",
      " 1   Glucose                   691 non-null    float64\n",
      " 2   BloodPressure             691 non-null    float64\n",
      " 3   SkinThickness             691 non-null    float64\n",
      " 4   Insulin                   691 non-null    float64\n",
      " 5   BMI                       691 non-null    float64\n",
      " 6   DiabetesPedigreeFunction  691 non-null    float64\n",
      " 7   Age                       691 non-null    float64\n",
      " 8   Outcome                   691 non-null    float64\n",
      "dtypes: float64(9)\n",
      "memory usage: 48.7 KB\n"
     ]
    }
   ],
   "source": [
    "df_train = get_dataframe(X_train, y_train, df.columns)\n",
    "df_train.info()"
   ]
  },
  {
   "cell_type": "code",
   "execution_count": 12,
   "metadata": {},
   "outputs": [
    {
     "data": {
      "text/plain": [
       "Pregnancies                 0.213637\n",
       "Glucose                     0.500946\n",
       "BloodPressure               0.159086\n",
       "SkinThickness               0.282009\n",
       "Insulin                     0.362527\n",
       "BMI                         0.311100\n",
       "DiabetesPedigreeFunction    0.169109\n",
       "Age                         0.236696\n",
       "Outcome                     1.000000\n",
       "Name: Outcome, dtype: float64"
      ]
     },
     "execution_count": 12,
     "metadata": {},
     "output_type": "execute_result"
    }
   ],
   "source": [
    "df_train.corr()[\"Outcome\"]"
   ]
  },
  {
   "cell_type": "code",
   "execution_count": 13,
   "metadata": {},
   "outputs": [
    {
     "name": "stdout",
     "output_type": "stream",
     "text": [
      "Accuracy: 0.76410998552822\n",
      "ROC AUC score: 0.7148224988473951\n",
      "Confusion Matrix: [[395  55]\n",
      " [108 133]]\n"
     ]
    }
   ],
   "source": [
    "y_pred = perform_cross_validation(\n",
    "    df_train.drop(columns=[\"Outcome\"]).values, df_train.loc[:, \"Outcome\"].values\n",
    ")\n",
    "\n",
    "print_metrics(y_train, y_pred)"
   ]
  },
  {
   "cell_type": "markdown",
   "metadata": {},
   "source": [
    "## Perform log transformation"
   ]
  },
  {
   "cell_type": "code",
   "execution_count": 14,
   "metadata": {},
   "outputs": [
    {
     "name": "stdout",
     "output_type": "stream",
     "text": [
      "<class 'pandas.core.frame.DataFrame'>\n",
      "RangeIndex: 691 entries, 0 to 690\n",
      "Data columns (total 9 columns):\n",
      " #   Column                    Non-Null Count  Dtype  \n",
      "---  ------                    --------------  -----  \n",
      " 0   Pregnancies               691 non-null    float64\n",
      " 1   Glucose                   691 non-null    float64\n",
      " 2   BloodPressure             691 non-null    float64\n",
      " 3   SkinThickness             691 non-null    float64\n",
      " 4   Insulin                   691 non-null    float64\n",
      " 5   BMI                       691 non-null    float64\n",
      " 6   DiabetesPedigreeFunction  691 non-null    float64\n",
      " 7   Age                       691 non-null    float64\n",
      " 8   Outcome                   691 non-null    float64\n",
      "dtypes: float64(9)\n",
      "memory usage: 48.7 KB\n"
     ]
    }
   ],
   "source": [
    "df_train = get_dataframe(X_train, y_train, df.columns)\n",
    "df_train.info()"
   ]
  },
  {
   "cell_type": "code",
   "execution_count": 15,
   "metadata": {},
   "outputs": [
    {
     "data": {
      "text/plain": [
       "Pregnancies                 0.213637\n",
       "Glucose                     0.500946\n",
       "BloodPressure               0.159086\n",
       "SkinThickness               0.282009\n",
       "Insulin                     0.362527\n",
       "BMI                         0.311100\n",
       "DiabetesPedigreeFunction    0.169109\n",
       "Age                         0.236696\n",
       "Outcome                     1.000000\n",
       "Name: Outcome, dtype: float64"
      ]
     },
     "execution_count": 15,
     "metadata": {},
     "output_type": "execute_result"
    }
   ],
   "source": [
    "df_train.corr()[\"Outcome\"]"
   ]
  },
  {
   "cell_type": "code",
   "execution_count": 16,
   "metadata": {},
   "outputs": [
    {
     "data": {
      "text/plain": [
       "array([[<AxesSubplot:title={'center':'Pregnancies'}>,\n",
       "        <AxesSubplot:title={'center':'Glucose'}>,\n",
       "        <AxesSubplot:title={'center':'BloodPressure'}>],\n",
       "       [<AxesSubplot:title={'center':'SkinThickness'}>,\n",
       "        <AxesSubplot:title={'center':'Insulin'}>,\n",
       "        <AxesSubplot:title={'center':'BMI'}>],\n",
       "       [<AxesSubplot:title={'center':'DiabetesPedigreeFunction'}>,\n",
       "        <AxesSubplot:title={'center':'Age'}>,\n",
       "        <AxesSubplot:title={'center':'Outcome'}>]], dtype=object)"
      ]
     },
     "execution_count": 16,
     "metadata": {},
     "output_type": "execute_result"
    },
    {
     "data": {
      "image/png": "[encoded data removed]",
      "text/plain": [
       "<Figure size 1440x720 with 9 Axes>"
      ]
     },
     "metadata": {
      "needs_background": "light"
     },
     "output_type": "display_data"
    }
   ],
   "source": [
    "df_train.hist(figsize=(20, 10))"
   ]
  },
  {
   "cell_type": "code",
   "execution_count": 17,
   "metadata": {},
   "outputs": [
    {
     "data": {
      "text/plain": [
       "array([[<AxesSubplot:title={'center':'Pregnancies'}>,\n",
       "        <AxesSubplot:title={'center':'Insulin'}>],\n",
       "       [<AxesSubplot:title={'center':'DiabetesPedigreeFunction'}>,\n",
       "        <AxesSubplot:title={'center':'Age'}>]], dtype=object)"
      ]
     },
     "execution_count": 17,
     "metadata": {},
     "output_type": "execute_result"
    },
    {
     "data": {
      "image/png": "[encoded data removed]",
      "text/plain": [
       "<Figure size 1440x720 with 4 Axes>"
      ]
     },
     "metadata": {
      "needs_background": "light"
     },
     "output_type": "display_data"
    }
   ],
   "source": [
    "# lets perform log transformation on age, pregnancies, diabeticpredigreefunction, Insulin\n",
    "# Glucose, bloodpressure and BMI already look like normally distributed\n",
    "cols_to_normal_dist = [\"Pregnancies\", \"Insulin\", \"DiabetesPedigreeFunction\", \"Age\"]\n",
    "df_train.loc[:, cols_to_normal_dist] = pd.DataFrame(\n",
    "    np.log(1 + df_train.loc[:, cols_to_normal_dist].values), columns=cols_to_normal_dist\n",
    ")\n",
    "\n",
    "df_train.loc[:, cols_to_normal_dist].hist(figsize=(20, 10))"
   ]
  },
  {
   "cell_type": "code",
   "execution_count": 18,
   "metadata": {},
   "outputs": [
    {
     "data": {
      "text/plain": [
       "Pregnancies                 0.169498\n",
       "Glucose                     0.500946\n",
       "BloodPressure               0.159086\n",
       "SkinThickness               0.282009\n",
       "Insulin                     0.409385\n",
       "BMI                         0.311100\n",
       "DiabetesPedigreeFunction    0.177285\n",
       "Age                         0.269421\n",
       "Outcome                     1.000000\n",
       "Name: Outcome, dtype: float64"
      ]
     },
     "execution_count": 18,
     "metadata": {},
     "output_type": "execute_result"
    }
   ],
   "source": [
    "df_train.corr()[\"Outcome\"]"
   ]
  },
  {
   "cell_type": "code",
   "execution_count": 19,
   "metadata": {},
   "outputs": [
    {
     "name": "stdout",
     "output_type": "stream",
     "text": [
      "Accuracy: 0.768451519536903\n",
      "ROC AUC score: 0.7200829875518672\n",
      "Confusion Matrix: [[396  54]\n",
      " [106 135]]\n"
     ]
    }
   ],
   "source": [
    "y_pred = perform_cross_validation(\n",
    "    df_train.drop(columns=[\"Outcome\"]).values, df_train.loc[:, \"Outcome\"].values\n",
    ")\n",
    "\n",
    "print_metrics(y_train, y_pred)"
   ]
  },
  {
   "cell_type": "markdown",
   "metadata": {},
   "source": [
    "Accuracy increased from 0.764 to 0.768"
   ]
  },
  {
   "cell_type": "markdown",
   "metadata": {},
   "source": [
    "## BoxCox transformation"
   ]
  },
  {
   "cell_type": "code",
   "execution_count": 20,
   "metadata": {},
   "outputs": [
    {
     "name": "stdout",
     "output_type": "stream",
     "text": [
      "<class 'pandas.core.frame.DataFrame'>\n",
      "RangeIndex: 691 entries, 0 to 690\n",
      "Data columns (total 9 columns):\n",
      " #   Column                    Non-Null Count  Dtype  \n",
      "---  ------                    --------------  -----  \n",
      " 0   Pregnancies               691 non-null    float64\n",
      " 1   Glucose                   691 non-null    float64\n",
      " 2   BloodPressure             691 non-null    float64\n",
      " 3   SkinThickness             691 non-null    float64\n",
      " 4   Insulin                   691 non-null    float64\n",
      " 5   BMI                       691 non-null    float64\n",
      " 6   DiabetesPedigreeFunction  691 non-null    float64\n",
      " 7   Age                       691 non-null    float64\n",
      " 8   Outcome                   691 non-null    float64\n",
      "dtypes: float64(9)\n",
      "memory usage: 48.7 KB\n"
     ]
    }
   ],
   "source": [
    "df_train = get_dataframe(X_train, y_train, df.columns)\n",
    "df_train.info()"
   ]
  },
  {
   "cell_type": "code",
   "execution_count": 21,
   "metadata": {},
   "outputs": [
    {
     "data": {
      "text/plain": [
       "0.1737921191814988"
      ]
     },
     "execution_count": 21,
     "metadata": {},
     "output_type": "execute_result"
    }
   ],
   "source": [
    "from scipy import stats as spstats\n",
    "\n",
    "l, opt_lambda = spstats.boxcox(1 + df_train[\"Pregnancies\"])\n",
    "opt_lambda"
   ]
  },
  {
   "cell_type": "code",
   "execution_count": 22,
   "metadata": {},
   "outputs": [],
   "source": [
    "pregnancies_transformed = spstats.boxcox(1 + df_train[\"Pregnancies\"], lmbda=opt_lambda)\n",
    "df_train[\"Pregnancies\"] = pregnancies_transformed"
   ]
  },
  {
   "cell_type": "code",
   "execution_count": 23,
   "metadata": {},
   "outputs": [
    {
     "data": {
      "text/plain": [
       "<AxesSubplot:ylabel='Count'>"
      ]
     },
     "execution_count": 23,
     "metadata": {},
     "output_type": "execute_result"
    },
    {
     "data": {
      "image/png": "[encoded data removed]",
      "text/plain": [
       "<Figure size 432x288 with 1 Axes>"
      ]
     },
     "metadata": {
      "needs_background": "light"
     },
     "output_type": "display_data"
    }
   ],
   "source": [
    "sns.histplot(data=pregnancies_transformed)"
   ]
  },
  {
   "cell_type": "code",
   "execution_count": 24,
   "metadata": {},
   "outputs": [
    {
     "data": {
      "text/plain": [
       "Pregnancies                 0.180397\n",
       "Glucose                     0.500946\n",
       "BloodPressure               0.159086\n",
       "SkinThickness               0.282009\n",
       "Insulin                     0.362527\n",
       "BMI                         0.311100\n",
       "DiabetesPedigreeFunction    0.169109\n",
       "Age                         0.236696\n",
       "Outcome                     1.000000\n",
       "Name: Outcome, dtype: float64"
      ]
     },
     "execution_count": 24,
     "metadata": {},
     "output_type": "execute_result"
    }
   ],
   "source": [
    "df_train.corr()[\"Outcome\"]"
   ]
  },
  {
   "cell_type": "code",
   "execution_count": 25,
   "metadata": {},
   "outputs": [
    {
     "name": "stdout",
     "output_type": "stream",
     "text": [
      "Accuracy: 0.7670043415340086\n",
      "ROC AUC score: 0.7189718764407561\n",
      "Confusion Matrix: [[395  55]\n",
      " [106 135]]\n"
     ]
    }
   ],
   "source": [
    "y_pred = perform_cross_validation(\n",
    "    df_train.drop(columns=[\"Outcome\"]).values, df_train.loc[:, \"Outcome\"].values\n",
    ")\n",
    "\n",
    "print_metrics(y_train, y_pred)"
   ]
  },
  {
   "cell_type": "markdown",
   "metadata": {},
   "source": [
    "## Binning Glucose and BMI"
   ]
  },
  {
   "cell_type": "code",
   "execution_count": 26,
   "metadata": {},
   "outputs": [
    {
     "name": "stdout",
     "output_type": "stream",
     "text": [
      "<class 'pandas.core.frame.DataFrame'>\n",
      "RangeIndex: 691 entries, 0 to 690\n",
      "Data columns (total 9 columns):\n",
      " #   Column                    Non-Null Count  Dtype  \n",
      "---  ------                    --------------  -----  \n",
      " 0   Pregnancies               691 non-null    float64\n",
      " 1   Glucose                   691 non-null    float64\n",
      " 2   BloodPressure             691 non-null    float64\n",
      " 3   SkinThickness             691 non-null    float64\n",
      " 4   Insulin                   691 non-null    float64\n",
      " 5   BMI                       691 non-null    float64\n",
      " 6   DiabetesPedigreeFunction  691 non-null    float64\n",
      " 7   Age                       691 non-null    float64\n",
      " 8   Outcome                   691 non-null    float64\n",
      "dtypes: float64(9)\n",
      "memory usage: 48.7 KB\n"
     ]
    }
   ],
   "source": [
    "df_train = get_dataframe(X_train, y_train, df.columns)\n",
    "df_train.info()"
   ]
  },
  {
   "cell_type": "markdown",
   "metadata": {},
   "source": [
    "> **Oral glucose tolerance test**-For this test, you fast overnight, and the fasting blood sugar level is measured. Then you drink a sugary liquid, and blood sugar levels are tested periodically for the next two hours.A blood sugar level less than 140 mg/dL (7.8 mmol/L) is normal. A reading of more than 200 mg/dL (11.1 mmol/L) after two hours indicates diabetes. A reading between 140 and 199 mg/dL (7.8 mmol/L and 11.0 mmol/L) indicates prediabetes."
   ]
  },
  {
   "cell_type": "code",
   "execution_count": 27,
   "metadata": {},
   "outputs": [
    {
     "data": {
      "text/plain": [
       "(44.0, 199.0, 121.59671972986013)"
      ]
     },
     "execution_count": 27,
     "metadata": {},
     "output_type": "execute_result"
    }
   ],
   "source": [
    "glucose = df_train[\"Glucose\"]\n",
    "glucose.min(), glucose.max(), glucose.mean()"
   ]
  },
  {
   "cell_type": "code",
   "execution_count": 28,
   "metadata": {},
   "outputs": [
    {
     "data": {
      "text/plain": [
       "Pregnancies                  float64\n",
       "Glucose                      float64\n",
       "BloodPressure                float64\n",
       "SkinThickness                float64\n",
       "Insulin                      float64\n",
       "BMI                          float64\n",
       "DiabetesPedigreeFunction     float64\n",
       "Age                          float64\n",
       "Outcome                      float64\n",
       "GlucoseLevel                category\n",
       "dtype: object"
      ]
     },
     "execution_count": 28,
     "metadata": {},
     "output_type": "execute_result"
    }
   ],
   "source": [
    "# introduce three categories normal, prediabetes and diabetes\n",
    "glucose_bins = [0, 100, 140, 200]\n",
    "glucose_bin_labels = [\"low\", \"normal\", \"prediabetic\"]\n",
    "df_train[\"GlucoseLevel\"] = pd.cut(\n",
    "    df_train.loc[:, \"Glucose\"], bins=glucose_bins, right=False, labels=glucose_bin_labels\n",
    ")\n",
    "df_train.dtypes"
   ]
  },
  {
   "cell_type": "code",
   "execution_count": 29,
   "metadata": {},
   "outputs": [
    {
     "data": {
      "text/html": [
       "<div>\n",
       "<style scoped>\n",
       "    .dataframe tbody tr th:only-of-type {\n",
       "        vertical-align: middle;\n",
       "    }\n",
       "\n",
       "    .dataframe tbody tr th {\n",
       "        vertical-align: top;\n",
       "    }\n",
       "\n",
       "    .dataframe thead th {\n",
       "        text-align: right;\n",
       "    }\n",
       "</style>\n",
       "<table border=\"1\" class=\"dataframe\">\n",
       "  <thead>\n",
       "    <tr style=\"text-align: right;\">\n",
       "      <th></th>\n",
       "      <th></th>\n",
       "      <th>Glucose</th>\n",
       "    </tr>\n",
       "    <tr>\n",
       "      <th>GlucoseLevel</th>\n",
       "      <th>Outcome</th>\n",
       "      <th></th>\n",
       "    </tr>\n",
       "  </thead>\n",
       "  <tbody>\n",
       "    <tr>\n",
       "      <th rowspan=\"2\" valign=\"top\">low</th>\n",
       "      <th>0.0</th>\n",
       "      <td>162</td>\n",
       "    </tr>\n",
       "    <tr>\n",
       "      <th>1.0</th>\n",
       "      <td>13</td>\n",
       "    </tr>\n",
       "    <tr>\n",
       "      <th rowspan=\"2\" valign=\"top\">normal</th>\n",
       "      <th>0.0</th>\n",
       "      <td>236</td>\n",
       "    </tr>\n",
       "    <tr>\n",
       "      <th>1.0</th>\n",
       "      <td>107</td>\n",
       "    </tr>\n",
       "    <tr>\n",
       "      <th rowspan=\"2\" valign=\"top\">prediabetic</th>\n",
       "      <th>0.0</th>\n",
       "      <td>52</td>\n",
       "    </tr>\n",
       "    <tr>\n",
       "      <th>1.0</th>\n",
       "      <td>121</td>\n",
       "    </tr>\n",
       "  </tbody>\n",
       "</table>\n",
       "</div>"
      ],
      "text/plain": [
       "                      Glucose\n",
       "GlucoseLevel Outcome         \n",
       "low          0.0          162\n",
       "             1.0           13\n",
       "normal       0.0          236\n",
       "             1.0          107\n",
       "prediabetic  0.0           52\n",
       "             1.0          121"
      ]
     },
     "execution_count": 29,
     "metadata": {},
     "output_type": "execute_result"
    }
   ],
   "source": [
    "df_train.loc[:, [\"Glucose\", \"GlucoseLevel\", \"Outcome\"]].groupby([\"GlucoseLevel\", \"Outcome\"]).count()"
   ]
  },
  {
   "cell_type": "code",
   "execution_count": 30,
   "metadata": {},
   "outputs": [
    {
     "data": {
      "text/html": [
       "<div>\n",
       "<style scoped>\n",
       "    .dataframe tbody tr th:only-of-type {\n",
       "        vertical-align: middle;\n",
       "    }\n",
       "\n",
       "    .dataframe tbody tr th {\n",
       "        vertical-align: top;\n",
       "    }\n",
       "\n",
       "    .dataframe thead th {\n",
       "        text-align: right;\n",
       "    }\n",
       "</style>\n",
       "<table border=\"1\" class=\"dataframe\">\n",
       "  <thead>\n",
       "    <tr style=\"text-align: right;\">\n",
       "      <th></th>\n",
       "      <th>Outcome</th>\n",
       "      <th>Glucose</th>\n",
       "    </tr>\n",
       "  </thead>\n",
       "  <tbody>\n",
       "    <tr>\n",
       "      <th>0</th>\n",
       "      <td>0.0</td>\n",
       "      <td>110.496543</td>\n",
       "    </tr>\n",
       "    <tr>\n",
       "      <th>1</th>\n",
       "      <td>1.0</td>\n",
       "      <td>142.323190</td>\n",
       "    </tr>\n",
       "  </tbody>\n",
       "</table>\n",
       "</div>"
      ],
      "text/plain": [
       "   Outcome     Glucose\n",
       "0      0.0  110.496543\n",
       "1      1.0  142.323190"
      ]
     },
     "execution_count": 30,
     "metadata": {},
     "output_type": "execute_result"
    }
   ],
   "source": [
    "df_train.loc[:, [\"Glucose\", \"Outcome\"]].groupby(\"Outcome\", as_index=False).mean()"
   ]
  },
  {
   "cell_type": "code",
   "execution_count": 31,
   "metadata": {},
   "outputs": [
    {
     "data": {
      "text/plain": [
       "Pregnancies                  float64\n",
       "Glucose                      float64\n",
       "BloodPressure                float64\n",
       "SkinThickness                float64\n",
       "Insulin                      float64\n",
       "BMI                          float64\n",
       "DiabetesPedigreeFunction     float64\n",
       "Age                          float64\n",
       "Outcome                      float64\n",
       "GlucoseLevel                category\n",
       "BMILevel                    category\n",
       "dtype: object"
      ]
     },
     "execution_count": 31,
     "metadata": {},
     "output_type": "execute_result"
    }
   ],
   "source": [
    "bmi_bins = [0, 19, 25, 30, df_train[\"BMI\"].max() + 1]\n",
    "bmi_bin_categories = [\"underweight\", \"normal\", \"overweight\", \"obese\"]\n",
    "df_train[\"BMILevel\"] = pd.cut(\n",
    "    df_train.loc[:, \"BMI\"], bins=bmi_bins, right=False, labels=bmi_bin_categories\n",
    ")\n",
    "df_train.dtypes"
   ]
  },
  {
   "cell_type": "code",
   "execution_count": 32,
   "metadata": {},
   "outputs": [
    {
     "data": {
      "text/html": [
       "<div>\n",
       "<style scoped>\n",
       "    .dataframe tbody tr th:only-of-type {\n",
       "        vertical-align: middle;\n",
       "    }\n",
       "\n",
       "    .dataframe tbody tr th {\n",
       "        vertical-align: top;\n",
       "    }\n",
       "\n",
       "    .dataframe thead th {\n",
       "        text-align: right;\n",
       "    }\n",
       "</style>\n",
       "<table border=\"1\" class=\"dataframe\">\n",
       "  <thead>\n",
       "    <tr style=\"text-align: right;\">\n",
       "      <th></th>\n",
       "      <th></th>\n",
       "      <th>BMI</th>\n",
       "    </tr>\n",
       "    <tr>\n",
       "      <th>BMILevel</th>\n",
       "      <th>Outcome</th>\n",
       "      <th></th>\n",
       "    </tr>\n",
       "  </thead>\n",
       "  <tbody>\n",
       "    <tr>\n",
       "      <th rowspan=\"2\" valign=\"top\">underweight</th>\n",
       "      <th>0.0</th>\n",
       "      <td>3.0</td>\n",
       "    </tr>\n",
       "    <tr>\n",
       "      <th>1.0</th>\n",
       "      <td>NaN</td>\n",
       "    </tr>\n",
       "    <tr>\n",
       "      <th rowspan=\"2\" valign=\"top\">normal</th>\n",
       "      <th>0.0</th>\n",
       "      <td>82.0</td>\n",
       "    </tr>\n",
       "    <tr>\n",
       "      <th>1.0</th>\n",
       "      <td>7.0</td>\n",
       "    </tr>\n",
       "    <tr>\n",
       "      <th rowspan=\"2\" valign=\"top\">overweight</th>\n",
       "      <th>0.0</th>\n",
       "      <td>131.0</td>\n",
       "    </tr>\n",
       "    <tr>\n",
       "      <th>1.0</th>\n",
       "      <td>38.0</td>\n",
       "    </tr>\n",
       "    <tr>\n",
       "      <th rowspan=\"2\" valign=\"top\">obese</th>\n",
       "      <th>0.0</th>\n",
       "      <td>234.0</td>\n",
       "    </tr>\n",
       "    <tr>\n",
       "      <th>1.0</th>\n",
       "      <td>196.0</td>\n",
       "    </tr>\n",
       "  </tbody>\n",
       "</table>\n",
       "</div>"
      ],
      "text/plain": [
       "                       BMI\n",
       "BMILevel    Outcome       \n",
       "underweight 0.0        3.0\n",
       "            1.0        NaN\n",
       "normal      0.0       82.0\n",
       "            1.0        7.0\n",
       "overweight  0.0      131.0\n",
       "            1.0       38.0\n",
       "obese       0.0      234.0\n",
       "            1.0      196.0"
      ]
     },
     "execution_count": 32,
     "metadata": {},
     "output_type": "execute_result"
    }
   ],
   "source": [
    "df_train.loc[:, [\"BMI\", \"BMILevel\", \"Outcome\"]].groupby([\"BMILevel\", \"Outcome\"]).count()"
   ]
  },
  {
   "cell_type": "code",
   "execution_count": 33,
   "metadata": {},
   "outputs": [
    {
     "data": {
      "text/plain": [
       "Pregnancies                 0.213637\n",
       "Glucose                     0.500946\n",
       "BloodPressure               0.159086\n",
       "SkinThickness               0.282009\n",
       "Insulin                     0.362527\n",
       "BMI                         0.311100\n",
       "DiabetesPedigreeFunction    0.169109\n",
       "Age                         0.236696\n",
       "Outcome                     1.000000\n",
       "Name: Outcome, dtype: float64"
      ]
     },
     "execution_count": 33,
     "metadata": {},
     "output_type": "execute_result"
    }
   ],
   "source": [
    "df_train.corr()[\"Outcome\"]"
   ]
  },
  {
   "cell_type": "code",
   "execution_count": 34,
   "metadata": {},
   "outputs": [
    {
     "data": {
      "text/html": [
       "<div>\n",
       "<style scoped>\n",
       "    .dataframe tbody tr th:only-of-type {\n",
       "        vertical-align: middle;\n",
       "    }\n",
       "\n",
       "    .dataframe tbody tr th {\n",
       "        vertical-align: top;\n",
       "    }\n",
       "\n",
       "    .dataframe thead th {\n",
       "        text-align: right;\n",
       "    }\n",
       "</style>\n",
       "<table border=\"1\" class=\"dataframe\">\n",
       "  <thead>\n",
       "    <tr style=\"text-align: right;\">\n",
       "      <th></th>\n",
       "      <th>Pregnancies</th>\n",
       "      <th>Glucose</th>\n",
       "      <th>BloodPressure</th>\n",
       "      <th>SkinThickness</th>\n",
       "      <th>Insulin</th>\n",
       "      <th>BMI</th>\n",
       "      <th>DiabetesPedigreeFunction</th>\n",
       "      <th>Age</th>\n",
       "      <th>Outcome</th>\n",
       "      <th>GlucoseLevel</th>\n",
       "      <th>BMILevel</th>\n",
       "      <th>GlucoseLevelEnc</th>\n",
       "      <th>BMILevelEnc</th>\n",
       "    </tr>\n",
       "  </thead>\n",
       "  <tbody>\n",
       "    <tr>\n",
       "      <th>0</th>\n",
       "      <td>1.0</td>\n",
       "      <td>113.0</td>\n",
       "      <td>64.0</td>\n",
       "      <td>35.000000</td>\n",
       "      <td>117.000000</td>\n",
       "      <td>33.6</td>\n",
       "      <td>0.543</td>\n",
       "      <td>21.0</td>\n",
       "      <td>1.0</td>\n",
       "      <td>normal</td>\n",
       "      <td>obese</td>\n",
       "      <td>1.0</td>\n",
       "      <td>1.0</td>\n",
       "    </tr>\n",
       "    <tr>\n",
       "      <th>1</th>\n",
       "      <td>1.0</td>\n",
       "      <td>88.0</td>\n",
       "      <td>30.0</td>\n",
       "      <td>42.000000</td>\n",
       "      <td>99.000000</td>\n",
       "      <td>55.0</td>\n",
       "      <td>0.496</td>\n",
       "      <td>26.0</td>\n",
       "      <td>1.0</td>\n",
       "      <td>low</td>\n",
       "      <td>obese</td>\n",
       "      <td>0.0</td>\n",
       "      <td>1.0</td>\n",
       "    </tr>\n",
       "    <tr>\n",
       "      <th>2</th>\n",
       "      <td>1.0</td>\n",
       "      <td>146.0</td>\n",
       "      <td>56.0</td>\n",
       "      <td>29.333333</td>\n",
       "      <td>219.111111</td>\n",
       "      <td>29.7</td>\n",
       "      <td>0.564</td>\n",
       "      <td>29.0</td>\n",
       "      <td>0.0</td>\n",
       "      <td>prediabetic</td>\n",
       "      <td>overweight</td>\n",
       "      <td>2.0</td>\n",
       "      <td>2.0</td>\n",
       "    </tr>\n",
       "    <tr>\n",
       "      <th>3</th>\n",
       "      <td>2.0</td>\n",
       "      <td>155.0</td>\n",
       "      <td>74.0</td>\n",
       "      <td>17.000000</td>\n",
       "      <td>96.000000</td>\n",
       "      <td>26.6</td>\n",
       "      <td>0.433</td>\n",
       "      <td>27.0</td>\n",
       "      <td>1.0</td>\n",
       "      <td>prediabetic</td>\n",
       "      <td>overweight</td>\n",
       "      <td>2.0</td>\n",
       "      <td>2.0</td>\n",
       "    </tr>\n",
       "    <tr>\n",
       "      <th>4</th>\n",
       "      <td>6.0</td>\n",
       "      <td>129.0</td>\n",
       "      <td>90.0</td>\n",
       "      <td>7.000000</td>\n",
       "      <td>326.000000</td>\n",
       "      <td>19.6</td>\n",
       "      <td>0.582</td>\n",
       "      <td>60.0</td>\n",
       "      <td>0.0</td>\n",
       "      <td>normal</td>\n",
       "      <td>normal</td>\n",
       "      <td>1.0</td>\n",
       "      <td>0.0</td>\n",
       "    </tr>\n",
       "  </tbody>\n",
       "</table>\n",
       "</div>"
      ],
      "text/plain": [
       "   Pregnancies  Glucose  BloodPressure  SkinThickness     Insulin   BMI  \\\n",
       "0          1.0    113.0           64.0      35.000000  117.000000  33.6   \n",
       "1          1.0     88.0           30.0      42.000000   99.000000  55.0   \n",
       "2          1.0    146.0           56.0      29.333333  219.111111  29.7   \n",
       "3          2.0    155.0           74.0      17.000000   96.000000  26.6   \n",
       "4          6.0    129.0           90.0       7.000000  326.000000  19.6   \n",
       "\n",
       "   DiabetesPedigreeFunction   Age  Outcome GlucoseLevel    BMILevel  \\\n",
       "0                     0.543  21.0      1.0       normal       obese   \n",
       "1                     0.496  26.0      1.0          low       obese   \n",
       "2                     0.564  29.0      0.0  prediabetic  overweight   \n",
       "3                     0.433  27.0      1.0  prediabetic  overweight   \n",
       "4                     0.582  60.0      0.0       normal      normal   \n",
       "\n",
       "   GlucoseLevelEnc  BMILevelEnc  \n",
       "0              1.0          1.0  \n",
       "1              0.0          1.0  \n",
       "2              2.0          2.0  \n",
       "3              2.0          2.0  \n",
       "4              1.0          0.0  "
      ]
     },
     "execution_count": 34,
     "metadata": {},
     "output_type": "execute_result"
    }
   ],
   "source": [
    "# perform cross validation using logistic regression classifier\n",
    "from sklearn.preprocessing import OrdinalEncoder\n",
    "\n",
    "ordinal_encoder = OrdinalEncoder()\n",
    "df_train.loc[:, [\"GlucoseLevelEnc\", \"BMILevelEnc\"]] = ordinal_encoder.fit_transform(\n",
    "    df_train.loc[:, [\"GlucoseLevel\", \"BMILevel\"]], df_train[\"Outcome\"]\n",
    ")\n",
    "df_train.head()"
   ]
  },
  {
   "cell_type": "code",
   "execution_count": 35,
   "metadata": {},
   "outputs": [
    {
     "data": {
      "text/plain": [
       "GlucoseLevelEnc    0.465112\n",
       "BMILevelEnc        0.004986\n",
       "Outcome            1.000000\n",
       "Name: Outcome, dtype: float64"
      ]
     },
     "execution_count": 35,
     "metadata": {},
     "output_type": "execute_result"
    }
   ],
   "source": [
    "df_train.loc[:, [\"GlucoseLevelEnc\", \"BMILevelEnc\", \"Outcome\"]].corr()[\"Outcome\"]"
   ]
  },
  {
   "cell_type": "code",
   "execution_count": 36,
   "metadata": {},
   "outputs": [
    {
     "name": "stdout",
     "output_type": "stream",
     "text": [
      "Accuracy: 0.7496382054992764\n",
      "ROC AUC score: 0.703711387736284\n",
      "Confusion Matrix: [[385  65]\n",
      " [108 133]]\n"
     ]
    }
   ],
   "source": [
    "# predicting with only the ordinal encoded features\n",
    "y_pred = perform_cross_validation(\n",
    "    df_train.drop(columns=[\"Glucose\", \"GlucoseLevel\", \"BMI\", \"BMILevel\", \"Outcome\"]).values,\n",
    "    df_train.loc[:, \"Outcome\"].values,\n",
    ")\n",
    "\n",
    "print_metrics(y_train, y_pred)"
   ]
  },
  {
   "cell_type": "markdown",
   "metadata": {},
   "source": [
    "Accuracy reduced from 0.764 to 0.749"
   ]
  },
  {
   "cell_type": "markdown",
   "metadata": {},
   "source": [
    "## Using feature interactions"
   ]
  },
  {
   "cell_type": "code",
   "execution_count": 37,
   "metadata": {},
   "outputs": [
    {
     "name": "stdout",
     "output_type": "stream",
     "text": [
      "<class 'pandas.core.frame.DataFrame'>\n",
      "RangeIndex: 691 entries, 0 to 690\n",
      "Data columns (total 9 columns):\n",
      " #   Column                    Non-Null Count  Dtype  \n",
      "---  ------                    --------------  -----  \n",
      " 0   Pregnancies               691 non-null    float64\n",
      " 1   Glucose                   691 non-null    float64\n",
      " 2   BloodPressure             691 non-null    float64\n",
      " 3   SkinThickness             691 non-null    float64\n",
      " 4   Insulin                   691 non-null    float64\n",
      " 5   BMI                       691 non-null    float64\n",
      " 6   DiabetesPedigreeFunction  691 non-null    float64\n",
      " 7   Age                       691 non-null    float64\n",
      " 8   Outcome                   691 non-null    float64\n",
      "dtypes: float64(9)\n",
      "memory usage: 48.7 KB\n"
     ]
    }
   ],
   "source": [
    "df_train = get_dataframe(X_train, y_train, df.columns)\n",
    "df_train.info()"
   ]
  },
  {
   "cell_type": "code",
   "execution_count": 38,
   "metadata": {},
   "outputs": [
    {
     "data": {
      "text/plain": [
       "(691, 21)"
      ]
     },
     "execution_count": 38,
     "metadata": {},
     "output_type": "execute_result"
    },
    {
     "data": {
      "text/plain": [
       "array([[1, 0, 0, 0, 0, 0],\n",
       "       [0, 1, 0, 0, 0, 0],\n",
       "       [0, 0, 1, 0, 0, 0],\n",
       "       [0, 0, 0, 1, 0, 0],\n",
       "       [0, 0, 0, 0, 1, 0],\n",
       "       [0, 0, 0, 0, 0, 1],\n",
       "       [1, 1, 0, 0, 0, 0],\n",
       "       [1, 0, 1, 0, 0, 0],\n",
       "       [1, 0, 0, 1, 0, 0],\n",
       "       [1, 0, 0, 0, 1, 0],\n",
       "       [1, 0, 0, 0, 0, 1],\n",
       "       [0, 1, 1, 0, 0, 0],\n",
       "       [0, 1, 0, 1, 0, 0],\n",
       "       [0, 1, 0, 0, 1, 0],\n",
       "       [0, 1, 0, 0, 0, 1],\n",
       "       [0, 0, 1, 1, 0, 0],\n",
       "       [0, 0, 1, 0, 1, 0],\n",
       "       [0, 0, 1, 0, 0, 1],\n",
       "       [0, 0, 0, 1, 1, 0],\n",
       "       [0, 0, 0, 1, 0, 1],\n",
       "       [0, 0, 0, 0, 1, 1]])"
      ]
     },
     "execution_count": 38,
     "metadata": {},
     "output_type": "execute_result"
    }
   ],
   "source": [
    "from sklearn.preprocessing import PolynomialFeatures\n",
    "\n",
    "interaction_feat_enc = PolynomialFeatures(degree=2, interaction_only=True, include_bias=False)\n",
    "\n",
    "features = [\"Pregnancies\", \"Glucose\", \"BloodPressure\", \"Insulin\", \"BMI\", \"Age\"]\n",
    "interac_feat_names = [\n",
    "    \"Pregnancies_Glucose\",\n",
    "    \"Pregnancies_BloodPressure\",\n",
    "    \"Pregnancies_Insulin\",\n",
    "    \"Pregnancies_BMI\",\n",
    "    \"Pregnancies_Age\",\n",
    "    \"Glucose_BloodPressure\",\n",
    "    \"Glucose_Insulin\",\n",
    "    \"Glucose_BMI\",\n",
    "    \"Glucose_Age\",\n",
    "    \"BloodPressure_Insulin\",\n",
    "    \"BloodPressure_BMI\",\n",
    "    \"BloodPressure_Age\",\n",
    "    \"Insulin_BMI\",\n",
    "    \"Insulin_Age\",\n",
    "    \"BMI_Age\",\n",
    "]\n",
    "\n",
    "interac_feat_values = interaction_feat_enc.fit_transform(df_train.loc[:, features])\n",
    "\n",
    "interac_feat_values.shape\n",
    "interaction_feat_enc.powers_"
   ]
  },
  {
   "cell_type": "code",
   "execution_count": 39,
   "metadata": {},
   "outputs": [
    {
     "data": {
      "text/html": [
       "<div>\n",
       "<style scoped>\n",
       "    .dataframe tbody tr th:only-of-type {\n",
       "        vertical-align: middle;\n",
       "    }\n",
       "\n",
       "    .dataframe tbody tr th {\n",
       "        vertical-align: top;\n",
       "    }\n",
       "\n",
       "    .dataframe thead th {\n",
       "        text-align: right;\n",
       "    }\n",
       "</style>\n",
       "<table border=\"1\" class=\"dataframe\">\n",
       "  <thead>\n",
       "    <tr style=\"text-align: right;\">\n",
       "      <th></th>\n",
       "      <th>Pregnancies_Glucose</th>\n",
       "      <th>Pregnancies_BloodPressure</th>\n",
       "      <th>Pregnancies_Insulin</th>\n",
       "      <th>Pregnancies_BMI</th>\n",
       "      <th>Pregnancies_Age</th>\n",
       "      <th>Glucose_BloodPressure</th>\n",
       "      <th>Glucose_Insulin</th>\n",
       "      <th>Glucose_BMI</th>\n",
       "      <th>Glucose_Age</th>\n",
       "      <th>BloodPressure_Insulin</th>\n",
       "      <th>BloodPressure_BMI</th>\n",
       "      <th>BloodPressure_Age</th>\n",
       "      <th>Insulin_BMI</th>\n",
       "      <th>Insulin_Age</th>\n",
       "      <th>BMI_Age</th>\n",
       "    </tr>\n",
       "  </thead>\n",
       "  <tbody>\n",
       "    <tr>\n",
       "      <th>0</th>\n",
       "      <td>113.0</td>\n",
       "      <td>64.0</td>\n",
       "      <td>117.000000</td>\n",
       "      <td>33.6</td>\n",
       "      <td>21.0</td>\n",
       "      <td>7232.0</td>\n",
       "      <td>13221.000000</td>\n",
       "      <td>3796.8</td>\n",
       "      <td>2373.0</td>\n",
       "      <td>7488.000000</td>\n",
       "      <td>2150.4</td>\n",
       "      <td>1344.0</td>\n",
       "      <td>3931.2</td>\n",
       "      <td>2457.000000</td>\n",
       "      <td>705.6</td>\n",
       "    </tr>\n",
       "    <tr>\n",
       "      <th>1</th>\n",
       "      <td>88.0</td>\n",
       "      <td>30.0</td>\n",
       "      <td>99.000000</td>\n",
       "      <td>55.0</td>\n",
       "      <td>26.0</td>\n",
       "      <td>2640.0</td>\n",
       "      <td>8712.000000</td>\n",
       "      <td>4840.0</td>\n",
       "      <td>2288.0</td>\n",
       "      <td>2970.000000</td>\n",
       "      <td>1650.0</td>\n",
       "      <td>780.0</td>\n",
       "      <td>5445.0</td>\n",
       "      <td>2574.000000</td>\n",
       "      <td>1430.0</td>\n",
       "    </tr>\n",
       "    <tr>\n",
       "      <th>2</th>\n",
       "      <td>146.0</td>\n",
       "      <td>56.0</td>\n",
       "      <td>219.111111</td>\n",
       "      <td>29.7</td>\n",
       "      <td>29.0</td>\n",
       "      <td>8176.0</td>\n",
       "      <td>31990.222222</td>\n",
       "      <td>4336.2</td>\n",
       "      <td>4234.0</td>\n",
       "      <td>12270.222222</td>\n",
       "      <td>1663.2</td>\n",
       "      <td>1624.0</td>\n",
       "      <td>6507.6</td>\n",
       "      <td>6354.222222</td>\n",
       "      <td>861.3</td>\n",
       "    </tr>\n",
       "    <tr>\n",
       "      <th>3</th>\n",
       "      <td>310.0</td>\n",
       "      <td>148.0</td>\n",
       "      <td>192.000000</td>\n",
       "      <td>53.2</td>\n",
       "      <td>54.0</td>\n",
       "      <td>11470.0</td>\n",
       "      <td>14880.000000</td>\n",
       "      <td>4123.0</td>\n",
       "      <td>4185.0</td>\n",
       "      <td>7104.000000</td>\n",
       "      <td>1968.4</td>\n",
       "      <td>1998.0</td>\n",
       "      <td>2553.6</td>\n",
       "      <td>2592.000000</td>\n",
       "      <td>718.2</td>\n",
       "    </tr>\n",
       "    <tr>\n",
       "      <th>4</th>\n",
       "      <td>774.0</td>\n",
       "      <td>540.0</td>\n",
       "      <td>1956.000000</td>\n",
       "      <td>117.6</td>\n",
       "      <td>360.0</td>\n",
       "      <td>11610.0</td>\n",
       "      <td>42054.000000</td>\n",
       "      <td>2528.4</td>\n",
       "      <td>7740.0</td>\n",
       "      <td>29340.000000</td>\n",
       "      <td>1764.0</td>\n",
       "      <td>5400.0</td>\n",
       "      <td>6389.6</td>\n",
       "      <td>19560.000000</td>\n",
       "      <td>1176.0</td>\n",
       "    </tr>\n",
       "  </tbody>\n",
       "</table>\n",
       "</div>"
      ],
      "text/plain": [
       "   Pregnancies_Glucose  Pregnancies_BloodPressure  Pregnancies_Insulin  \\\n",
       "0                113.0                       64.0           117.000000   \n",
       "1                 88.0                       30.0            99.000000   \n",
       "2                146.0                       56.0           219.111111   \n",
       "3                310.0                      148.0           192.000000   \n",
       "4                774.0                      540.0          1956.000000   \n",
       "\n",
       "   Pregnancies_BMI  Pregnancies_Age  Glucose_BloodPressure  Glucose_Insulin  \\\n",
       "0             33.6             21.0                 7232.0     13221.000000   \n",
       "1             55.0             26.0                 2640.0      8712.000000   \n",
       "2             29.7             29.0                 8176.0     31990.222222   \n",
       "3             53.2             54.0                11470.0     14880.000000   \n",
       "4            117.6            360.0                11610.0     42054.000000   \n",
       "\n",
       "   Glucose_BMI  Glucose_Age  BloodPressure_Insulin  BloodPressure_BMI  \\\n",
       "0       3796.8       2373.0            7488.000000             2150.4   \n",
       "1       4840.0       2288.0            2970.000000             1650.0   \n",
       "2       4336.2       4234.0           12270.222222             1663.2   \n",
       "3       4123.0       4185.0            7104.000000             1968.4   \n",
       "4       2528.4       7740.0           29340.000000             1764.0   \n",
       "\n",
       "   BloodPressure_Age  Insulin_BMI   Insulin_Age  BMI_Age  \n",
       "0             1344.0       3931.2   2457.000000    705.6  \n",
       "1              780.0       5445.0   2574.000000   1430.0  \n",
       "2             1624.0       6507.6   6354.222222    861.3  \n",
       "3             1998.0       2553.6   2592.000000    718.2  \n",
       "4             5400.0       6389.6  19560.000000   1176.0  "
      ]
     },
     "execution_count": 39,
     "metadata": {},
     "output_type": "execute_result"
    }
   ],
   "source": [
    "interac_feat_df = pd.DataFrame(interac_feat_values[:, len(features) :], columns=interac_feat_names)\n",
    "interac_feat_df.head()"
   ]
  },
  {
   "cell_type": "code",
   "execution_count": 40,
   "metadata": {},
   "outputs": [
    {
     "data": {
      "text/html": [
       "<div>\n",
       "<style scoped>\n",
       "    .dataframe tbody tr th:only-of-type {\n",
       "        vertical-align: middle;\n",
       "    }\n",
       "\n",
       "    .dataframe tbody tr th {\n",
       "        vertical-align: top;\n",
       "    }\n",
       "\n",
       "    .dataframe thead th {\n",
       "        text-align: right;\n",
       "    }\n",
       "</style>\n",
       "<table border=\"1\" class=\"dataframe\">\n",
       "  <thead>\n",
       "    <tr style=\"text-align: right;\">\n",
       "      <th></th>\n",
       "      <th>Pregnancies</th>\n",
       "      <th>Glucose</th>\n",
       "      <th>BloodPressure</th>\n",
       "      <th>SkinThickness</th>\n",
       "      <th>Insulin</th>\n",
       "      <th>BMI</th>\n",
       "      <th>DiabetesPedigreeFunction</th>\n",
       "      <th>Age</th>\n",
       "      <th>Outcome</th>\n",
       "      <th>Pregnancies_Glucose</th>\n",
       "      <th>...</th>\n",
       "      <th>Glucose_BloodPressure</th>\n",
       "      <th>Glucose_Insulin</th>\n",
       "      <th>Glucose_BMI</th>\n",
       "      <th>Glucose_Age</th>\n",
       "      <th>BloodPressure_Insulin</th>\n",
       "      <th>BloodPressure_BMI</th>\n",
       "      <th>BloodPressure_Age</th>\n",
       "      <th>Insulin_BMI</th>\n",
       "      <th>Insulin_Age</th>\n",
       "      <th>BMI_Age</th>\n",
       "    </tr>\n",
       "  </thead>\n",
       "  <tbody>\n",
       "    <tr>\n",
       "      <th>0</th>\n",
       "      <td>1.0</td>\n",
       "      <td>113.0</td>\n",
       "      <td>64.0</td>\n",
       "      <td>35.000000</td>\n",
       "      <td>117.000000</td>\n",
       "      <td>33.6</td>\n",
       "      <td>0.543</td>\n",
       "      <td>21.0</td>\n",
       "      <td>1.0</td>\n",
       "      <td>113.0</td>\n",
       "      <td>...</td>\n",
       "      <td>7232.0</td>\n",
       "      <td>13221.000000</td>\n",
       "      <td>3796.8</td>\n",
       "      <td>2373.0</td>\n",
       "      <td>7488.000000</td>\n",
       "      <td>2150.4</td>\n",
       "      <td>1344.0</td>\n",
       "      <td>3931.2</td>\n",
       "      <td>2457.000000</td>\n",
       "      <td>705.6</td>\n",
       "    </tr>\n",
       "    <tr>\n",
       "      <th>1</th>\n",
       "      <td>1.0</td>\n",
       "      <td>88.0</td>\n",
       "      <td>30.0</td>\n",
       "      <td>42.000000</td>\n",
       "      <td>99.000000</td>\n",
       "      <td>55.0</td>\n",
       "      <td>0.496</td>\n",
       "      <td>26.0</td>\n",
       "      <td>1.0</td>\n",
       "      <td>88.0</td>\n",
       "      <td>...</td>\n",
       "      <td>2640.0</td>\n",
       "      <td>8712.000000</td>\n",
       "      <td>4840.0</td>\n",
       "      <td>2288.0</td>\n",
       "      <td>2970.000000</td>\n",
       "      <td>1650.0</td>\n",
       "      <td>780.0</td>\n",
       "      <td>5445.0</td>\n",
       "      <td>2574.000000</td>\n",
       "      <td>1430.0</td>\n",
       "    </tr>\n",
       "    <tr>\n",
       "      <th>2</th>\n",
       "      <td>1.0</td>\n",
       "      <td>146.0</td>\n",
       "      <td>56.0</td>\n",
       "      <td>29.333333</td>\n",
       "      <td>219.111111</td>\n",
       "      <td>29.7</td>\n",
       "      <td>0.564</td>\n",
       "      <td>29.0</td>\n",
       "      <td>0.0</td>\n",
       "      <td>146.0</td>\n",
       "      <td>...</td>\n",
       "      <td>8176.0</td>\n",
       "      <td>31990.222222</td>\n",
       "      <td>4336.2</td>\n",
       "      <td>4234.0</td>\n",
       "      <td>12270.222222</td>\n",
       "      <td>1663.2</td>\n",
       "      <td>1624.0</td>\n",
       "      <td>6507.6</td>\n",
       "      <td>6354.222222</td>\n",
       "      <td>861.3</td>\n",
       "    </tr>\n",
       "    <tr>\n",
       "      <th>3</th>\n",
       "      <td>2.0</td>\n",
       "      <td>155.0</td>\n",
       "      <td>74.0</td>\n",
       "      <td>17.000000</td>\n",
       "      <td>96.000000</td>\n",
       "      <td>26.6</td>\n",
       "      <td>0.433</td>\n",
       "      <td>27.0</td>\n",
       "      <td>1.0</td>\n",
       "      <td>310.0</td>\n",
       "      <td>...</td>\n",
       "      <td>11470.0</td>\n",
       "      <td>14880.000000</td>\n",
       "      <td>4123.0</td>\n",
       "      <td>4185.0</td>\n",
       "      <td>7104.000000</td>\n",
       "      <td>1968.4</td>\n",
       "      <td>1998.0</td>\n",
       "      <td>2553.6</td>\n",
       "      <td>2592.000000</td>\n",
       "      <td>718.2</td>\n",
       "    </tr>\n",
       "    <tr>\n",
       "      <th>4</th>\n",
       "      <td>6.0</td>\n",
       "      <td>129.0</td>\n",
       "      <td>90.0</td>\n",
       "      <td>7.000000</td>\n",
       "      <td>326.000000</td>\n",
       "      <td>19.6</td>\n",
       "      <td>0.582</td>\n",
       "      <td>60.0</td>\n",
       "      <td>0.0</td>\n",
       "      <td>774.0</td>\n",
       "      <td>...</td>\n",
       "      <td>11610.0</td>\n",
       "      <td>42054.000000</td>\n",
       "      <td>2528.4</td>\n",
       "      <td>7740.0</td>\n",
       "      <td>29340.000000</td>\n",
       "      <td>1764.0</td>\n",
       "      <td>5400.0</td>\n",
       "      <td>6389.6</td>\n",
       "      <td>19560.000000</td>\n",
       "      <td>1176.0</td>\n",
       "    </tr>\n",
       "  </tbody>\n",
       "</table>\n",
       "<p>5 rows × 24 columns</p>\n",
       "</div>"
      ],
      "text/plain": [
       "   Pregnancies  Glucose  BloodPressure  SkinThickness     Insulin   BMI  \\\n",
       "0          1.0    113.0           64.0      35.000000  117.000000  33.6   \n",
       "1          1.0     88.0           30.0      42.000000   99.000000  55.0   \n",
       "2          1.0    146.0           56.0      29.333333  219.111111  29.7   \n",
       "3          2.0    155.0           74.0      17.000000   96.000000  26.6   \n",
       "4          6.0    129.0           90.0       7.000000  326.000000  19.6   \n",
       "\n",
       "   DiabetesPedigreeFunction   Age  Outcome  Pregnancies_Glucose  ...  \\\n",
       "0                     0.543  21.0      1.0                113.0  ...   \n",
       "1                     0.496  26.0      1.0                 88.0  ...   \n",
       "2                     0.564  29.0      0.0                146.0  ...   \n",
       "3                     0.433  27.0      1.0                310.0  ...   \n",
       "4                     0.582  60.0      0.0                774.0  ...   \n",
       "\n",
       "   Glucose_BloodPressure  Glucose_Insulin  Glucose_BMI  Glucose_Age  \\\n",
       "0                 7232.0     13221.000000       3796.8       2373.0   \n",
       "1                 2640.0      8712.000000       4840.0       2288.0   \n",
       "2                 8176.0     31990.222222       4336.2       4234.0   \n",
       "3                11470.0     14880.000000       4123.0       4185.0   \n",
       "4                11610.0     42054.000000       2528.4       7740.0   \n",
       "\n",
       "   BloodPressure_Insulin  BloodPressure_BMI  BloodPressure_Age  Insulin_BMI  \\\n",
       "0            7488.000000             2150.4             1344.0       3931.2   \n",
       "1            2970.000000             1650.0              780.0       5445.0   \n",
       "2           12270.222222             1663.2             1624.0       6507.6   \n",
       "3            7104.000000             1968.4             1998.0       2553.6   \n",
       "4           29340.000000             1764.0             5400.0       6389.6   \n",
       "\n",
       "    Insulin_Age  BMI_Age  \n",
       "0   2457.000000    705.6  \n",
       "1   2574.000000   1430.0  \n",
       "2   6354.222222    861.3  \n",
       "3   2592.000000    718.2  \n",
       "4  19560.000000   1176.0  \n",
       "\n",
       "[5 rows x 24 columns]"
      ]
     },
     "execution_count": 40,
     "metadata": {},
     "output_type": "execute_result"
    }
   ],
   "source": [
    "df_train = pd.concat([df_train, interac_feat_df], axis=1)\n",
    "df_train.head()"
   ]
  },
  {
   "cell_type": "code",
   "execution_count": 41,
   "metadata": {},
   "outputs": [
    {
     "data": {
      "text/plain": [
       "Pregnancies                  0.213637\n",
       "Glucose                      0.500946\n",
       "BloodPressure                0.159086\n",
       "SkinThickness                0.282009\n",
       "Insulin                      0.362527\n",
       "BMI                          0.311100\n",
       "DiabetesPedigreeFunction     0.169109\n",
       "Age                          0.236696\n",
       "Outcome                      1.000000\n",
       "Pregnancies_Glucose          0.320915\n",
       "Pregnancies_BloodPressure    0.225551\n",
       "Pregnancies_Insulin          0.337040\n",
       "Pregnancies_BMI              0.264399\n",
       "Pregnancies_Age              0.220260\n",
       "Glucose_BloodPressure        0.453196\n",
       "Glucose_Insulin              0.396872\n",
       "Glucose_BMI                  0.526764\n",
       "Glucose_Age                  0.405965\n",
       "BloodPressure_Insulin        0.372548\n",
       "BloodPressure_BMI            0.293353\n",
       "BloodPressure_Age            0.243147\n",
       "Insulin_BMI                  0.398928\n",
       "Insulin_Age                  0.348540\n",
       "BMI_Age                      0.359253\n",
       "Name: Outcome, dtype: float64"
      ]
     },
     "execution_count": 41,
     "metadata": {},
     "output_type": "execute_result"
    }
   ],
   "source": [
    "df_train.corr()[\"Outcome\"]"
   ]
  },
  {
   "cell_type": "code",
   "execution_count": 42,
   "metadata": {},
   "outputs": [
    {
     "name": "stdout",
     "output_type": "stream",
     "text": [
      "Accuracy: 0.7626628075253257\n",
      "ROC AUC score: 0.7156385431074228\n",
      "Confusion Matrix: [[392  58]\n",
      " [106 135]]\n"
     ]
    }
   ],
   "source": [
    "# predicting with all features\n",
    "y_pred = perform_cross_validation(\n",
    "    df_train.drop(columns=[\"Outcome\"]).values,\n",
    "    df_train.loc[:, \"Outcome\"].values,\n",
    ")\n",
    "\n",
    "print_metrics(y_train, y_pred)"
   ]
  },
  {
   "cell_type": "code",
   "execution_count": 43,
   "metadata": {},
   "outputs": [
    {
     "name": "stdout",
     "output_type": "stream",
     "text": [
      "Accuracy: 0.768451519536903\n",
      "ROC AUC score: 0.7181558321807284\n",
      "Confusion Matrix: [[398  52]\n",
      " [108 133]]\n"
     ]
    }
   ],
   "source": [
    "# predicting with only the interactive features\n",
    "y_pred = perform_cross_validation(\n",
    "    df_train.drop(columns=features + [\"Outcome\"]).values,\n",
    "    df_train.loc[:, \"Outcome\"].values,\n",
    ")\n",
    "\n",
    "print_metrics(y_train, y_pred)"
   ]
  }
 ],
 "metadata": {
  "kernelspec": {
   "display_name": "Python 3",
   "language": "python",
   "name": "python3"
  },
  "language_info": {
   "codemirror_mode": {
    "name": "ipython",
    "version": 3
   },
   "file_extension": ".py",
   "mimetype": "text/x-python",
   "name": "python",
   "nbconvert_exporter": "python",
   "pygments_lexer": "ipython3",
   "version": "3.8.0"
  }
 },
 "nbformat": 4,
 "nbformat_minor": 4
}
