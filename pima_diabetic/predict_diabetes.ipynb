{
 "cells": [
  {
   "cell_type": "markdown",
   "metadata": {},
   "source": [
    "# Predict the onset of diabetes based on diagnostic measures\n",
    "\n",
    "* [Dataset](https://www.kaggle.com/uciml/pima-indians-diabetes-database)"
   ]
  },
  {
   "cell_type": "code",
   "execution_count": 2,
   "metadata": {},
   "outputs": [],
   "source": [
    "from IPython.core.interactiveshell import InteractiveShell\n",
    "\n",
    "InteractiveShell.ast_node_interactivity = \"all\""
   ]
  },
  {
   "cell_type": "code",
   "execution_count": 8,
   "metadata": {},
   "outputs": [],
   "source": [
    "import numpy as np\n",
    "import pandas as pd\n",
    "import seaborn as sns\n",
    "from matplotlib import pyplot as plt"
   ]
  },
  {
   "cell_type": "code",
   "execution_count": 9,
   "metadata": {},
   "outputs": [
    {
     "data": {
      "text/plain": [
       "Index(['Pregnancies', 'Glucose', 'BloodPressure', 'SkinThickness', 'Insulin',\n",
       "       'BMI', 'DiabetesPedigreeFunction', 'Age', 'Outcome'],\n",
       "      dtype='object')"
      ]
     },
     "execution_count": 9,
     "metadata": {},
     "output_type": "execute_result"
    },
    {
     "data": {
      "text/html": [
       "<div>\n",
       "<style scoped>\n",
       "    .dataframe tbody tr th:only-of-type {\n",
       "        vertical-align: middle;\n",
       "    }\n",
       "\n",
       "    .dataframe tbody tr th {\n",
       "        vertical-align: top;\n",
       "    }\n",
       "\n",
       "    .dataframe thead th {\n",
       "        text-align: right;\n",
       "    }\n",
       "</style>\n",
       "<table border=\"1\" class=\"dataframe\">\n",
       "  <thead>\n",
       "    <tr style=\"text-align: right;\">\n",
       "      <th></th>\n",
       "      <th>Pregnancies</th>\n",
       "      <th>Glucose</th>\n",
       "      <th>BloodPressure</th>\n",
       "      <th>SkinThickness</th>\n",
       "      <th>Insulin</th>\n",
       "      <th>BMI</th>\n",
       "      <th>DiabetesPedigreeFunction</th>\n",
       "      <th>Age</th>\n",
       "      <th>Outcome</th>\n",
       "    </tr>\n",
       "  </thead>\n",
       "  <tbody>\n",
       "    <tr>\n",
       "      <th>0</th>\n",
       "      <td>6</td>\n",
       "      <td>148</td>\n",
       "      <td>72</td>\n",
       "      <td>35</td>\n",
       "      <td>0</td>\n",
       "      <td>33.6</td>\n",
       "      <td>0.627</td>\n",
       "      <td>50</td>\n",
       "      <td>1</td>\n",
       "    </tr>\n",
       "    <tr>\n",
       "      <th>1</th>\n",
       "      <td>1</td>\n",
       "      <td>85</td>\n",
       "      <td>66</td>\n",
       "      <td>29</td>\n",
       "      <td>0</td>\n",
       "      <td>26.6</td>\n",
       "      <td>0.351</td>\n",
       "      <td>31</td>\n",
       "      <td>0</td>\n",
       "    </tr>\n",
       "    <tr>\n",
       "      <th>2</th>\n",
       "      <td>8</td>\n",
       "      <td>183</td>\n",
       "      <td>64</td>\n",
       "      <td>0</td>\n",
       "      <td>0</td>\n",
       "      <td>23.3</td>\n",
       "      <td>0.672</td>\n",
       "      <td>32</td>\n",
       "      <td>1</td>\n",
       "    </tr>\n",
       "    <tr>\n",
       "      <th>3</th>\n",
       "      <td>1</td>\n",
       "      <td>89</td>\n",
       "      <td>66</td>\n",
       "      <td>23</td>\n",
       "      <td>94</td>\n",
       "      <td>28.1</td>\n",
       "      <td>0.167</td>\n",
       "      <td>21</td>\n",
       "      <td>0</td>\n",
       "    </tr>\n",
       "    <tr>\n",
       "      <th>4</th>\n",
       "      <td>0</td>\n",
       "      <td>137</td>\n",
       "      <td>40</td>\n",
       "      <td>35</td>\n",
       "      <td>168</td>\n",
       "      <td>43.1</td>\n",
       "      <td>2.288</td>\n",
       "      <td>33</td>\n",
       "      <td>1</td>\n",
       "    </tr>\n",
       "  </tbody>\n",
       "</table>\n",
       "</div>"
      ],
      "text/plain": [
       "   Pregnancies  Glucose  BloodPressure  SkinThickness  Insulin   BMI  \\\n",
       "0            6      148             72             35        0  33.6   \n",
       "1            1       85             66             29        0  26.6   \n",
       "2            8      183             64              0        0  23.3   \n",
       "3            1       89             66             23       94  28.1   \n",
       "4            0      137             40             35      168  43.1   \n",
       "\n",
       "   DiabetesPedigreeFunction  Age  Outcome  \n",
       "0                     0.627   50        1  \n",
       "1                     0.351   31        0  \n",
       "2                     0.672   32        1  \n",
       "3                     0.167   21        0  \n",
       "4                     2.288   33        1  "
      ]
     },
     "execution_count": 9,
     "metadata": {},
     "output_type": "execute_result"
    }
   ],
   "source": [
    "df = pd.read_csv(\"dataset/diabetes.csv\")\n",
    "df.columns\n",
    "df.head(5)"
   ]
  },
  {
   "cell_type": "code",
   "execution_count": 10,
   "metadata": {},
   "outputs": [
    {
     "name": "stdout",
     "output_type": "stream",
     "text": [
      "<class 'pandas.core.frame.DataFrame'>\n",
      "RangeIndex: 768 entries, 0 to 767\n",
      "Data columns (total 9 columns):\n",
      " #   Column                    Non-Null Count  Dtype  \n",
      "---  ------                    --------------  -----  \n",
      " 0   Pregnancies               768 non-null    int64  \n",
      " 1   Glucose                   768 non-null    int64  \n",
      " 2   BloodPressure             768 non-null    int64  \n",
      " 3   SkinThickness             768 non-null    int64  \n",
      " 4   Insulin                   768 non-null    int64  \n",
      " 5   BMI                       768 non-null    float64\n",
      " 6   DiabetesPedigreeFunction  768 non-null    float64\n",
      " 7   Age                       768 non-null    int64  \n",
      " 8   Outcome                   768 non-null    int64  \n",
      "dtypes: float64(2), int64(7)\n",
      "memory usage: 54.1 KB\n"
     ]
    }
   ],
   "source": [
    "df.info()"
   ]
  },
  {
   "cell_type": "code",
   "execution_count": 11,
   "metadata": {},
   "outputs": [
    {
     "data": {
      "text/html": [
       "<div>\n",
       "<style scoped>\n",
       "    .dataframe tbody tr th:only-of-type {\n",
       "        vertical-align: middle;\n",
       "    }\n",
       "\n",
       "    .dataframe tbody tr th {\n",
       "        vertical-align: top;\n",
       "    }\n",
       "\n",
       "    .dataframe thead th {\n",
       "        text-align: right;\n",
       "    }\n",
       "</style>\n",
       "<table border=\"1\" class=\"dataframe\">\n",
       "  <thead>\n",
       "    <tr style=\"text-align: right;\">\n",
       "      <th></th>\n",
       "      <th>Pregnancies</th>\n",
       "      <th>Glucose</th>\n",
       "      <th>BloodPressure</th>\n",
       "      <th>SkinThickness</th>\n",
       "      <th>Insulin</th>\n",
       "      <th>BMI</th>\n",
       "      <th>DiabetesPedigreeFunction</th>\n",
       "      <th>Age</th>\n",
       "      <th>Outcome</th>\n",
       "    </tr>\n",
       "  </thead>\n",
       "  <tbody>\n",
       "    <tr>\n",
       "      <th>count</th>\n",
       "      <td>768.000000</td>\n",
       "      <td>768.000000</td>\n",
       "      <td>768.000000</td>\n",
       "      <td>768.000000</td>\n",
       "      <td>768.000000</td>\n",
       "      <td>768.000000</td>\n",
       "      <td>768.000000</td>\n",
       "      <td>768.000000</td>\n",
       "      <td>768.000000</td>\n",
       "    </tr>\n",
       "    <tr>\n",
       "      <th>mean</th>\n",
       "      <td>3.845052</td>\n",
       "      <td>120.894531</td>\n",
       "      <td>69.105469</td>\n",
       "      <td>20.536458</td>\n",
       "      <td>79.799479</td>\n",
       "      <td>31.992578</td>\n",
       "      <td>0.471876</td>\n",
       "      <td>33.240885</td>\n",
       "      <td>0.348958</td>\n",
       "    </tr>\n",
       "    <tr>\n",
       "      <th>std</th>\n",
       "      <td>3.369578</td>\n",
       "      <td>31.972618</td>\n",
       "      <td>19.355807</td>\n",
       "      <td>15.952218</td>\n",
       "      <td>115.244002</td>\n",
       "      <td>7.884160</td>\n",
       "      <td>0.331329</td>\n",
       "      <td>11.760232</td>\n",
       "      <td>0.476951</td>\n",
       "    </tr>\n",
       "    <tr>\n",
       "      <th>min</th>\n",
       "      <td>0.000000</td>\n",
       "      <td>0.000000</td>\n",
       "      <td>0.000000</td>\n",
       "      <td>0.000000</td>\n",
       "      <td>0.000000</td>\n",
       "      <td>0.000000</td>\n",
       "      <td>0.078000</td>\n",
       "      <td>21.000000</td>\n",
       "      <td>0.000000</td>\n",
       "    </tr>\n",
       "    <tr>\n",
       "      <th>25%</th>\n",
       "      <td>1.000000</td>\n",
       "      <td>99.000000</td>\n",
       "      <td>62.000000</td>\n",
       "      <td>0.000000</td>\n",
       "      <td>0.000000</td>\n",
       "      <td>27.300000</td>\n",
       "      <td>0.243750</td>\n",
       "      <td>24.000000</td>\n",
       "      <td>0.000000</td>\n",
       "    </tr>\n",
       "    <tr>\n",
       "      <th>50%</th>\n",
       "      <td>3.000000</td>\n",
       "      <td>117.000000</td>\n",
       "      <td>72.000000</td>\n",
       "      <td>23.000000</td>\n",
       "      <td>30.500000</td>\n",
       "      <td>32.000000</td>\n",
       "      <td>0.372500</td>\n",
       "      <td>29.000000</td>\n",
       "      <td>0.000000</td>\n",
       "    </tr>\n",
       "    <tr>\n",
       "      <th>75%</th>\n",
       "      <td>6.000000</td>\n",
       "      <td>140.250000</td>\n",
       "      <td>80.000000</td>\n",
       "      <td>32.000000</td>\n",
       "      <td>127.250000</td>\n",
       "      <td>36.600000</td>\n",
       "      <td>0.626250</td>\n",
       "      <td>41.000000</td>\n",
       "      <td>1.000000</td>\n",
       "    </tr>\n",
       "    <tr>\n",
       "      <th>max</th>\n",
       "      <td>17.000000</td>\n",
       "      <td>199.000000</td>\n",
       "      <td>122.000000</td>\n",
       "      <td>99.000000</td>\n",
       "      <td>846.000000</td>\n",
       "      <td>67.100000</td>\n",
       "      <td>2.420000</td>\n",
       "      <td>81.000000</td>\n",
       "      <td>1.000000</td>\n",
       "    </tr>\n",
       "  </tbody>\n",
       "</table>\n",
       "</div>"
      ],
      "text/plain": [
       "       Pregnancies     Glucose  BloodPressure  SkinThickness     Insulin  \\\n",
       "count   768.000000  768.000000     768.000000     768.000000  768.000000   \n",
       "mean      3.845052  120.894531      69.105469      20.536458   79.799479   \n",
       "std       3.369578   31.972618      19.355807      15.952218  115.244002   \n",
       "min       0.000000    0.000000       0.000000       0.000000    0.000000   \n",
       "25%       1.000000   99.000000      62.000000       0.000000    0.000000   \n",
       "50%       3.000000  117.000000      72.000000      23.000000   30.500000   \n",
       "75%       6.000000  140.250000      80.000000      32.000000  127.250000   \n",
       "max      17.000000  199.000000     122.000000      99.000000  846.000000   \n",
       "\n",
       "              BMI  DiabetesPedigreeFunction         Age     Outcome  \n",
       "count  768.000000                768.000000  768.000000  768.000000  \n",
       "mean    31.992578                  0.471876   33.240885    0.348958  \n",
       "std      7.884160                  0.331329   11.760232    0.476951  \n",
       "min      0.000000                  0.078000   21.000000    0.000000  \n",
       "25%     27.300000                  0.243750   24.000000    0.000000  \n",
       "50%     32.000000                  0.372500   29.000000    0.000000  \n",
       "75%     36.600000                  0.626250   41.000000    1.000000  \n",
       "max     67.100000                  2.420000   81.000000    1.000000  "
      ]
     },
     "execution_count": 11,
     "metadata": {},
     "output_type": "execute_result"
    }
   ],
   "source": [
    "df.describe()"
   ]
  },
  {
   "cell_type": "markdown",
   "metadata": {},
   "source": [
    "## Data Exploration"
   ]
  },
  {
   "cell_type": "code",
   "execution_count": 51,
   "metadata": {
    "scrolled": true
   },
   "outputs": [
    {
     "data": {
      "text/plain": [
       "Pregnancies                 0.221898\n",
       "Glucose                     0.494650\n",
       "BloodPressure               0.170589\n",
       "SkinThickness               0.259491\n",
       "Insulin                     0.303454\n",
       "BMI                         0.313680\n",
       "DiabetesPedigreeFunction    0.173844\n",
       "Age                         0.238356\n",
       "Outcome                     1.000000\n",
       "Name: Outcome, dtype: float64"
      ]
     },
     "execution_count": 51,
     "metadata": {},
     "output_type": "execute_result"
    }
   ],
   "source": [
    "df.corr()[\"Outcome\"]"
   ]
  },
  {
   "cell_type": "code",
   "execution_count": 52,
   "metadata": {},
   "outputs": [
    {
     "data": {
      "text/plain": [
       "<seaborn.axisgrid.FacetGrid at 0x7f9741c629a0>"
      ]
     },
     "execution_count": 52,
     "metadata": {},
     "output_type": "execute_result"
    },
    {
     "data": {
      "image/png": "[encoded data removed]",
      "text/plain": [
       "<Figure size 413.25x360 with 1 Axes>"
      ]
     },
     "metadata": {
      "needs_background": "light"
     },
     "output_type": "display_data"
    }
   ],
   "source": [
    "sns.lmplot(x=\"Glucose\", y=\"DiabetesPedigreeFunction\", data=df, hue=\"Outcome\")"
   ]
  },
  {
   "cell_type": "code",
   "execution_count": 53,
   "metadata": {},
   "outputs": [
    {
     "data": {
      "text/plain": [
       "<seaborn.axisgrid.FacetGrid at 0x7f97408bde20>"
      ]
     },
     "execution_count": 53,
     "metadata": {},
     "output_type": "execute_result"
    },
    {
     "data": {
      "image/png": "[encoded data removed]",
      "text/plain": [
       "<Figure size 413.25x360 with 1 Axes>"
      ]
     },
     "metadata": {
      "needs_background": "light"
     },
     "output_type": "display_data"
    }
   ],
   "source": [
    "sns.lmplot(x=\"Glucose\", y=\"Age\", data=df, hue=\"Outcome\")"
   ]
  },
  {
   "cell_type": "markdown",
   "metadata": {},
   "source": [
    "## Handle missing values"
   ]
  },
  {
   "cell_type": "code",
   "execution_count": 14,
   "metadata": {},
   "outputs": [
    {
     "name": "stdout",
     "output_type": "stream",
     "text": [
      "<class 'pandas.core.frame.DataFrame'>\n",
      "RangeIndex: 768 entries, 0 to 767\n",
      "Data columns (total 9 columns):\n",
      " #   Column                    Non-Null Count  Dtype  \n",
      "---  ------                    --------------  -----  \n",
      " 0   Pregnancies               768 non-null    int64  \n",
      " 1   Glucose                   763 non-null    float64\n",
      " 2   BloodPressure             733 non-null    float64\n",
      " 3   SkinThickness             541 non-null    float64\n",
      " 4   Insulin                   394 non-null    float64\n",
      " 5   BMI                       757 non-null    float64\n",
      " 6   DiabetesPedigreeFunction  768 non-null    float64\n",
      " 7   Age                       768 non-null    int64  \n",
      " 8   Outcome                   768 non-null    int64  \n",
      "dtypes: float64(6), int64(3)\n",
      "memory usage: 54.1 KB\n"
     ]
    }
   ],
   "source": [
    "cols_with_missing_values = [\"Glucose\", \"BloodPressure\", \"SkinThickness\", \"Insulin\", \"BMI\"]\n",
    "df[cols_with_missing_values] = df.loc[:, cols_with_missing_values].replace(0, np.NAN)\n",
    "df.info()"
   ]
  },
  {
   "cell_type": "markdown",
   "metadata": {},
   "source": [
    "## Split training and testing data"
   ]
  },
  {
   "cell_type": "code",
   "execution_count": 15,
   "metadata": {},
   "outputs": [],
   "source": [
    "from sklearn.model_selection import train_test_split\n",
    "\n",
    "X = df.iloc[:, :-1].values\n",
    "y = df.iloc[:, -1].values\n",
    "\n",
    "X_train, X_test, y_train, y_test = train_test_split(\n",
    "    X, y, test_size=0.2, stratify=y, random_state=42\n",
    ")"
   ]
  },
  {
   "cell_type": "markdown",
   "metadata": {},
   "source": [
    "## Find the best imputation strategy"
   ]
  },
  {
   "cell_type": "code",
   "execution_count": null,
   "metadata": {},
   "outputs": [],
   "source": [
    "# from sklearn.model_selection import cross_val_score, RepeatedStratifiedKFold\n",
    "\n",
    "# def evaluate_best_param_for_imputer(imputer_cls, params):\n",
    "#     params_scores = {}\n",
    "#     for strategy in strategies:\n",
    "#     cv = RepeatedStratifiedKFold(n_splits=5, n_repeats=3, random_state=42)\n",
    "#     scores = cross_val_score(estimator, X_train, y_train, scoring=\"accuracy\", n_jobs=-1)\n",
    "#     print(f\"Parameter value {strategy} score:  {scores.mean()}\")\n",
    "#     strategy_scores[strategy] = scores.mean()"
   ]
  },
  {
   "cell_type": "code",
   "execution_count": 34,
   "metadata": {},
   "outputs": [
    {
     "name": "stdout",
     "output_type": "stream",
     "text": [
      "Strategy and score: mean, 0.753578568572571\n",
      "Strategy and score: median, 0.7535741259051936\n",
      "Strategy and score: most_frequent, 0.754120573992625\n",
      "Strategy and score: constant, 0.757910169265627\n",
      "Parameter with best score: constant\n"
     ]
    }
   ],
   "source": [
    "from sklearn.ensemble import RandomForestClassifier\n",
    "\n",
    "# using simple imputation strategy\n",
    "from sklearn.impute import SimpleImputer\n",
    "from sklearn.model_selection import RepeatedStratifiedKFold, cross_val_score\n",
    "from sklearn.pipeline import Pipeline\n",
    "\n",
    "# lets find the best strategy to use for imputing\n",
    "strategies = [\"mean\", \"median\", \"most_frequent\", \"constant\"]\n",
    "\n",
    "strategy_scores = {}\n",
    "for strategy in strategies:\n",
    "    pipeline = Pipeline(\n",
    "        [\n",
    "            (\"imputer\", SimpleImputer(strategy=strategy, fill_value=0)),\n",
    "            (\"classifier\", RandomForestClassifier(n_estimators=500, random_state=42)),\n",
    "        ]\n",
    "    )\n",
    "    cv = RepeatedStratifiedKFold(n_splits=5, n_repeats=3, random_state=42)\n",
    "    scores = cross_val_score(pipeline, X_train, y_train, cv=cv, scoring=\"accuracy\", n_jobs=-1)\n",
    "    print(f\"Strategy and score: {strategy}, {scores.mean()}\")\n",
    "    strategy_scores[strategy] = scores.mean()\n",
    "\n",
    "max_score = max(strategy_scores.values())\n",
    "for k, v in strategy_scores.items():\n",
    "    if v == max_score:\n",
    "        print(f\"Parameter with best score: {k}\")\n",
    "        break"
   ]
  },
  {
   "cell_type": "code",
   "execution_count": 35,
   "metadata": {},
   "outputs": [
    {
     "name": "stdout",
     "output_type": "stream",
     "text": [
      "Neighbours and score: 3, 0.7557421475854103\n",
      "Neighbours and score: 4, 0.7584388466835487\n",
      "Neighbours and score: 5, 0.7508729841396775\n",
      "Neighbours and score: 6, 0.7579101692656269\n",
      "Neighbours and score: 7, 0.7595317428584121\n",
      "Neighbours and score: 8, 0.7606157536985204\n",
      "Neighbours and score: 9, 0.766049135901195\n",
      "Neighbours and score: 10, 0.7617042072060066\n",
      "Neighbours and score: 11, 0.7595184148562797\n",
      "Neighbours and score: 12, 0.7568217157581413\n",
      "Neighbours and score: 13, 0.754649251410547\n",
      "Neighbours and score: 14, 0.7622550979608157\n",
      "Neighbours and score: 15, 0.7638811142209783\n",
      "Neighbours and score: 16, 0.7600648629437113\n",
      "Neighbours and score: 17, 0.7568261584255187\n",
      "Neighbours and score: 18, 0.7600693056110889\n",
      "Neighbours and score: 19, 0.76114887378382\n"
     ]
    }
   ],
   "source": [
    "from sklearn.impute import KNNImputer\n",
    "\n",
    "# Highest accuracy with n=9\n",
    "for neighbour in range(3, 20):\n",
    "    pipeline = Pipeline(\n",
    "        [\n",
    "            (\"imputer\", KNNImputer(n_neighbors=neighbour)),\n",
    "            (\"classifier\", RandomForestClassifier(n_estimators=500, random_state=42)),\n",
    "        ]\n",
    "    )\n",
    "    cv = RepeatedStratifiedKFold(n_splits=5, n_repeats=3, random_state=42)\n",
    "    scores = cross_val_score(pipeline, X_train, y_train, cv=cv, scoring=\"accuracy\", n_jobs=-1)\n",
    "    print(f\"Neighbours and score: {neighbour}, {scores.mean()}\")"
   ]
  },
  {
   "cell_type": "code",
   "execution_count": 37,
   "metadata": {},
   "outputs": [
    {
     "name": "stdout",
     "output_type": "stream",
     "text": [
      "Weight and score: uniform, 0.766049135901195\n",
      "Weight and score: distance, 0.765507130481141\n"
     ]
    }
   ],
   "source": [
    "# uniform performs better\n",
    "for weight in [\"uniform\", \"distance\"]:\n",
    "    pipeline = Pipeline(\n",
    "        [\n",
    "            (\"imputer\", KNNImputer(n_neighbors=9, weights=weight)),\n",
    "            (\"classifier\", RandomForestClassifier(n_estimators=500, random_state=42)),\n",
    "        ]\n",
    "    )\n",
    "    cv = RepeatedStratifiedKFold(n_splits=5, n_repeats=3, random_state=42)\n",
    "    scores = cross_val_score(pipeline, X_train, y_train, cv=cv, scoring=\"accuracy\", n_jobs=-1)\n",
    "    print(f\"Weight and score: {weight}, {scores.mean()}\")"
   ]
  },
  {
   "cell_type": "markdown",
   "metadata": {},
   "source": [
    "KNNImputer with 10 neighbours and uniform strategy seems to be performing the best."
   ]
  },
  {
   "cell_type": "markdown",
   "metadata": {},
   "source": [
    "## Evaluate models"
   ]
  },
  {
   "cell_type": "code",
   "execution_count": 44,
   "metadata": {},
   "outputs": [],
   "source": [
    "from lightgbm import LGBMClassifier\n",
    "from sklearn.ensemble import (\n",
    "    AdaBoostClassifier,\n",
    "    ExtraTreesClassifier,\n",
    "    GradientBoostingClassifier,\n",
    "    RandomForestClassifier,\n",
    ")\n",
    "from sklearn.linear_model import LogisticRegression\n",
    "from sklearn.naive_bayes import GaussianNB\n",
    "from sklearn.neighbors import KNeighborsClassifier\n",
    "from sklearn.svm import SVC\n",
    "from sklearn.tree import DecisionTreeClassifier\n",
    "from xgboost import XGBClassifier\n",
    "\n",
    "\n",
    "# NOTE: I didnot do feature scaling for SVC, KNN\n",
    "def get_models():\n",
    "    return [\n",
    "        (\"Logistic\", LogisticRegression(random_state=42)),\n",
    "        (\"SVC\", SVC(random_state=42)),\n",
    "        (\"KNN\", KNeighborsClassifier(n_neighbors=10)),\n",
    "        (\"RandomForest\", RandomForestClassifier(n_estimators=500, random_state=42)),\n",
    "        (\"ExtraTrees\", ExtraTreesClassifier(n_estimators=500, random_state=42)),\n",
    "        (\n",
    "            \"AdaBoost\",\n",
    "            AdaBoostClassifier(\n",
    "                base_estimator=DecisionTreeClassifier(max_depth=2),\n",
    "                n_estimators=500,\n",
    "                random_state=42,\n",
    "            ),\n",
    "        ),\n",
    "        (\"GradientBoost\", GradientBoostingClassifier(n_estimators=500, random_state=42)),\n",
    "        (\"LightGradientBoost\", LGBMClassifier(random_state=42)),\n",
    "        (\"XGBoost\", XGBClassifier(n_estimators=100, use_label_encoder=False, random_state=42)),\n",
    "    ]"
   ]
  },
  {
   "cell_type": "code",
   "execution_count": 45,
   "metadata": {},
   "outputs": [
    {
     "name": "stdout",
     "output_type": "stream",
     "text": [
      "Model and score: Logistic, 0.7812475009996002\n",
      "Model and score: SVC, 0.7654760318094984\n",
      "Model and score: KNN, 0.7448531698431737\n",
      "Model and score: RandomForest, 0.766049135901195\n",
      "Model and score: ExtraTrees, 0.7638766715536008\n",
      "Model and score: AdaBoost, 0.7182327069172332\n",
      "Model and score: GradientBoost, 0.7394686569816518\n",
      "Model and score: LightGradientBoost, 0.7448487271757962\n",
      "Model and score: XGBoost, 0.741045803900662\n"
     ]
    }
   ],
   "source": [
    "for model in get_models():\n",
    "    pipeline = Pipeline([(\"imputer\", KNNImputer(n_neighbors=9, weights=\"uniform\")), model])\n",
    "    cv = RepeatedStratifiedKFold(n_splits=5, n_repeats=3, random_state=42)\n",
    "    scores = cross_val_score(pipeline, X_train, y_train, scoring=\"accuracy\", cv=cv, n_jobs=-1)\n",
    "    print(f\"Model and score: {model[0]}, {scores.mean()}\")"
   ]
  },
  {
   "cell_type": "markdown",
   "metadata": {},
   "source": [
    "## Feature scaling"
   ]
  },
  {
   "cell_type": "code",
   "execution_count": 58,
   "metadata": {},
   "outputs": [
    {
     "name": "stdout",
     "output_type": "stream",
     "text": [
      "Scaler and score: standardizer, 0.7567817317517438\n",
      "Scaler and score: normalizer, 0.7546314807410368\n"
     ]
    }
   ],
   "source": [
    "from sklearn.preprocessing import MinMaxScaler, StandardScaler\n",
    "\n",
    "scalers = [(\"standardizer\", StandardScaler()), (\"normalizer\", MinMaxScaler())]\n",
    "\n",
    "# we can see the increase in accuracy after feature scaling\n",
    "for scaler in scalers:\n",
    "    estimator_pipeline = Pipeline(\n",
    "        [\n",
    "            (\"imputer\", KNNImputer(n_neighbors=9, weights=\"uniform\")),\n",
    "            scaler,\n",
    "            (\"KNN\", KNeighborsClassifier(n_neighbors=10)),\n",
    "        ]\n",
    "    )\n",
    "    cv = RepeatedStratifiedKFold(n_splits=5, n_repeats=3, random_state=42)\n",
    "    scores = cross_val_score(\n",
    "        estimator_pipeline, X_train, y_train, scoring=\"accuracy\", cv=cv, n_jobs=-1\n",
    "    )\n",
    "    print(f\"Scaler and score: {scaler[0]}, {scores.mean()}\")"
   ]
  },
  {
   "cell_type": "code",
   "execution_count": 61,
   "metadata": {},
   "outputs": [
    {
     "name": "stdout",
     "output_type": "stream",
     "text": [
      "Scaler and score: standardizer, 0.7649562397263318\n",
      "Scaler and score: normalizer, 0.7779910258118975\n"
     ]
    }
   ],
   "source": [
    "# NOTE: normalizer is performing well with SVC\n",
    "for scaler in scalers:\n",
    "    estimator_pipeline = Pipeline(\n",
    "        [\n",
    "            (\"imputer\", KNNImputer(n_neighbors=9, weights=\"uniform\")),\n",
    "            scaler,\n",
    "            (\"SVC\", SVC(random_state=42)),\n",
    "        ]\n",
    "    )\n",
    "    cv = RepeatedStratifiedKFold(n_splits=5, n_repeats=3, random_state=42)\n",
    "    scores = cross_val_score(\n",
    "        estimator_pipeline, X_train, y_train, scoring=\"accuracy\", cv=cv, n_jobs=-1\n",
    "    )\n",
    "    print(f\"Scaler and score: {scaler[0]}, {scores.mean()}\")"
   ]
  },
  {
   "cell_type": "code",
   "execution_count": 79,
   "metadata": {},
   "outputs": [
    {
     "name": "stdout",
     "output_type": "stream",
     "text": [
      "Scaler and score: standardizer, 0.7893775823004131\n",
      "Scaler and score: normalizer, 0.7855791016926563\n"
     ]
    }
   ],
   "source": [
    "# Does logistic regression accuracy increases after feature scaling\n",
    "# using saga solver with feature scaling the accuracy is increased slightly(0.5%)\n",
    "for scaler in scalers:\n",
    "    estimator_pipeline = Pipeline(\n",
    "        [\n",
    "            (\"imputer\", KNNImputer(n_neighbors=9, weights=\"uniform\")),\n",
    "            scaler,\n",
    "            (\n",
    "                \"Logistic\",\n",
    "                LogisticRegression(\n",
    "                    penalty=\"elasticnet\", solver=\"saga\", l1_ratio=0.4, random_state=42\n",
    "                ),\n",
    "            ),\n",
    "        ]\n",
    "    )\n",
    "    cv = RepeatedStratifiedKFold(n_splits=5, n_repeats=3, random_state=42)\n",
    "    scores = cross_val_score(\n",
    "        estimator_pipeline, X_train, y_train, scoring=\"accuracy\", cv=cv, n_jobs=-1\n",
    "    )\n",
    "    print(f\"Scaler and score: {scaler[0]}, {scores.mean()}\")"
   ]
  },
  {
   "cell_type": "markdown",
   "metadata": {},
   "source": [
    "## Hyperparameter tuning with KNN"
   ]
  },
  {
   "cell_type": "code",
   "execution_count": 63,
   "metadata": {},
   "outputs": [],
   "source": [
    "data_prep_pipeline = Pipeline(\n",
    "    [(\"imputer\", KNNImputer(n_neighbors=9, weights=\"uniform\")), (\"standardizer\", StandardScaler())]\n",
    ")\n",
    "\n",
    "X_train_trans = data_prep_pipeline.fit_transform(X_train, y_train)"
   ]
  },
  {
   "cell_type": "code",
   "execution_count": 66,
   "metadata": {},
   "outputs": [
    {
     "data": {
      "text/plain": [
       "GridSearchCV(cv=RepeatedStratifiedKFold(n_repeats=3, n_splits=5, random_state=42),\n",
       "             estimator=KNeighborsClassifier(), n_jobs=-1,\n",
       "             param_grid={'n_neighbors': range(5, 50, 5),\n",
       "                         'weights': ['uniform', 'distance']},\n",
       "             return_train_score=True, scoring='accuracy')"
      ]
     },
     "execution_count": 66,
     "metadata": {},
     "output_type": "execute_result"
    }
   ],
   "source": [
    "from sklearn.model_selection import GridSearchCV\n",
    "\n",
    "params = {\"n_neighbors\": range(5, 50, 5), \"weights\": [\"uniform\", \"distance\"]}\n",
    "\n",
    "clf = KNeighborsClassifier()\n",
    "cv = RepeatedStratifiedKFold(n_splits=5, n_repeats=3, random_state=42)\n",
    "grid_search = GridSearchCV(\n",
    "    clf, params, cv=cv, n_jobs=-1, scoring=\"accuracy\", return_train_score=True\n",
    ")\n",
    "grid_search.fit(X_train_trans, y_train)"
   ]
  },
  {
   "cell_type": "code",
   "execution_count": 67,
   "metadata": {},
   "outputs": [
    {
     "data": {
      "text/plain": [
       "{'n_neighbors': 15, 'weights': 'distance'}"
      ]
     },
     "execution_count": 67,
     "metadata": {},
     "output_type": "execute_result"
    },
    {
     "data": {
      "text/plain": [
       "0.7752721133768714"
      ]
     },
     "execution_count": 67,
     "metadata": {},
     "output_type": "execute_result"
    }
   ],
   "source": [
    "# With hyperparameter tuning we are able to get to 77.5%\n",
    "grid_search.best_params_\n",
    "grid_search.best_score_"
   ]
  },
  {
   "cell_type": "code",
   "execution_count": 69,
   "metadata": {},
   "outputs": [
    {
     "data": {
      "text/plain": [
       "(1.0, 0.0)"
      ]
     },
     "execution_count": 69,
     "metadata": {},
     "output_type": "execute_result"
    },
    {
     "data": {
      "text/plain": [
       "(0.7752721133768714, 0.03278201299945618)"
      ]
     },
     "execution_count": 69,
     "metadata": {},
     "output_type": "execute_result"
    }
   ],
   "source": [
    "# Get the train and test score of the best params\n",
    "best_params_index = grid_search.cv_results_[\"params\"].index(grid_search.best_params_)\n",
    "grid_search.cv_results_[\"mean_train_score\"][best_params_index], grid_search.cv_results_[\n",
    "    \"std_train_score\"\n",
    "][best_params_index]\n",
    "grid_search.cv_results_[\"mean_test_score\"][best_params_index], grid_search.cv_results_[\n",
    "    \"std_test_score\"\n",
    "][best_params_index]"
   ]
  },
  {
   "cell_type": "code",
   "execution_count": 71,
   "metadata": {},
   "outputs": [
    {
     "name": "stdout",
     "output_type": "stream",
     "text": [
      "{'n_neighbors': 5, 'weights': 'uniform'}, 0.8317031775205737, 0.01269102882134063, 0.7502465680394508, 0.043624284983511535\n",
      "{'n_neighbors': 5, 'weights': 'distance'}, 1.0, 0.0, 0.7502465680394508, 0.04382584206657892\n",
      "{'n_neighbors': 10, 'weights': 'uniform'}, 0.7968246871878086, 0.01731856916819127, 0.7502776667110934, 0.041994408266736824\n",
      "{'n_neighbors': 10, 'weights': 'distance'}, 1.0, 0.0, 0.7578657425918521, 0.045410897096262656\n",
      "{'n_neighbors': 15, 'weights': 'uniform'}, 0.8080917214467461, 0.010654681055283898, 0.7730996490292772, 0.03499170331308661\n",
      "{'n_neighbors': 15, 'weights': 'distance'}, 1.0, 0.0, 0.7752721133768714, 0.03278201299945618\n",
      "{'n_neighbors': 20, 'weights': 'uniform'}, 0.7973636569359583, 0.010137936828824981, 0.7627482340397175, 0.034222633006098076\n",
      "{'n_neighbors': 20, 'weights': 'distance'}, 1.0, 0.0, 0.7660180372295528, 0.0363507167725729\n",
      "{'n_neighbors': 25, 'weights': 'uniform'}, 0.7897653701587932, 0.011130061720658637, 0.7589586387667154, 0.03771018767206458\n",
      "{'n_neighbors': 25, 'weights': 'distance'}, 1.0, 0.0, 0.7605846550268781, 0.034301063488563995\n",
      "{'n_neighbors': 30, 'weights': 'uniform'}, 0.7837942035224833, 0.00944403187850299, 0.7633035674619042, 0.03539817059260153\n",
      "{'n_neighbors': 30, 'weights': 'distance'}, 1.0, 0.0, 0.7654582611399884, 0.037415683608936025\n",
      "{'n_neighbors': 35, 'weights': 'uniform'}, 0.7813521434603349, 0.009531443944834817, 0.7654849171442535, 0.033098216639960217\n",
      "{'n_neighbors': 35, 'weights': 'distance'}, 1.0, 0.0, 0.7632946821271493, 0.03314079488414095\n",
      "{'n_neighbors': 40, 'weights': 'uniform'}, 0.7774148770000939, 0.010777051045945223, 0.7627748900439824, 0.034714923290325835\n",
      "{'n_neighbors': 40, 'weights': 'distance'}, 1.0, 0.0, 0.7611222177795548, 0.03523969971298258\n",
      "{'n_neighbors': 45, 'weights': 'uniform'}, 0.7756517035638788, 0.006258552406486756, 0.7611577591185748, 0.031562062333228745\n",
      "{'n_neighbors': 45, 'weights': 'distance'}, 1.0, 0.0, 0.758963081434093, 0.03058578547165392\n"
     ]
    }
   ],
   "source": [
    "# Look at the results of all the models with params\n",
    "for param, train_mean, train_std, test_mean, test_std in zip(\n",
    "    grid_search.cv_results_[\"params\"],\n",
    "    grid_search.cv_results_[\"mean_train_score\"],\n",
    "    grid_search.cv_results_[\"std_train_score\"],\n",
    "    grid_search.cv_results_[\"mean_test_score\"],\n",
    "    grid_search.cv_results_[\"std_test_score\"],\n",
    "):\n",
    "    print(f\"{param}, {train_mean}, {train_std}, {test_mean}, {test_std}\")"
   ]
  },
  {
   "cell_type": "markdown",
   "metadata": {},
   "source": [
    "## Testing the model"
   ]
  },
  {
   "cell_type": "code",
   "execution_count": 81,
   "metadata": {},
   "outputs": [
    {
     "data": {
      "text/plain": [
       "Pipeline(steps=[('imputer', KNNImputer(n_neighbors=9)),\n",
       "                ('normalizer', MinMaxScaler()),\n",
       "                ('Logistic',\n",
       "                 LogisticRegression(l1_ratio=0.4, penalty='elasticnet',\n",
       "                                    random_state=42, solver='saga'))])"
      ]
     },
     "execution_count": 81,
     "metadata": {},
     "output_type": "execute_result"
    }
   ],
   "source": [
    "model_pipeline = Pipeline(\n",
    "    [\n",
    "        (\"imputer\", KNNImputer(n_neighbors=9, weights=\"uniform\")),\n",
    "        scaler,\n",
    "        (\n",
    "            \"Logistic\",\n",
    "            LogisticRegression(penalty=\"elasticnet\", solver=\"saga\", l1_ratio=0.4, random_state=42),\n",
    "        ),\n",
    "    ]\n",
    ")\n",
    "\n",
    "model_pipeline.fit(X_train, y_train)\n",
    "y_hat = model_pipeline.predict(X_test)"
   ]
  },
  {
   "cell_type": "code",
   "execution_count": 82,
   "metadata": {},
   "outputs": [
    {
     "data": {
      "text/plain": [
       "array([[82, 18],\n",
       "       [28, 26]])"
      ]
     },
     "execution_count": 82,
     "metadata": {},
     "output_type": "execute_result"
    },
    {
     "data": {
      "text/plain": [
       "0.7012987012987013"
      ]
     },
     "execution_count": 82,
     "metadata": {},
     "output_type": "execute_result"
    },
    {
     "data": {
      "text/plain": [
       "0.5909090909090909"
      ]
     },
     "execution_count": 82,
     "metadata": {},
     "output_type": "execute_result"
    },
    {
     "data": {
      "text/plain": [
       "0.48148148148148145"
      ]
     },
     "execution_count": 82,
     "metadata": {},
     "output_type": "execute_result"
    },
    {
     "data": {
      "text/plain": [
       "0.5306122448979591"
      ]
     },
     "execution_count": 82,
     "metadata": {},
     "output_type": "execute_result"
    },
    {
     "data": {
      "text/plain": [
       "0.6507407407407407"
      ]
     },
     "execution_count": 82,
     "metadata": {},
     "output_type": "execute_result"
    }
   ],
   "source": [
    "from sklearn.metrics import (\n",
    "    accuracy_score,\n",
    "    confusion_matrix,\n",
    "    f1_score,\n",
    "    precision_score,\n",
    "    recall_score,\n",
    "    roc_auc_score,\n",
    ")\n",
    "\n",
    "confusion_matrix(y_test, y_hat)\n",
    "accuracy_score(y_test, y_hat)\n",
    "precision_score(y_test, y_hat)\n",
    "recall_score(y_test, y_hat)\n",
    "f1_score(y_test, y_hat)\n",
    "roc_auc_score(y_test, y_hat)"
   ]
  },
  {
   "cell_type": "markdown",
   "metadata": {},
   "source": [
    "## Observation"
   ]
  },
  {
   "cell_type": "markdown",
   "metadata": {},
   "source": [
    "From above classifiers, logistic regression seems to perform the best compared to other classifiers. But using a combination of these classifiers either in the form of voting, bagging, stacking could result in better prediction results."
   ]
  }
 ],
 "metadata": {
  "kernelspec": {
   "display_name": "Python 3",
   "language": "python",
   "name": "python3"
  },
  "language_info": {
   "codemirror_mode": {
    "name": "ipython",
    "version": 3
   },
   "file_extension": ".py",
   "mimetype": "text/x-python",
   "name": "python",
   "nbconvert_exporter": "python",
   "pygments_lexer": "ipython3",
   "version": "3.8.0"
  }
 },
 "nbformat": 4,
 "nbformat_minor": 4
}
