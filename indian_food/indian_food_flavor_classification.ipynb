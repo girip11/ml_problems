{
 "cells": [
  {
   "cell_type": "markdown",
   "metadata": {},
   "source": [
    "# Predict flavor profile based on ingredients"
   ]
  },
  {
   "cell_type": "markdown",
   "metadata": {},
   "source": [
    "Here we try to predict the flavor profile of the dish based on its ingredients. Flavor profiles can be \n",
    "* spicy\n",
    "* sweet\n",
    "This would make it a binary classification."
   ]
  },
  {
   "cell_type": "code",
   "execution_count": null,
   "metadata": {},
   "outputs": [],
   "source": [
    "from IPython.core.interactiveshell import InteractiveShell\n",
    "\n",
    "InteractiveShell.ast_node_interactivity = \"all\""
   ]
  },
  {
   "cell_type": "code",
   "execution_count": null,
   "metadata": {},
   "outputs": [],
   "source": [
    "import numpy as np\n",
    "import pandas as pd\n",
    "import seaborn as sns  # noqa\n",
    "from matplotlib import pyplot as plt  # noqa"
   ]
  },
  {
   "cell_type": "code",
   "execution_count": null,
   "metadata": {},
   "outputs": [],
   "source": [
    "df = pd.read_csv(\"dataset/indian_food.csv\", na_values=-1)\n",
    "df.info()"
   ]
  },
  {
   "cell_type": "code",
   "execution_count": null,
   "metadata": {},
   "outputs": [],
   "source": [
    "# (~pd.isna(df[\"flavor_profile\"])).value_counts()\n",
    "filter_cond = (~pd.isna(df[\"flavor_profile\"])) & (df.flavor_profile.isin([\"spicy\", \"sweet\"]))\n",
    "df = df.loc[filter_cond, [\"name\", \"ingredients\", \"flavor_profile\"]]\n",
    "df.shape"
   ]
  },
  {
   "cell_type": "code",
   "execution_count": null,
   "metadata": {},
   "outputs": [],
   "source": [
    "df.columns\n",
    "df.head(5)\n",
    "df.flavor_profile.unique()"
   ]
  },
  {
   "cell_type": "code",
   "execution_count": null,
   "metadata": {},
   "outputs": [],
   "source": [
    "# A lot more preprocessing on the ingredients need to be done\n",
    "# For instance green chilli and green chillies are two different\n",
    "# ingredients as of now.\n",
    "all_ingredients = df.ingredients.str.lower().str.split(\",\").explode().str.strip().unique()\n",
    "all_ingredients.shape"
   ]
  },
  {
   "cell_type": "code",
   "execution_count": null,
   "metadata": {},
   "outputs": [],
   "source": [
    "from sklearn.model_selection import train_test_split\n",
    "\n",
    "X = df.loc[:, [\"name\", \"ingredients\"]].values\n",
    "y = df.loc[:, \"flavor_profile\"].values\n",
    "\n",
    "X.shape, y.shape\n",
    "X_train, X_test, y_train, y_test = train_test_split(\n",
    "    X, y, test_size=0.2, stratify=y, random_state=42\n",
    ")\n",
    "X_train.shape, X_test.shape"
   ]
  },
  {
   "cell_type": "code",
   "execution_count": null,
   "metadata": {},
   "outputs": [],
   "source": [
    "from sklearn.base import BaseEstimator, TransformerMixin\n",
    "\n",
    "\n",
    "class IngredientsEncoder(BaseEstimator, TransformerMixin):\n",
    "    def __init__(self, categories):\n",
    "        self.categories = categories\n",
    "        self._category_indices = {c: i for i, c in enumerate(categories)}\n",
    "\n",
    "    def fit(self, X, y):\n",
    "        return self\n",
    "\n",
    "    def transform(self, X):\n",
    "        result = np.zeros(shape=(X.shape[0], len(self.categories)))\n",
    "\n",
    "        for i, r in enumerate(X):\n",
    "            for ing in r[1].lower().split(\",\"):\n",
    "                ing_pos = self._category_indices[ing.strip()]\n",
    "                result[i, ing_pos] = 1\n",
    "        return result"
   ]
  },
  {
   "cell_type": "code",
   "execution_count": null,
   "metadata": {},
   "outputs": [],
   "source": [
    "ing_encoder = IngredientsEncoder(all_ingredients)\n",
    "ing_encoder.fit(X_train, y_train)\n",
    "X_train_trans = ing_encoder.transform(X_train)\n",
    "X_train.shape, X_train_trans.shape"
   ]
  },
  {
   "cell_type": "code",
   "execution_count": null,
   "metadata": {},
   "outputs": [],
   "source": [
    "from sklearn.preprocessing import LabelEncoder\n",
    "\n",
    "flavor_profile_encoder = LabelEncoder()\n",
    "y_train_trans = flavor_profile_encoder.fit_transform(y_train)\n",
    "flavor_profile_encoder.classes_"
   ]
  },
  {
   "cell_type": "code",
   "execution_count": null,
   "metadata": {},
   "outputs": [],
   "source": [
    "from sklearn.ensemble import GradientBoostingClassifier\n",
    "from sklearn.model_selection import GridSearchCV, cross_val_predict\n",
    "\n",
    "gb_clf = GradientBoostingClassifier()\n",
    "\n",
    "# I did a seperate search for n_estimators with learning_rate\n",
    "# Once I found the best params, I then used different values for\n",
    "# max_depth and subsample\n",
    "params = [\n",
    "    {\n",
    "        \"n_estimators\": [300],\n",
    "        \"learning_rate\": [0.01],\n",
    "        \"max_depth\": [2, 3, 4, 5],\n",
    "        \"subsample\": [0.8, 0.9, 1.0],\n",
    "    }\n",
    "]\n",
    "\n",
    "grid_search = GridSearchCV(gb_clf, params, cv=5, return_train_score=True, n_jobs=-1)\n",
    "grid_search.fit(X_train_trans, y_train_trans)\n",
    "grid_search.best_params_"
   ]
  },
  {
   "cell_type": "code",
   "execution_count": null,
   "metadata": {},
   "outputs": [],
   "source": [
    "# rf_clf = RandomForestClassifier(n_estimators=1000, random_state=42)\n",
    "gb_clf = GradientBoostingClassifier(\n",
    "    n_estimators=300, learning_rate=0.01, max_depth=3, subsample=1.0\n",
    ")\n",
    "\n",
    "y_train_pred = cross_val_predict(gb_clf, X_train_trans, y_train_trans, cv=5)"
   ]
  },
  {
   "cell_type": "code",
   "execution_count": null,
   "metadata": {},
   "outputs": [],
   "source": [
    "from sklearn.metrics import confusion_matrix, f1_score, precision_score, recall_score\n",
    "\n",
    "confusion_matrix(y_train_trans, y_train_pred)\n",
    "precision_score(y_train_trans, y_train_pred)\n",
    "recall_score(y_train_trans, y_train_pred)\n",
    "f1_score(y_train_trans, y_train_pred)"
   ]
  },
  {
   "cell_type": "code",
   "execution_count": null,
   "metadata": {},
   "outputs": [],
   "source": [
    "# train\n",
    "gb_clf.fit(X_train_trans, y_train_trans)"
   ]
  },
  {
   "cell_type": "code",
   "execution_count": null,
   "metadata": {},
   "outputs": [],
   "source": [
    "from sklearn.metrics import accuracy_score\n",
    "\n",
    "y_test_trans = flavor_profile_encoder.transform(y_test)\n",
    "y_test_pred = gb_clf.predict(ing_encoder.transform(X_test))\n",
    "confusion_matrix(y_test_trans, y_test_pred)\n",
    "precision_score(y_test_trans, y_test_pred)\n",
    "recall_score(y_test_trans, y_test_pred)\n",
    "f1_score(y_test_trans, y_test_pred)\n",
    "accuracy_score(y_test_trans, y_test_pred)"
   ]
  },
  {
   "cell_type": "markdown",
   "metadata": {},
   "source": [
    "## Error analysis"
   ]
  },
  {
   "cell_type": "code",
   "execution_count": null,
   "metadata": {},
   "outputs": [],
   "source": [
    "for i in range(len(y_test)):\n",
    "    if y_test_trans[i] != y_test_pred[i]:\n",
    "        print(X_test[i], y_test[i], y_test_pred[i])"
   ]
  },
  {
   "cell_type": "code",
   "execution_count": null,
   "metadata": {},
   "outputs": [],
   "source": [
    "X_test_one = np.array([[\"kadala parupu payasam\", \"chana daal, yellow moong daal, jaggery, milk\"]])\n",
    "# y_test_one = np.array([\"sweet\"])\n",
    "\n",
    "y_test_one_pred = gb_clf.predict(ing_encoder.transform(X_test_one))\n",
    "flavor_profile_encoder.classes_[y_test_one_pred[0]]"
   ]
  },
  {
   "cell_type": "code",
   "execution_count": null,
   "metadata": {},
   "outputs": [],
   "source": [
    "X_test_one = np.array(\n",
    "    [[\"\", \"yellow moong daal, ginger, green chillies, kala jeera, salt, sesame oil, mustard seeds\"]]\n",
    ")\n",
    "\n",
    "y_test_one_pred = gb_clf.predict(ing_encoder.transform(X_test_one))\n",
    "flavor_profile_encoder.classes_[y_test_one_pred[0]]"
   ]
  }
 ],
 "metadata": {
  "kernelspec": {
   "display_name": "Python 3",
   "language": "python",
   "name": "python3"
  },
  "language_info": {
   "codemirror_mode": {
    "name": "ipython",
    "version": 3
   },
   "file_extension": ".py",
   "mimetype": "text/x-python",
   "name": "python",
   "nbconvert_exporter": "python",
   "pygments_lexer": "ipython3",
   "version": "3.8.0"
  }
 },
 "nbformat": 4,
 "nbformat_minor": 4
}
