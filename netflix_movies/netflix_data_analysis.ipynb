{
 "cells": [
  {
   "cell_type": "code",
   "execution_count": null,
   "metadata": {},
   "outputs": [],
   "source": [
    "from IPython.core.interactiveshell import InteractiveShell\n",
    "\n",
    "InteractiveShell.ast_node_interactivity = \"all\""
   ]
  },
  {
   "cell_type": "code",
   "execution_count": null,
   "metadata": {},
   "outputs": [],
   "source": [
    "import pandas as pd"
   ]
  },
  {
   "cell_type": "code",
   "execution_count": null,
   "metadata": {},
   "outputs": [],
   "source": [
    "df = pd.read_csv(\"dataset/netflix_titles.csv\")\n",
    "df.head()"
   ]
  },
  {
   "cell_type": "code",
   "execution_count": null,
   "metadata": {},
   "outputs": [],
   "source": [
    "df.info()"
   ]
  },
  {
   "cell_type": "markdown",
   "metadata": {},
   "source": [
    "## Shows and movies by released year"
   ]
  },
  {
   "cell_type": "code",
   "execution_count": null,
   "metadata": {},
   "outputs": [],
   "source": [
    "df.loc[:, \"type\"].value_counts()"
   ]
  },
  {
   "cell_type": "code",
   "execution_count": null,
   "metadata": {},
   "outputs": [],
   "source": [
    "df.loc[:, \"release_year\"].min(), df.loc[:, \"release_year\"].max()"
   ]
  },
  {
   "cell_type": "code",
   "execution_count": null,
   "metadata": {},
   "outputs": [],
   "source": [
    "releases_by_year = df.groupby([\"release_year\"]).count().loc[:, \"type\"]\n",
    "releases_by_year.values"
   ]
  },
  {
   "cell_type": "code",
   "execution_count": null,
   "metadata": {},
   "outputs": [],
   "source": [
    "from matplotlib import pyplot as plt\n",
    "\n",
    "%matplotlib inline\n",
    "\n",
    "plt.plot(releases_by_year.index, releases_by_year.values, \"g-\")\n",
    "plt.show()"
   ]
  },
  {
   "cell_type": "code",
   "execution_count": null,
   "metadata": {},
   "outputs": [],
   "source": [
    "# min, max, average duration of the movies in netflix\n",
    "movies_df = df.loc[df[\"type\"] == \"Movie\"]\n",
    "\n",
    "movies_df[\"duration_in_sec\"] = movies_df.loc[:, \"duration\"].apply(\n",
    "    lambda v: pd.Timedelta(v).total_seconds()\n",
    ")\n",
    "movies_df.head()\n",
    "\n",
    "movies_df[\"duration_in_sec\"].mean(), movies_df[\"duration_in_sec\"].min(), movies_df[\n",
    "    \"duration_in_sec\"\n",
    "].max()"
   ]
  },
  {
   "cell_type": "code",
   "execution_count": null,
   "metadata": {},
   "outputs": [],
   "source": [
    "# longest running movie\n",
    "movies_df.loc[movies_df.loc[:, \"duration_in_sec\"].max() == movies_df.loc[:, \"duration_in_sec\"]]"
   ]
  },
  {
   "cell_type": "code",
   "execution_count": null,
   "metadata": {},
   "outputs": [],
   "source": [
    "# top 5 longest movies\n",
    "movies_df.sort_values(\"duration_in_sec\", ascending=False).head(5)"
   ]
  },
  {
   "cell_type": "code",
   "execution_count": null,
   "metadata": {},
   "outputs": [],
   "source": [
    "# movies added to netflix year on year\n",
    "from datetime import datetime\n",
    "\n",
    "movies_df[\"year_added\"] = movies_df.loc[:, \"date_added\"].apply(\n",
    "    lambda datestr: datestr if pd.isna(datestr) else datetime.strptime(datestr, \"%B %d, %Y\").year\n",
    ")\n",
    "movies_added_by_year = (\n",
    "    movies_df.groupby(\"year_added\", as_index=False).count().loc[:, [\"year_added\", \"show_id\"]]\n",
    ")\n",
    "movies_added_by_year"
   ]
  },
  {
   "cell_type": "code",
   "execution_count": null,
   "metadata": {},
   "outputs": [],
   "source": [
    "# Number of indian movies added to netflix year on year\n",
    "indian_movies = movies_df.loc[movies_df.loc[:, \"country\"].isin([\"India\"])]\n",
    "indian_movies_added_per_year = (\n",
    "    indian_movies.groupby(\"year_added\", as_index=False).count().loc[:, [\"year_added\", \"show_id\"]]\n",
    ")\n",
    "indian_movies_added_per_year"
   ]
  },
  {
   "cell_type": "code",
   "execution_count": null,
   "metadata": {},
   "outputs": [],
   "source": [
    "# tv shows added by year on year\n",
    "tv_shows_df = df.loc[df.loc[:, \"type\"] == \"TV Show\"]\n",
    "tv_shows_df[\"year_added\"] = tv_shows_df.loc[:, \"date_added\"].apply(\n",
    "    lambda datestr: datestr\n",
    "    if pd.isna(datestr)\n",
    "    else datetime.strptime(datestr.strip(), \"%B %d, %Y\").year\n",
    ")\n",
    "tv_shows_df.groupby(\"year_added\", as_index=False).count().loc[:, [\"year_added\", \"show_id\"]]\n",
    "\n",
    "indian_tv_shows = tv_shows_df.loc[df.loc[:, \"country\"].isin([\"India\"])]\n",
    "indian_tv_shows.groupby(\"year_added\", as_index=False).count().loc[:, [\"year_added\", \"show_id\"]]"
   ]
  },
  {
   "cell_type": "code",
   "execution_count": null,
   "metadata": {},
   "outputs": [],
   "source": [
    "# tv shows by season count\n",
    "tv_shows_df = tv_shows_df.assign(\n",
    "    seasons=tv_shows_df[\"duration\"].apply(lambda v: int(v.split(\" \")[0]))\n",
    ")\n",
    "tv_shows_df.sort_values(\"seasons\", ascending=False).head(5)"
   ]
  },
  {
   "cell_type": "code",
   "execution_count": null,
   "metadata": {},
   "outputs": [],
   "source": [
    "movies_with_country_df = movies_df.assign(country=movies_df.country.str.split(\", \")).explode(\n",
    "    \"country\"\n",
    ")\n",
    "movies_with_country_df.head()\n",
    "movies_by_country_df = (\n",
    "    movies_with_country_df.groupby(\"country\", as_index=False).count().loc[:, [\"country\", \"show_id\"]]\n",
    ")\n",
    "movies_by_country_df.sort_values(\"show_id\", ascending=False).head(20).plot(\n",
    "    kind=\"bar\", x=\"country\", y=\"show_id\"\n",
    ")"
   ]
  },
  {
   "cell_type": "code",
   "execution_count": null,
   "metadata": {},
   "outputs": [],
   "source": [
    "# number of movies releases in netflix by year, country\n",
    "movies_over_years = movies_with_country_df.groupby([\"release_year\", \"country\"], as_index=False)[\n",
    "    \"show_id\"\n",
    "].count()\n",
    "movies_over_years = movies_over_years.loc[movies_over_years[\"release_year\"] > 1990]\n",
    "movies_over_years.columns.values[2] = \"count\"\n",
    "movies_over_years\n",
    "# movies_over_years.plot(kind=\"line\", x=\"release_year\", y=\"show_id\")"
   ]
  },
  {
   "cell_type": "code",
   "execution_count": null,
   "metadata": {},
   "outputs": [],
   "source": [
    "# movies by genres added in between 2012 and 2019\n",
    "import seaborn as sns\n",
    "\n",
    "movies_genre_df = (\n",
    "    movies_df.loc[(movies_df[\"year_added\"] >= 2012) & (movies_df[\"year_added\"] <= 2019)]\n",
    "    .assign(genre=movies_df.loc[:, \"listed_in\"].str.split(\", \"))\n",
    "    .explode(\"genre\")\n",
    ")\n",
    "movies_by_genre_df = (\n",
    "    movies_genre_df.groupby([\"year_added\", \"genre\"], as_index=False)\n",
    "    .count()\n",
    "    .loc[:, [\"year_added\", \"genre\", \"show_id\"]]\n",
    "    .sort_values(\"year_added\")\n",
    ")\n",
    "\n",
    "fig, ax = plt.subplots(1, 1, figsize=(12, 8))\n",
    "sns.lineplot(x=\"year_added\", y=\"show_id\", data=movies_by_genre_df, hue=\"genre\", ax=ax)\n",
    "ax.set_title(\"Movies added by genre between 2012 and 2019\")\n",
    "plt.legend()\n",
    "plt.show()"
   ]
  },
  {
   "cell_type": "code",
   "execution_count": null,
   "metadata": {},
   "outputs": [],
   "source": [
    "df_directors_exp = df.assign(director=df.director.str.split(\", \")).explode(\"director\")\n",
    "df_directors = df_directors_exp[[\"show_id\", \"type\", \"director\"]]\n",
    "df_directors = df_directors[df_directors[\"type\"] == \"Movie\"]\n",
    "directors_count = df_directors[\"director\"].value_counts().sort_values(ascending=False).reset_index()\n",
    "directors_count.head()\n",
    "# directors_count.columns.values[0]='director'\n",
    "# directors_count.columns.values[1]='number of movies'\n",
    "# directors_count = directors_count.set_index(np.arange(1,len(directors_count)+1))\n",
    "# print(directors_count.head(25))"
   ]
  },
  {
   "cell_type": "code",
   "execution_count": null,
   "metadata": {},
   "outputs": [],
   "source": [
    "df_directors_exp.loc[df_directors_exp.loc[:, \"director\"].isin([\"Jan Suter\"])]"
   ]
  }
 ],
 "metadata": {
  "kernelspec": {
   "display_name": "Python 3",
   "language": "python",
   "name": "python3"
  },
  "language_info": {
   "codemirror_mode": {
    "name": "ipython",
    "version": 3
   },
   "file_extension": ".py",
   "mimetype": "text/x-python",
   "name": "python",
   "nbconvert_exporter": "python",
   "pygments_lexer": "ipython3",
   "version": "3.8.0"
  }
 },
 "nbformat": 4,
 "nbformat_minor": 4
}
