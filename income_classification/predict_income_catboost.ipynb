{
 "cells": [
  {
   "cell_type": "markdown",
   "metadata": {},
   "source": [
    "# Income classification using catboost"
   ]
  },
  {
   "cell_type": "markdown",
   "metadata": {},
   "source": [
    "Dataset description:\n",
    "\n",
    "* age: continuous.\n",
    "* workclass: Private, Self-emp-not-inc, Self-emp-inc, Federal-gov, Local-gov, State-gov, Without-pay, Never-worked.\n",
    "* fnlwgt: continuous.\n",
    "* education: Bachelors, Some-college, 11th, HS-grad, Prof-school, Assoc-acdm, Assoc-voc, 9th, 7th-8th, 12th, Masters, 1st-4th, 10th, Doctorate, 5th-6th, Preschool.\n",
    "* education-num: continuous.\n",
    "* marital-status: Married-civ-spouse, Divorced, Never-married, Separated, Widowed, Married-spouse-absent, Married-AF-spouse.\n",
    "* occupation: Tech-support, Craft-repair, Other-service, Sales, Exec-managerial, Prof-specialty, Handlers-cleaners, Machine-op-inspct, Adm-clerical, Farming-fishing, Transport-moving, Priv-house-serv, Protective-serv, Armed-Forces.\n",
    "* relationship: Wife, Own-child, Husband, Not-in-family, Other-relative, Unmarried.\n",
    "* race: White, Asian-Pac-Islander, Amer-Indian-Eskimo, Other, Black.\n",
    "* sex: Female, Male.\n",
    "* capital-gain: continuous.\n",
    "* capital-loss: continuous.\n",
    "* hours-per-week: continuous.\n",
    "* native-country: United-States, Cambodia, England, Puerto-Rico, Canada, Germany, Outlying-US(Guam-USVI-etc), India, Japan, Greece, South, China, Cuba, Iran, Honduras, Philippines, Italy, Poland, Jamaica, Vietnam, Mexico, Portugal, Ireland, France, Dominican-Republic, Laos, Ecuador, Taiwan, Haiti, Columbia, Hungary, Guatemala, Nicaragua, Scotland, Thailand, Yugoslavia, El-Salvador, Trinadad&Tobago, Peru, Hong, Holand-Netherlands.\n"
   ]
  },
  {
   "cell_type": "code",
   "execution_count": 1,
   "metadata": {},
   "outputs": [],
   "source": [
    "from IPython.core.interactiveshell import InteractiveShell\n",
    "\n",
    "InteractiveShell.ast_node_interactivity = \"all\""
   ]
  },
  {
   "cell_type": "code",
   "execution_count": 2,
   "metadata": {},
   "outputs": [],
   "source": [
    "import numpy as np\n",
    "import pandas as pd\n",
    "import seaborn as sns\n",
    "from matplotlib import pyplot as plt\n",
    "\n",
    "%matplotlib inline"
   ]
  },
  {
   "cell_type": "code",
   "execution_count": 3,
   "metadata": {},
   "outputs": [
    {
     "data": {
      "text/html": [
       "<div>\n",
       "<style scoped>\n",
       "    .dataframe tbody tr th:only-of-type {\n",
       "        vertical-align: middle;\n",
       "    }\n",
       "\n",
       "    .dataframe tbody tr th {\n",
       "        vertical-align: top;\n",
       "    }\n",
       "\n",
       "    .dataframe thead th {\n",
       "        text-align: right;\n",
       "    }\n",
       "</style>\n",
       "<table border=\"1\" class=\"dataframe\">\n",
       "  <thead>\n",
       "    <tr style=\"text-align: right;\">\n",
       "      <th></th>\n",
       "      <th>age</th>\n",
       "      <th>workclass</th>\n",
       "      <th>fnlwgt</th>\n",
       "      <th>education</th>\n",
       "      <th>education-num</th>\n",
       "      <th>marital-status</th>\n",
       "      <th>occupation</th>\n",
       "      <th>relationship</th>\n",
       "      <th>race</th>\n",
       "      <th>sex</th>\n",
       "      <th>capital-gain</th>\n",
       "      <th>capital-loss</th>\n",
       "      <th>hours-per-week</th>\n",
       "      <th>native-country</th>\n",
       "      <th>income</th>\n",
       "    </tr>\n",
       "  </thead>\n",
       "  <tbody>\n",
       "    <tr>\n",
       "      <th>0</th>\n",
       "      <td>39</td>\n",
       "      <td>State-gov</td>\n",
       "      <td>77516</td>\n",
       "      <td>Bachelors</td>\n",
       "      <td>13</td>\n",
       "      <td>Never-married</td>\n",
       "      <td>Adm-clerical</td>\n",
       "      <td>Not-in-family</td>\n",
       "      <td>White</td>\n",
       "      <td>Male</td>\n",
       "      <td>2174</td>\n",
       "      <td>0</td>\n",
       "      <td>40</td>\n",
       "      <td>United-States</td>\n",
       "      <td>&lt;=50K</td>\n",
       "    </tr>\n",
       "    <tr>\n",
       "      <th>1</th>\n",
       "      <td>50</td>\n",
       "      <td>Self-emp-not-inc</td>\n",
       "      <td>83311</td>\n",
       "      <td>Bachelors</td>\n",
       "      <td>13</td>\n",
       "      <td>Married-civ-spouse</td>\n",
       "      <td>Exec-managerial</td>\n",
       "      <td>Husband</td>\n",
       "      <td>White</td>\n",
       "      <td>Male</td>\n",
       "      <td>0</td>\n",
       "      <td>0</td>\n",
       "      <td>13</td>\n",
       "      <td>United-States</td>\n",
       "      <td>&lt;=50K</td>\n",
       "    </tr>\n",
       "    <tr>\n",
       "      <th>2</th>\n",
       "      <td>38</td>\n",
       "      <td>Private</td>\n",
       "      <td>215646</td>\n",
       "      <td>HS-grad</td>\n",
       "      <td>9</td>\n",
       "      <td>Divorced</td>\n",
       "      <td>Handlers-cleaners</td>\n",
       "      <td>Not-in-family</td>\n",
       "      <td>White</td>\n",
       "      <td>Male</td>\n",
       "      <td>0</td>\n",
       "      <td>0</td>\n",
       "      <td>40</td>\n",
       "      <td>United-States</td>\n",
       "      <td>&lt;=50K</td>\n",
       "    </tr>\n",
       "    <tr>\n",
       "      <th>3</th>\n",
       "      <td>53</td>\n",
       "      <td>Private</td>\n",
       "      <td>234721</td>\n",
       "      <td>11th</td>\n",
       "      <td>7</td>\n",
       "      <td>Married-civ-spouse</td>\n",
       "      <td>Handlers-cleaners</td>\n",
       "      <td>Husband</td>\n",
       "      <td>Black</td>\n",
       "      <td>Male</td>\n",
       "      <td>0</td>\n",
       "      <td>0</td>\n",
       "      <td>40</td>\n",
       "      <td>United-States</td>\n",
       "      <td>&lt;=50K</td>\n",
       "    </tr>\n",
       "  </tbody>\n",
       "</table>\n",
       "</div>"
      ],
      "text/plain": [
       "   age          workclass   fnlwgt   education   education-num  \\\n",
       "0   39          State-gov    77516   Bachelors              13   \n",
       "1   50   Self-emp-not-inc    83311   Bachelors              13   \n",
       "2   38            Private   215646     HS-grad               9   \n",
       "3   53            Private   234721        11th               7   \n",
       "\n",
       "        marital-status          occupation    relationship    race    sex  \\\n",
       "0        Never-married        Adm-clerical   Not-in-family   White   Male   \n",
       "1   Married-civ-spouse     Exec-managerial         Husband   White   Male   \n",
       "2             Divorced   Handlers-cleaners   Not-in-family   White   Male   \n",
       "3   Married-civ-spouse   Handlers-cleaners         Husband   Black   Male   \n",
       "\n",
       "    capital-gain   capital-loss   hours-per-week  native-country  income  \n",
       "0           2174              0               40   United-States   <=50K  \n",
       "1              0              0               13   United-States   <=50K  \n",
       "2              0              0               40   United-States   <=50K  \n",
       "3              0              0               40   United-States   <=50K  "
      ]
     },
     "execution_count": 3,
     "metadata": {},
     "output_type": "execute_result"
    }
   ],
   "source": [
    "df = pd.read_csv(\"dataset/income_evaluation.csv\")\n",
    "df.head(4)"
   ]
  },
  {
   "cell_type": "code",
   "execution_count": 4,
   "metadata": {},
   "outputs": [
    {
     "data": {
      "text/plain": [
       "Index(['age', 'workclass', 'fnlwgt', 'education', 'education-num',\n",
       "       'marital-status', 'occupation', 'relationship', 'race', 'sex',\n",
       "       'capital-gain', 'capital-loss', 'hours-per-week', 'native-country',\n",
       "       'income'],\n",
       "      dtype='object')"
      ]
     },
     "execution_count": 4,
     "metadata": {},
     "output_type": "execute_result"
    }
   ],
   "source": [
    "df.columns = [col.strip() for col in df.columns]\n",
    "df.columns"
   ]
  },
  {
   "cell_type": "code",
   "execution_count": 5,
   "metadata": {},
   "outputs": [
    {
     "name": "stdout",
     "output_type": "stream",
     "text": [
      "<class 'pandas.core.frame.DataFrame'>\n",
      "RangeIndex: 32561 entries, 0 to 32560\n",
      "Data columns (total 15 columns):\n",
      " #   Column          Non-Null Count  Dtype \n",
      "---  ------          --------------  ----- \n",
      " 0   age             32561 non-null  int64 \n",
      " 1   workclass       32561 non-null  object\n",
      " 2   fnlwgt          32561 non-null  int64 \n",
      " 3   education       32561 non-null  object\n",
      " 4   education-num   32561 non-null  int64 \n",
      " 5   marital-status  32561 non-null  object\n",
      " 6   occupation      32561 non-null  object\n",
      " 7   relationship    32561 non-null  object\n",
      " 8   race            32561 non-null  object\n",
      " 9   sex             32561 non-null  object\n",
      " 10  capital-gain    32561 non-null  int64 \n",
      " 11  capital-loss    32561 non-null  int64 \n",
      " 12  hours-per-week  32561 non-null  int64 \n",
      " 13  native-country  32561 non-null  object\n",
      " 14  income          32561 non-null  object\n",
      "dtypes: int64(6), object(9)\n",
      "memory usage: 3.7+ MB\n"
     ]
    }
   ],
   "source": [
    "df.info()"
   ]
  },
  {
   "cell_type": "code",
   "execution_count": 6,
   "metadata": {},
   "outputs": [],
   "source": [
    "nominal_features = [\n",
    "    \"workclass\",\n",
    "    \"marital-status\",\n",
    "    \"occupation\",\n",
    "    \"relationship\",\n",
    "    \"race\",\n",
    "    \"sex\",\n",
    "    \"native-country\",\n",
    "]\n",
    "\n",
    "ordinal_features = [\"education-num\"]\n",
    "redundant_features = [\"education\"]\n",
    "numerical_features = [\"age\", \"fnlwgt\", \"capital-gain\", \"capital-loss\", \"hours-per-week\"]\n",
    "\n",
    "target_column = \"income\""
   ]
  },
  {
   "cell_type": "code",
   "execution_count": 7,
   "metadata": {},
   "outputs": [
    {
     "data": {
      "text/plain": [
       "(16, 16)"
      ]
     },
     "execution_count": 7,
     "metadata": {},
     "output_type": "execute_result"
    }
   ],
   "source": [
    "# Looks like education and education-num provide the same information\n",
    "# but in different forms. Consider education-num as oridinal encoding of education\n",
    "df.loc[:, \"education-num\"].nunique(), df.loc[:, \"education\"].nunique()"
   ]
  },
  {
   "cell_type": "code",
   "execution_count": 8,
   "metadata": {},
   "outputs": [
    {
     "data": {
      "text/plain": [
       "education-num  education    \n",
       "1               Preschool          51\n",
       "2               1st-4th           168\n",
       "3               5th-6th           333\n",
       "4               7th-8th           646\n",
       "5               9th               514\n",
       "6               10th              933\n",
       "7               11th             1175\n",
       "8               12th              433\n",
       "9               HS-grad         10501\n",
       "10              Some-college     7291\n",
       "11              Assoc-voc        1382\n",
       "12              Assoc-acdm       1067\n",
       "13              Bachelors        5355\n",
       "14              Masters          1723\n",
       "15              Prof-school       576\n",
       "16              Doctorate         413\n",
       "Name: age, dtype: int64"
      ]
     },
     "execution_count": 8,
     "metadata": {},
     "output_type": "execute_result"
    }
   ],
   "source": [
    "df.groupby(by=[\"education-num\", \"education\"])[\"age\"].count().sort_index()"
   ]
  },
  {
   "cell_type": "code",
   "execution_count": 9,
   "metadata": {},
   "outputs": [],
   "source": [
    "df.drop(columns=redundant_features, inplace=True)"
   ]
  },
  {
   "cell_type": "code",
   "execution_count": 10,
   "metadata": {},
   "outputs": [
    {
     "name": "stdout",
     "output_type": "stream",
     "text": [
      "<class 'pandas.core.frame.DataFrame'>\n",
      "RangeIndex: 32561 entries, 0 to 32560\n",
      "Data columns (total 14 columns):\n",
      " #   Column          Non-Null Count  Dtype   \n",
      "---  ------          --------------  -----   \n",
      " 0   age             32561 non-null  int64   \n",
      " 1   workclass       32561 non-null  category\n",
      " 2   fnlwgt          32561 non-null  int64   \n",
      " 3   education-num   32561 non-null  category\n",
      " 4   marital-status  32561 non-null  category\n",
      " 5   occupation      32561 non-null  category\n",
      " 6   relationship    32561 non-null  category\n",
      " 7   race            32561 non-null  category\n",
      " 8   sex             32561 non-null  category\n",
      " 9   capital-gain    32561 non-null  int64   \n",
      " 10  capital-loss    32561 non-null  int64   \n",
      " 11  hours-per-week  32561 non-null  int64   \n",
      " 12  native-country  32561 non-null  category\n",
      " 13  income          32561 non-null  category\n",
      "dtypes: category(9), int64(5)\n",
      "memory usage: 1.5 MB\n"
     ]
    }
   ],
   "source": [
    "for col in nominal_features:\n",
    "    df.loc[:, col] = df[col].astype(\"category\")\n",
    "\n",
    "for col in ordinal_features:\n",
    "    df.loc[:, col] = df[col].astype(\"category\")\n",
    "\n",
    "df.loc[:, target_column] = df.loc[:, target_column].astype(\"category\")\n",
    "\n",
    "df.info()"
   ]
  },
  {
   "cell_type": "code",
   "execution_count": 11,
   "metadata": {},
   "outputs": [],
   "source": [
    "for col in nominal_features:\n",
    "    df.loc[:, col] = df.loc[:, col].apply(lambda text: text.strip())"
   ]
  },
  {
   "cell_type": "code",
   "execution_count": 12,
   "metadata": {},
   "outputs": [
    {
     "data": {
      "text/plain": [
       "((29304, 13), (3257, 13))"
      ]
     },
     "execution_count": 12,
     "metadata": {},
     "output_type": "execute_result"
    }
   ],
   "source": [
    "# split training and test set\n",
    "from sklearn.model_selection import train_test_split\n",
    "\n",
    "X = df.iloc[:, :-1]\n",
    "y = df.iloc[:, -1]\n",
    "X_train, X_test, y_train, y_test = train_test_split(\n",
    "    X, y, test_size=0.1, stratify=y, random_state=42\n",
    ")\n",
    "\n",
    "X_train.shape, X_test.shape"
   ]
  },
  {
   "cell_type": "code",
   "execution_count": 13,
   "metadata": {},
   "outputs": [],
   "source": [
    "from sklearn.preprocessing import LabelEncoder\n",
    "\n",
    "target_encoder = LabelEncoder()\n",
    "y_train = target_encoder.fit_transform(y_train)"
   ]
  },
  {
   "cell_type": "code",
   "execution_count": 14,
   "metadata": {},
   "outputs": [
    {
     "data": {
      "text/plain": [
       "array([' <=50K', ' >50K'], dtype=object)"
      ]
     },
     "execution_count": 14,
     "metadata": {},
     "output_type": "execute_result"
    }
   ],
   "source": [
    "target_encoder.classes_"
   ]
  },
  {
   "cell_type": "code",
   "execution_count": 15,
   "metadata": {},
   "outputs": [
    {
     "data": {
      "text/html": [
       "<div>\n",
       "<style scoped>\n",
       "    .dataframe tbody tr th:only-of-type {\n",
       "        vertical-align: middle;\n",
       "    }\n",
       "\n",
       "    .dataframe tbody tr th {\n",
       "        vertical-align: top;\n",
       "    }\n",
       "\n",
       "    .dataframe thead th {\n",
       "        text-align: right;\n",
       "    }\n",
       "</style>\n",
       "<table border=\"1\" class=\"dataframe\">\n",
       "  <thead>\n",
       "    <tr style=\"text-align: right;\">\n",
       "      <th></th>\n",
       "      <th>age</th>\n",
       "      <th>fnlwgt</th>\n",
       "      <th>capital-gain</th>\n",
       "      <th>capital-loss</th>\n",
       "      <th>hours-per-week</th>\n",
       "    </tr>\n",
       "  </thead>\n",
       "  <tbody>\n",
       "    <tr>\n",
       "      <th>count</th>\n",
       "      <td>29304.000000</td>\n",
       "      <td>2.930400e+04</td>\n",
       "      <td>29304.000000</td>\n",
       "      <td>29304.000000</td>\n",
       "      <td>29304.000000</td>\n",
       "    </tr>\n",
       "    <tr>\n",
       "      <th>mean</th>\n",
       "      <td>38.573539</td>\n",
       "      <td>1.897929e+05</td>\n",
       "      <td>1074.151276</td>\n",
       "      <td>87.560947</td>\n",
       "      <td>40.451167</td>\n",
       "    </tr>\n",
       "    <tr>\n",
       "      <th>std</th>\n",
       "      <td>13.631085</td>\n",
       "      <td>1.054498e+05</td>\n",
       "      <td>7362.461438</td>\n",
       "      <td>403.761129</td>\n",
       "      <td>12.380112</td>\n",
       "    </tr>\n",
       "    <tr>\n",
       "      <th>min</th>\n",
       "      <td>17.000000</td>\n",
       "      <td>1.228500e+04</td>\n",
       "      <td>0.000000</td>\n",
       "      <td>0.000000</td>\n",
       "      <td>1.000000</td>\n",
       "    </tr>\n",
       "    <tr>\n",
       "      <th>25%</th>\n",
       "      <td>28.000000</td>\n",
       "      <td>1.179245e+05</td>\n",
       "      <td>0.000000</td>\n",
       "      <td>0.000000</td>\n",
       "      <td>40.000000</td>\n",
       "    </tr>\n",
       "    <tr>\n",
       "      <th>50%</th>\n",
       "      <td>37.000000</td>\n",
       "      <td>1.783545e+05</td>\n",
       "      <td>0.000000</td>\n",
       "      <td>0.000000</td>\n",
       "      <td>40.000000</td>\n",
       "    </tr>\n",
       "    <tr>\n",
       "      <th>75%</th>\n",
       "      <td>48.000000</td>\n",
       "      <td>2.369522e+05</td>\n",
       "      <td>0.000000</td>\n",
       "      <td>0.000000</td>\n",
       "      <td>45.000000</td>\n",
       "    </tr>\n",
       "    <tr>\n",
       "      <th>max</th>\n",
       "      <td>90.000000</td>\n",
       "      <td>1.484705e+06</td>\n",
       "      <td>99999.000000</td>\n",
       "      <td>4356.000000</td>\n",
       "      <td>99.000000</td>\n",
       "    </tr>\n",
       "  </tbody>\n",
       "</table>\n",
       "</div>"
      ],
      "text/plain": [
       "                age        fnlwgt  capital-gain  capital-loss  hours-per-week\n",
       "count  29304.000000  2.930400e+04  29304.000000  29304.000000    29304.000000\n",
       "mean      38.573539  1.897929e+05   1074.151276     87.560947       40.451167\n",
       "std       13.631085  1.054498e+05   7362.461438    403.761129       12.380112\n",
       "min       17.000000  1.228500e+04      0.000000      0.000000        1.000000\n",
       "25%       28.000000  1.179245e+05      0.000000      0.000000       40.000000\n",
       "50%       37.000000  1.783545e+05      0.000000      0.000000       40.000000\n",
       "75%       48.000000  2.369522e+05      0.000000      0.000000       45.000000\n",
       "max       90.000000  1.484705e+06  99999.000000   4356.000000       99.000000"
      ]
     },
     "execution_count": 15,
     "metadata": {},
     "output_type": "execute_result"
    }
   ],
   "source": [
    "df_train = X_train.copy()\n",
    "df_train.describe()"
   ]
  },
  {
   "cell_type": "code",
   "execution_count": 16,
   "metadata": {},
   "outputs": [
    {
     "data": {
      "text/plain": [
       "0    0.75918\n",
       "1    0.24082\n",
       "dtype: float64"
      ]
     },
     "execution_count": 16,
     "metadata": {},
     "output_type": "execute_result"
    }
   ],
   "source": [
    "classes, counts = np.unique(y_train, return_counts=True)\n",
    "pd.Series(counts, index=classes) / y_train.shape[0]"
   ]
  },
  {
   "cell_type": "code",
   "execution_count": 17,
   "metadata": {},
   "outputs": [],
   "source": [
    "df_train.replace(to_replace=\"?\", value=\"other\", inplace=True)"
   ]
  },
  {
   "cell_type": "code",
   "execution_count": 18,
   "metadata": {},
   "outputs": [
    {
     "data": {
      "text/plain": [
       "Index(['age', 'workclass', 'fnlwgt', 'education-num', 'marital-status',\n",
       "       'occupation', 'relationship', 'race', 'sex', 'capital-gain',\n",
       "       'capital-loss', 'hours-per-week', 'native-country'],\n",
       "      dtype='object')"
      ]
     },
     "execution_count": 18,
     "metadata": {},
     "output_type": "execute_result"
    }
   ],
   "source": [
    "df_train.columns"
   ]
  },
  {
   "cell_type": "code",
   "execution_count": 20,
   "metadata": {},
   "outputs": [
    {
     "name": "stdout",
     "output_type": "stream",
     "text": [
      "0:\ttest: 0.8896206\tbest: 0.8896206 (0)\ttotal: 133ms\tremaining: 2m 13s\n",
      "100:\ttest: 0.9216147\tbest: 0.9216147 (100)\ttotal: 4.64s\tremaining: 41.3s\n",
      "200:\ttest: 0.9258446\tbest: 0.9258682 (198)\ttotal: 9.2s\tremaining: 36.6s\n",
      "300:\ttest: 0.9298765\tbest: 0.9298765 (300)\ttotal: 14.3s\tremaining: 33.1s\n",
      "400:\ttest: 0.9306598\tbest: 0.9306598 (400)\ttotal: 18.7s\tremaining: 28s\n",
      "500:\ttest: 0.9309947\tbest: 0.9310221 (498)\ttotal: 22.4s\tremaining: 22.3s\n",
      "600:\ttest: 0.9311787\tbest: 0.9312525 (576)\ttotal: 27.3s\tremaining: 18.1s\n",
      "700:\ttest: 0.9314760\tbest: 0.9314963 (698)\ttotal: 31.7s\tremaining: 13.5s\n",
      "800:\ttest: 0.9315383\tbest: 0.9316275 (782)\ttotal: 36.5s\tremaining: 9.06s\n",
      "900:\ttest: 0.9319407\tbest: 0.9319604 (894)\ttotal: 41s\tremaining: 4.51s\n",
      "999:\ttest: 0.9320616\tbest: 0.9321062 (993)\ttotal: 45.6s\tremaining: 0us\n",
      "\n",
      "bestTest = 0.9321061845\n",
      "bestIteration = 993\n",
      "\n",
      "Shrink model to first 994 iterations.\n",
      "0:\ttest: 0.8800850\tbest: 0.8800850 (0)\ttotal: 64.7ms\tremaining: 1m 4s\n",
      "100:\ttest: 0.9124846\tbest: 0.9124846 (100)\ttotal: 4.23s\tremaining: 37.7s\n",
      "200:\ttest: 0.9164245\tbest: 0.9164296 (199)\ttotal: 8.88s\tremaining: 35.3s\n",
      "300:\ttest: 0.9194898\tbest: 0.9195216 (293)\ttotal: 13.7s\tremaining: 31.8s\n",
      "400:\ttest: 0.9198813\tbest: 0.9198813 (400)\ttotal: 17.7s\tremaining: 26.5s\n",
      "500:\ttest: 0.9202219\tbest: 0.9202225 (499)\ttotal: 21.9s\tremaining: 21.9s\n",
      "600:\ttest: 0.9204825\tbest: 0.9206360 (591)\ttotal: 26.4s\tremaining: 17.5s\n",
      "700:\ttest: 0.9207601\tbest: 0.9207601 (700)\ttotal: 30.8s\tremaining: 13.1s\n",
      "800:\ttest: 0.9208740\tbest: 0.9209212 (776)\ttotal: 35.1s\tremaining: 8.72s\n",
      "900:\ttest: 0.9208772\tbest: 0.9209619 (869)\ttotal: 39.4s\tremaining: 4.32s\n",
      "999:\ttest: 0.9209753\tbest: 0.9210186 (991)\ttotal: 43.8s\tremaining: 0us\n",
      "\n",
      "bestTest = 0.9210185568\n",
      "bestIteration = 991\n",
      "\n",
      "Shrink model to first 992 iterations.\n",
      "0:\ttest: 0.8730528\tbest: 0.8730528 (0)\ttotal: 58.3ms\tremaining: 58.3s\n",
      "100:\ttest: 0.9162412\tbest: 0.9162412 (100)\ttotal: 4.52s\tremaining: 40.2s\n",
      "200:\ttest: 0.9212716\tbest: 0.9212716 (200)\ttotal: 8.89s\tremaining: 35.3s\n",
      "300:\ttest: 0.9247353\tbest: 0.9247353 (300)\ttotal: 13.1s\tremaining: 30.4s\n",
      "400:\ttest: 0.9262205\tbest: 0.9262473 (395)\ttotal: 17.3s\tremaining: 25.9s\n",
      "500:\ttest: 0.9272709\tbest: 0.9272875 (497)\ttotal: 21.6s\tremaining: 21.5s\n",
      "600:\ttest: 0.9276452\tbest: 0.9276452 (600)\ttotal: 25.9s\tremaining: 17.2s\n",
      "700:\ttest: 0.9276516\tbest: 0.9277910 (685)\ttotal: 30.2s\tremaining: 12.9s\n",
      "800:\ttest: 0.9278731\tbest: 0.9279616 (784)\ttotal: 34.4s\tremaining: 8.54s\n",
      "900:\ttest: 0.9281265\tbest: 0.9281265 (900)\ttotal: 38.5s\tremaining: 4.23s\n",
      "999:\ttest: 0.9279171\tbest: 0.9281711 (938)\ttotal: 42.9s\tremaining: 0us\n",
      "\n",
      "bestTest = 0.9281710539\n",
      "bestIteration = 938\n",
      "\n",
      "Shrink model to first 939 iterations.\n",
      "0:\ttest: 0.8907044\tbest: 0.8907044 (0)\ttotal: 53.6ms\tremaining: 53.6s\n",
      "100:\ttest: 0.9259169\tbest: 0.9259169 (100)\ttotal: 4.12s\tremaining: 36.6s\n",
      "200:\ttest: 0.9307066\tbest: 0.9307219 (199)\ttotal: 8.08s\tremaining: 32.1s\n",
      "300:\ttest: 0.9335417\tbest: 0.9335634 (299)\ttotal: 12.3s\tremaining: 28.5s\n",
      "400:\ttest: 0.9345440\tbest: 0.9345440 (400)\ttotal: 16.1s\tremaining: 24s\n",
      "500:\ttest: 0.9349613\tbest: 0.9349785 (497)\ttotal: 19.4s\tremaining: 19.3s\n",
      "600:\ttest: 0.9353426\tbest: 0.9353426 (600)\ttotal: 22.6s\tremaining: 15s\n",
      "700:\ttest: 0.9355126\tbest: 0.9355756 (687)\ttotal: 26.2s\tremaining: 11.2s\n",
      "800:\ttest: 0.9357322\tbest: 0.9357915 (777)\ttotal: 30.1s\tremaining: 7.48s\n",
      "900:\ttest: 0.9358405\tbest: 0.9358405 (900)\ttotal: 33.8s\tremaining: 3.71s\n",
      "999:\ttest: 0.9361212\tbest: 0.9361308 (996)\ttotal: 37.5s\tremaining: 0us\n",
      "\n",
      "bestTest = 0.9361307572\n",
      "bestIteration = 996\n",
      "\n",
      "Shrink model to first 997 iterations.\n",
      "0:\ttest: 0.8766018\tbest: 0.8766018 (0)\ttotal: 56.5ms\tremaining: 56.5s\n",
      "100:\ttest: 0.9134564\tbest: 0.9134564 (100)\ttotal: 3.58s\tremaining: 31.9s\n",
      "200:\ttest: 0.9188994\tbest: 0.9189092 (195)\ttotal: 6.85s\tremaining: 27.2s\n",
      "300:\ttest: 0.9225408\tbest: 0.9225408 (300)\ttotal: 10.7s\tremaining: 24.9s\n",
      "400:\ttest: 0.9239904\tbest: 0.9239923 (399)\ttotal: 14.3s\tremaining: 21.3s\n",
      "500:\ttest: 0.9241724\tbest: 0.9242273 (478)\ttotal: 17.6s\tremaining: 17.5s\n",
      "600:\ttest: 0.9244931\tbest: 0.9244944 (573)\ttotal: 20.8s\tremaining: 13.8s\n",
      "700:\ttest: 0.9248775\tbest: 0.9248775 (700)\ttotal: 24.4s\tremaining: 10.4s\n",
      "800:\ttest: 0.9249725\tbest: 0.9249935 (797)\ttotal: 28s\tremaining: 6.95s\n",
      "900:\ttest: 0.9249993\tbest: 0.9250924 (884)\ttotal: 31.3s\tremaining: 3.44s\n",
      "Stopped by overfitting detector  (100 iterations wait)\n",
      "\n",
      "bestTest = 0.925092358\n",
      "bestIteration = 884\n",
      "\n",
      "Shrink model to first 885 iterations.\n",
      "0:\ttest: 0.8806923\tbest: 0.8806923 (0)\ttotal: 31.7ms\tremaining: 31.6s\n",
      "100:\ttest: 0.9235410\tbest: 0.9235410 (100)\ttotal: 3.21s\tremaining: 28.5s\n",
      "200:\ttest: 0.9286512\tbest: 0.9286582 (199)\ttotal: 6.47s\tremaining: 25.7s\n",
      "300:\ttest: 0.9328125\tbest: 0.9328125 (300)\ttotal: 9.79s\tremaining: 22.7s\n",
      "400:\ttest: 0.9342450\tbest: 0.9342450 (400)\ttotal: 13s\tremaining: 19.4s\n",
      "500:\ttest: 0.9343642\tbest: 0.9344464 (492)\ttotal: 16.3s\tremaining: 16.3s\n",
      "600:\ttest: 0.9352022\tbest: 0.9352911 (563)\ttotal: 19.9s\tremaining: 13.2s\n",
      "Stopped by overfitting detector  (100 iterations wait)\n",
      "\n",
      "bestTest = 0.9352910989\n",
      "bestIteration = 563\n",
      "\n",
      "Shrink model to first 564 iterations.\n",
      "0:\ttest: 0.8771698\tbest: 0.8771698 (0)\ttotal: 41.9ms\tremaining: 41.8s\n",
      "100:\ttest: 0.9156338\tbest: 0.9156338 (100)\ttotal: 3.15s\tremaining: 28s\n",
      "200:\ttest: 0.9188203\tbest: 0.9188203 (200)\ttotal: 6.19s\tremaining: 24.6s\n",
      "300:\ttest: 0.9230007\tbest: 0.9230071 (296)\ttotal: 9.6s\tremaining: 22.3s\n",
      "400:\ttest: 0.9241068\tbest: 0.9241068 (400)\ttotal: 12.9s\tremaining: 19.2s\n",
      "500:\ttest: 0.9243943\tbest: 0.9244498 (490)\ttotal: 16.3s\tremaining: 16.2s\n",
      "600:\ttest: 0.9248979\tbest: 0.9249470 (597)\ttotal: 19.5s\tremaining: 13s\n",
      "700:\ttest: 0.9251771\tbest: 0.9252186 (689)\ttotal: 22.8s\tremaining: 9.73s\n",
      "Stopped by overfitting detector  (100 iterations wait)\n",
      "\n",
      "bestTest = 0.9252185832\n",
      "bestIteration = 689\n",
      "\n",
      "Shrink model to first 690 iterations.\n",
      "0:\ttest: 0.8486110\tbest: 0.8486110 (0)\ttotal: 31.1ms\tremaining: 31.1s\n",
      "100:\ttest: 0.9190520\tbest: 0.9190520 (100)\ttotal: 3.06s\tremaining: 27.2s\n",
      "200:\ttest: 0.9229396\tbest: 0.9229396 (200)\ttotal: 6.21s\tremaining: 24.7s\n",
      "300:\ttest: 0.9256202\tbest: 0.9256202 (300)\ttotal: 9.54s\tremaining: 22.2s\n",
      "400:\ttest: 0.9261950\tbest: 0.9262064 (397)\ttotal: 12.7s\tremaining: 18.9s\n",
      "500:\ttest: 0.9263462\tbest: 0.9263825 (491)\ttotal: 15.9s\tremaining: 15.9s\n",
      "600:\ttest: 0.9264494\tbest: 0.9264494 (600)\ttotal: 19s\tremaining: 12.6s\n",
      "700:\ttest: 0.9265946\tbest: 0.9266004 (695)\ttotal: 22.1s\tremaining: 9.44s\n",
      "800:\ttest: 0.9267265\tbest: 0.9268150 (750)\ttotal: 25.8s\tremaining: 6.4s\n",
      "900:\ttest: 0.9267621\tbest: 0.9268889 (870)\ttotal: 29.1s\tremaining: 3.2s\n",
      "Stopped by overfitting detector  (100 iterations wait)\n",
      "\n",
      "bestTest = 0.9268888713\n",
      "bestIteration = 870\n",
      "\n",
      "Shrink model to first 871 iterations.\n",
      "0:\ttest: 0.8746007\tbest: 0.8746007 (0)\ttotal: 46ms\tremaining: 46s\n",
      "100:\ttest: 0.9135758\tbest: 0.9135758 (100)\ttotal: 3.27s\tremaining: 29.1s\n",
      "200:\ttest: 0.9214031\tbest: 0.9214031 (200)\ttotal: 6.73s\tremaining: 26.7s\n",
      "300:\ttest: 0.9259011\tbest: 0.9259202 (298)\ttotal: 9.88s\tremaining: 23s\n",
      "400:\ttest: 0.9270166\tbest: 0.9270166 (400)\ttotal: 13s\tremaining: 19.4s\n",
      "500:\ttest: 0.9278544\tbest: 0.9278639 (496)\ttotal: 16.2s\tremaining: 16.2s\n",
      "600:\ttest: 0.9284219\tbest: 0.9284219 (600)\ttotal: 19.4s\tremaining: 12.9s\n",
      "700:\ttest: 0.9291766\tbest: 0.9292307 (691)\ttotal: 22.7s\tremaining: 9.68s\n",
      "800:\ttest: 0.9295370\tbest: 0.9295453 (780)\ttotal: 27.2s\tremaining: 6.77s\n",
      "900:\ttest: 0.9297918\tbest: 0.9298612 (890)\ttotal: 30.5s\tremaining: 3.35s\n",
      "999:\ttest: 0.9302739\tbest: 0.9302949 (997)\ttotal: 33.8s\tremaining: 0us\n",
      "\n",
      "bestTest = 0.9302949284\n",
      "bestIteration = 997\n",
      "\n",
      "Shrink model to first 998 iterations.\n",
      "0:\ttest: 0.8437290\tbest: 0.8437290 (0)\ttotal: 32.3ms\tremaining: 32.3s\n",
      "100:\ttest: 0.9179129\tbest: 0.9179129 (100)\ttotal: 3.42s\tremaining: 30.4s\n",
      "200:\ttest: 0.9228947\tbest: 0.9228947 (200)\ttotal: 7.11s\tremaining: 28.2s\n",
      "300:\ttest: 0.9265774\tbest: 0.9265774 (300)\ttotal: 11.9s\tremaining: 27.6s\n",
      "400:\ttest: 0.9278547\tbest: 0.9278878 (392)\ttotal: 15.3s\tremaining: 22.9s\n",
      "500:\ttest: 0.9283868\tbest: 0.9284212 (491)\ttotal: 18.7s\tremaining: 18.6s\n",
      "600:\ttest: 0.9285944\tbest: 0.9286059 (552)\ttotal: 22.2s\tremaining: 14.7s\n",
      "700:\ttest: 0.9288231\tbest: 0.9288747 (679)\ttotal: 25.7s\tremaining: 11s\n",
      "800:\ttest: 0.9291317\tbest: 0.9291603 (798)\ttotal: 29.1s\tremaining: 7.23s\n",
      "900:\ttest: 0.9293138\tbest: 0.9294501 (873)\ttotal: 32.9s\tremaining: 3.62s\n"
     ]
    },
    {
     "name": "stdout",
     "output_type": "stream",
     "text": [
      "Stopped by overfitting detector  (100 iterations wait)\n",
      "\n",
      "bestTest = 0.9294501014\n",
      "bestIteration = 873\n",
      "\n",
      "Shrink model to first 874 iterations.\n"
     ]
    }
   ],
   "source": [
    "from catboost import CatBoostClassifier, Pool\n",
    "from sklearn.metrics import roc_auc_score\n",
    "from sklearn.model_selection import StratifiedKFold\n",
    "\n",
    "skf = StratifiedKFold(n_splits=10, shuffle=True, random_state=42)\n",
    "roc_auc_vals = []\n",
    "cv_oob_prob = pd.Series(np.full_like(y_train, fill_value=0.0))\n",
    "\n",
    "cat_feat = nominal_features + ordinal_features\n",
    "\n",
    "#  only one of the parameters iterations, n_estimators,\n",
    "# num_boost_round, num_trees should be initialized.\n",
    "for train_idx, valid_idx in skf.split(df_train, y_train):\n",
    "    X_train_cv, y_train_cv = df_train.iloc[train_idx], y_train[train_idx]\n",
    "    X_valid_cv, y_valid_cv = df_train.iloc[valid_idx], y_train[valid_idx]\n",
    "    model = CatBoostClassifier(\n",
    "        loss_function=\"Logloss\",\n",
    "        eval_metric=\"AUC\",\n",
    "        task_type=\"CPU\",\n",
    "        iterations=1000,\n",
    "        learning_rate=0.05,\n",
    "        random_state=42,\n",
    "        depth=5,\n",
    "        early_stopping_rounds=100,\n",
    "        cat_features=cat_feat,\n",
    "    )\n",
    "\n",
    "    _train = Pool(X_train_cv, label=y_train_cv, cat_features=cat_feat)\n",
    "    _valid = Pool(X_valid_cv, label=y_valid_cv, cat_features=cat_feat)\n",
    "    fit_model = model.fit(_train, eval_set=_valid, use_best_model=True, verbose=200)\n",
    "    p_valid = fit_model.predict_proba(X_valid_cv)[:, -1]\n",
    "    cv_oob_prob[valid_idx] = p_valid\n",
    "    roc_auc_vals.append(roc_auc_score(y_valid_cv, p_valid))"
   ]
  },
  {
   "cell_type": "code",
   "execution_count": 21,
   "metadata": {},
   "outputs": [
    {
     "data": {
      "text/plain": [
       "0.9288088156086013"
      ]
     },
     "execution_count": 21,
     "metadata": {},
     "output_type": "execute_result"
    }
   ],
   "source": [
    "overall_roc_auc = roc_auc_score(y_train, cv_oob_prob)\n",
    "overall_roc_auc"
   ]
  },
  {
   "cell_type": "code",
   "execution_count": 22,
   "metadata": {},
   "outputs": [
    {
     "data": {
      "text/plain": [
       "(0.9289662493601032, 0.004476139818443479)"
      ]
     },
     "execution_count": 22,
     "metadata": {},
     "output_type": "execute_result"
    }
   ],
   "source": [
    "np.mean(roc_auc_vals), np.std(roc_auc_vals)"
   ]
  },
  {
   "cell_type": "code",
   "execution_count": 23,
   "metadata": {},
   "outputs": [
    {
     "data": {
      "text/plain": [
       "{'nan_mode': 'Min',\n",
       " 'eval_metric': 'AUC',\n",
       " 'combinations_ctr': ['Borders:CtrBorderCount=15:CtrBorderType=Uniform:TargetBorderCount=1:TargetBorderType=MinEntropy:Prior=0/1:Prior=0.5/1:Prior=1/1',\n",
       "  'Counter:CtrBorderCount=15:CtrBorderType=Uniform:Prior=0/1'],\n",
       " 'iterations': 1000,\n",
       " 'sampling_frequency': 'PerTree',\n",
       " 'fold_permutation_block': 0,\n",
       " 'leaf_estimation_method': 'Newton',\n",
       " 'od_pval': 0,\n",
       " 'counter_calc_method': 'SkipTest',\n",
       " 'grow_policy': 'SymmetricTree',\n",
       " 'penalties_coefficient': 1,\n",
       " 'boosting_type': 'Plain',\n",
       " 'model_shrink_mode': 'Constant',\n",
       " 'feature_border_type': 'GreedyLogSum',\n",
       " 'ctr_leaf_count_limit': 18446744073709551615,\n",
       " 'bayesian_matrix_reg': 0.10000000149011612,\n",
       " 'one_hot_max_size': 2,\n",
       " 'l2_leaf_reg': 3,\n",
       " 'random_strength': 1,\n",
       " 'od_type': 'Iter',\n",
       " 'rsm': 1,\n",
       " 'boost_from_average': False,\n",
       " 'max_ctr_complexity': 4,\n",
       " 'model_size_reg': 0.5,\n",
       " 'simple_ctr': ['Borders:CtrBorderCount=15:CtrBorderType=Uniform:TargetBorderCount=1:TargetBorderType=MinEntropy:Prior=0/1:Prior=0.5/1:Prior=1/1',\n",
       "  'Counter:CtrBorderCount=15:CtrBorderType=Uniform:Prior=0/1'],\n",
       " 'subsample': 0.800000011920929,\n",
       " 'use_best_model': True,\n",
       " 'od_wait': 100,\n",
       " 'class_names': [0, 1],\n",
       " 'random_seed': 42,\n",
       " 'depth': 5,\n",
       " 'ctr_target_border_count': 1,\n",
       " 'posterior_sampling': False,\n",
       " 'has_time': False,\n",
       " 'store_all_simple_ctr': False,\n",
       " 'border_count': 254,\n",
       " 'classes_count': 0,\n",
       " 'auto_class_weights': 'None',\n",
       " 'sparse_features_conflict_fraction': 0,\n",
       " 'leaf_estimation_backtracking': 'AnyImprovement',\n",
       " 'best_model_min_trees': 1,\n",
       " 'model_shrink_rate': 0,\n",
       " 'min_data_in_leaf': 1,\n",
       " 'loss_function': 'Logloss',\n",
       " 'learning_rate': 0.05000000074505806,\n",
       " 'score_function': 'Cosine',\n",
       " 'task_type': 'CPU',\n",
       " 'leaf_estimation_iterations': 10,\n",
       " 'bootstrap_type': 'MVS',\n",
       " 'max_leaves': 32,\n",
       " 'permutation_count': 4}"
      ]
     },
     "execution_count": 23,
     "metadata": {},
     "output_type": "execute_result"
    }
   ],
   "source": [
    "model.get_all_params()"
   ]
  },
  {
   "cell_type": "code",
   "execution_count": 25,
   "metadata": {},
   "outputs": [
    {
     "name": "stdout",
     "output_type": "stream",
     "text": [
      "0:\ttotal: 36.1ms\tremaining: 36s\n",
      "200:\ttotal: 9.18s\tremaining: 36.5s\n",
      "400:\ttotal: 18.4s\tremaining: 27.4s\n",
      "600:\ttotal: 27.7s\tremaining: 18.4s\n",
      "800:\ttotal: 37s\tremaining: 9.18s\n",
      "999:\ttotal: 46.6s\tremaining: 0us\n"
     ]
    },
    {
     "data": {
      "text/plain": [
       "<catboost.core.CatBoostClassifier at 0x7f72818c3370>"
      ]
     },
     "execution_count": 25,
     "metadata": {},
     "output_type": "execute_result"
    }
   ],
   "source": [
    "model.fit(df_train, y_train, cat_features=cat_feat, verbose=200)"
   ]
  },
  {
   "cell_type": "code",
   "execution_count": null,
   "metadata": {},
   "outputs": [],
   "source": [
    "y_test = target_encoder.transform(y_test)"
   ]
  },
  {
   "cell_type": "code",
   "execution_count": 27,
   "metadata": {},
   "outputs": [],
   "source": [
    "df_test = X_test.copy()\n",
    "df_test.replace(to_replace=\"?\", value=\"other\", inplace=True)"
   ]
  },
  {
   "cell_type": "code",
   "execution_count": 29,
   "metadata": {},
   "outputs": [
    {
     "data": {
      "text/plain": [
       "0.935737598719229"
      ]
     },
     "execution_count": 29,
     "metadata": {},
     "output_type": "execute_result"
    }
   ],
   "source": [
    "y_test_prob = model.predict_proba(df_test)[:, 1]\n",
    "roc_auc_score(y_test, y_test_prob)"
   ]
  },
  {
   "cell_type": "code",
   "execution_count": 30,
   "metadata": {},
   "outputs": [
    {
     "data": {
      "text/plain": [
       "0.8805649370586429"
      ]
     },
     "execution_count": 30,
     "metadata": {},
     "output_type": "execute_result"
    },
    {
     "data": {
      "text/plain": [
       "array([[2358,  115],\n",
       "       [ 274,  510]])"
      ]
     },
     "execution_count": 30,
     "metadata": {},
     "output_type": "execute_result"
    },
    {
     "data": {
      "text/plain": [
       "0.816"
      ]
     },
     "execution_count": 30,
     "metadata": {},
     "output_type": "execute_result"
    },
    {
     "data": {
      "text/plain": [
       "0.6505102040816326"
      ]
     },
     "execution_count": 30,
     "metadata": {},
     "output_type": "execute_result"
    }
   ],
   "source": [
    "from sklearn.metrics import accuracy_score, confusion_matrix, precision_score, recall_score\n",
    "\n",
    "y_hat = model.predict(df_test)\n",
    "\n",
    "accuracy_score(y_test, y_hat)\n",
    "confusion_matrix(y_test, y_hat)\n",
    "precision_score(y_test, y_hat)\n",
    "recall_score(y_test, y_hat)"
   ]
  },
  {
   "cell_type": "code",
   "execution_count": 33,
   "metadata": {},
   "outputs": [
    {
     "name": "stdout",
     "output_type": "stream",
     "text": [
      "              precision    recall  f1-score   support\n",
      "\n",
      "           0       0.90      0.95      0.92      2473\n",
      "           1       0.82      0.65      0.72       784\n",
      "\n",
      "    accuracy                           0.88      3257\n",
      "   macro avg       0.86      0.80      0.82      3257\n",
      "weighted avg       0.88      0.88      0.88      3257\n",
      "\n"
     ]
    }
   ],
   "source": [
    "from sklearn.metrics import classification_report\n",
    "\n",
    "print(classification_report(y_test, y_hat))"
   ]
  },
  {
   "cell_type": "markdown",
   "metadata": {},
   "source": [
    "## References\n",
    "\n",
    "[Catboost using GPU](https://www.kaggle.com/baomengjiao/5kflod-catboost-using-gpu)"
   ]
  }
 ],
 "metadata": {
  "kernelspec": {
   "display_name": "Python 3",
   "language": "python",
   "name": "python3"
  },
  "language_info": {
   "codemirror_mode": {
    "name": "ipython",
    "version": 3
   },
   "file_extension": ".py",
   "mimetype": "text/x-python",
   "name": "python",
   "nbconvert_exporter": "python",
   "pygments_lexer": "ipython3",
   "version": "3.8.0"
  }
 },
 "nbformat": 4,
 "nbformat_minor": 4
}
